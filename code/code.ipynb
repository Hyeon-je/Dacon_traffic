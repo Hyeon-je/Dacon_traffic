{
 "cells": [
  {
   "cell_type": "code",
   "execution_count": 1,
   "metadata": {
    "executionInfo": {
     "elapsed": 1908,
     "status": "ok",
     "timestamp": 1665665842466,
     "user": {
      "displayName": "성현제",
      "userId": "04212636937837625659"
     },
     "user_tz": -540
    },
    "id": "fRTY2Cct3Cs0"
   },
   "outputs": [],
   "source": [
    "import numpy as np\n",
    "import pandas as pd\n",
    "from matplotlib import pyplot as plt\n",
    "%matplotlib inline\n",
    "import seaborn as sns\n",
    "import re\n",
    "from datetime import datetime\n",
    "# matplotlib의 폰트를 Nanum 폰트로 지정\n",
    "import matplotlib.pyplot as plt\n",
    "plt.rc('font', family='NanumBarunGothic') \n",
    "import gc\n",
    "import pandas as pd\n",
    "import numpy as np\n",
    "from bokeh.plotting import figure, output_file, output_notebook, show"
   ]
  },
  {
   "cell_type": "code",
   "execution_count": 2,
   "metadata": {},
   "outputs": [],
   "source": [
    "# 주피터 목차 생성\n",
    "# pip install jupyter_contrib_nbextensions && jupyter contrib nbextension install"
   ]
  },
  {
   "cell_type": "code",
   "execution_count": 3,
   "metadata": {},
   "outputs": [],
   "source": [
    "# pip install pyarrow"
   ]
  },
  {
   "cell_type": "code",
   "execution_count": 4,
   "metadata": {},
   "outputs": [],
   "source": [
    "# pip install fastparquet"
   ]
  },
  {
   "cell_type": "code",
   "execution_count": 5,
   "metadata": {
    "colab": {
     "base_uri": "https://localhost:8080/"
    },
    "executionInfo": {
     "elapsed": 9,
     "status": "ok",
     "timestamp": 1665665842467,
     "user": {
      "displayName": "성현제",
      "userId": "04212636937837625659"
     },
     "user_tz": -540
    },
    "id": "RQ7jpiF03C0d",
    "outputId": "f9c5d530-c092-4c1d-e8f4-e66cad5e84c9"
   },
   "outputs": [],
   "source": [
    "data_dir_ = 'C:/Users/guswp/Desktop/project/data/'"
   ]
  },
  {
   "cell_type": "code",
   "execution_count": 6,
   "metadata": {
    "executionInfo": {
     "elapsed": 7,
     "status": "ok",
     "timestamp": 1665665842467,
     "user": {
      "displayName": "성현제",
      "userId": "04212636937837625659"
     },
     "user_tz": -540
    },
    "id": "pV_IXnM5JqgB"
   },
   "outputs": [],
   "source": [
    "# def csv_to_parquet(csv_path, save_name):\n",
    "#     df = pd.read_csv(data_dir_ + csv_path)\n",
    "#     df.to_parquet(data_dir_ + f'{save_name}.parquet')\n",
    "#     del df\n",
    "#     gc.collect()\n",
    "#     print(save_name, 'Done.')"
   ]
  },
  {
   "cell_type": "code",
   "execution_count": 7,
   "metadata": {
    "executionInfo": {
     "elapsed": 7,
     "status": "ok",
     "timestamp": 1665665842468,
     "user": {
      "displayName": "성현제",
      "userId": "04212636937837625659"
     },
     "user_tz": -540
    },
    "id": "6ouJjzddJ8ig"
   },
   "outputs": [],
   "source": [
    "# csv_to_parquet('train.csv', 'train')\n",
    "# csv_to_parquet('test.csv', 'test')"
   ]
  },
  {
   "cell_type": "code",
   "execution_count": 8,
   "metadata": {
    "executionInfo": {
     "elapsed": 8653,
     "status": "ok",
     "timestamp": 1665665851798,
     "user": {
      "displayName": "성현제",
      "userId": "04212636937837625659"
     },
     "user_tz": -540
    },
    "id": "D2LKgXAVJ8p2"
   },
   "outputs": [],
   "source": [
    "train = pd.read_parquet(data_dir_ + 'train.parquet')\n",
    "test = pd.read_parquet(data_dir_ + 'test.parquet')"
   ]
  },
  {
   "cell_type": "code",
   "execution_count": 9,
   "metadata": {
    "executionInfo": {
     "elapsed": 4,
     "status": "ok",
     "timestamp": 1665665851798,
     "user": {
      "displayName": "성현제",
      "userId": "04212636937837625659"
     },
     "user_tz": -540
    },
    "id": "Lp8GNTmHK4XP"
   },
   "outputs": [],
   "source": [
    "str_col = ['day_of_week','start_turn_restricted','end_turn_restricted']"
   ]
  },
  {
   "cell_type": "code",
   "execution_count": 10,
   "metadata": {
    "executionInfo": {
     "elapsed": 1213,
     "status": "ok",
     "timestamp": 1665665853008,
     "user": {
      "displayName": "성현제",
      "userId": "04212636937837625659"
     },
     "user_tz": -540
    },
    "id": "zHKBebqnU-2L"
   },
   "outputs": [],
   "source": [
    "train.drop(['road_in_use'],axis=1,inplace=True)\n",
    "test.drop(['road_in_use'],axis=1,inplace=True)"
   ]
  },
  {
   "cell_type": "code",
   "execution_count": 11,
   "metadata": {
    "colab": {
     "base_uri": "https://localhost:8080/"
    },
    "executionInfo": {
     "elapsed": 10,
     "status": "ok",
     "timestamp": 1665665853009,
     "user": {
      "displayName": "성현제",
      "userId": "04212636937837625659"
     },
     "user_tz": -540
    },
    "id": "_A5-98e9KrFM",
    "outputId": "d2c59684-2cf0-40bf-9141-7620dcc2e41f"
   },
   "outputs": [
    {
     "name": "stdout",
     "output_type": "stream",
     "text": [
      "<class 'pandas.core.frame.DataFrame'>\n",
      "RangeIndex: 4701217 entries, 0 to 4701216\n",
      "Data columns (total 23 columns):\n",
      " #   Column                 Dtype  \n",
      "---  ------                 -----  \n",
      " 0   id                     object \n",
      " 1   base_date              int64  \n",
      " 2   day_of_week            object \n",
      " 3   base_hour              int64  \n",
      " 4   lane_count             int64  \n",
      " 5   road_rating            int64  \n",
      " 6   road_name              object \n",
      " 7   multi_linked           int64  \n",
      " 8   connect_code           int64  \n",
      " 9   maximum_speed_limit    float64\n",
      " 10  vehicle_restricted     float64\n",
      " 11  weight_restricted      float64\n",
      " 12  height_restricted      float64\n",
      " 13  road_type              int64  \n",
      " 14  start_node_name        object \n",
      " 15  start_latitude         float64\n",
      " 16  start_longitude        float64\n",
      " 17  start_turn_restricted  object \n",
      " 18  end_node_name          object \n",
      " 19  end_latitude           float64\n",
      " 20  end_longitude          float64\n",
      " 21  end_turn_restricted    object \n",
      " 22  target                 float64\n",
      "dtypes: float64(9), int64(7), object(7)\n",
      "memory usage: 825.0+ MB\n"
     ]
    }
   ],
   "source": [
    "train.info()"
   ]
  },
  {
   "cell_type": "code",
   "execution_count": 12,
   "metadata": {
    "colab": {
     "base_uri": "https://localhost:8080/",
     "height": 592
    },
    "executionInfo": {
     "elapsed": 2279,
     "status": "ok",
     "timestamp": 1665665855281,
     "user": {
      "displayName": "성현제",
      "userId": "04212636937837625659"
     },
     "user_tz": -540
    },
    "id": "-NExi9pPJ70-",
    "outputId": "36a91227-a413-495b-ff15-ba83e22698e8"
   },
   "outputs": [
    {
     "data": {
      "text/html": [
       "<div>\n",
       "<style scoped>\n",
       "    .dataframe tbody tr th:only-of-type {\n",
       "        vertical-align: middle;\n",
       "    }\n",
       "\n",
       "    .dataframe tbody tr th {\n",
       "        vertical-align: top;\n",
       "    }\n",
       "\n",
       "    .dataframe thead th {\n",
       "        text-align: right;\n",
       "    }\n",
       "</style>\n",
       "<table border=\"1\" class=\"dataframe\">\n",
       "  <thead>\n",
       "    <tr style=\"text-align: right;\">\n",
       "      <th></th>\n",
       "      <th>id</th>\n",
       "      <th>base_date</th>\n",
       "      <th>day_of_week</th>\n",
       "      <th>base_hour</th>\n",
       "      <th>lane_count</th>\n",
       "      <th>road_rating</th>\n",
       "      <th>road_name</th>\n",
       "      <th>multi_linked</th>\n",
       "      <th>connect_code</th>\n",
       "      <th>maximum_speed_limit</th>\n",
       "      <th>vehicle_restricted</th>\n",
       "      <th>weight_restricted</th>\n",
       "      <th>height_restricted</th>\n",
       "      <th>road_type</th>\n",
       "      <th>start_node_name</th>\n",
       "      <th>start_latitude</th>\n",
       "      <th>start_longitude</th>\n",
       "      <th>start_turn_restricted</th>\n",
       "      <th>end_node_name</th>\n",
       "      <th>end_latitude</th>\n",
       "      <th>end_longitude</th>\n",
       "      <th>end_turn_restricted</th>\n",
       "      <th>target</th>\n",
       "    </tr>\n",
       "  </thead>\n",
       "  <tbody>\n",
       "    <tr>\n",
       "      <th>0</th>\n",
       "      <td>TRAIN_0000000</td>\n",
       "      <td>20220623</td>\n",
       "      <td>목</td>\n",
       "      <td>17</td>\n",
       "      <td>1</td>\n",
       "      <td>106</td>\n",
       "      <td>지방도1112호선</td>\n",
       "      <td>0</td>\n",
       "      <td>0</td>\n",
       "      <td>60.0</td>\n",
       "      <td>0.0</td>\n",
       "      <td>32400.0</td>\n",
       "      <td>0.0</td>\n",
       "      <td>3</td>\n",
       "      <td>제3교래교</td>\n",
       "      <td>33.427747</td>\n",
       "      <td>126.662612</td>\n",
       "      <td>없음</td>\n",
       "      <td>제3교래교</td>\n",
       "      <td>33.427749</td>\n",
       "      <td>126.662335</td>\n",
       "      <td>없음</td>\n",
       "      <td>52.0</td>\n",
       "    </tr>\n",
       "    <tr>\n",
       "      <th>1</th>\n",
       "      <td>TRAIN_0000001</td>\n",
       "      <td>20220728</td>\n",
       "      <td>목</td>\n",
       "      <td>21</td>\n",
       "      <td>2</td>\n",
       "      <td>103</td>\n",
       "      <td>일반국도11호선</td>\n",
       "      <td>0</td>\n",
       "      <td>0</td>\n",
       "      <td>60.0</td>\n",
       "      <td>0.0</td>\n",
       "      <td>0.0</td>\n",
       "      <td>0.0</td>\n",
       "      <td>0</td>\n",
       "      <td>광양사거리</td>\n",
       "      <td>33.500730</td>\n",
       "      <td>126.529107</td>\n",
       "      <td>있음</td>\n",
       "      <td>KAL사거리</td>\n",
       "      <td>33.504811</td>\n",
       "      <td>126.526240</td>\n",
       "      <td>없음</td>\n",
       "      <td>30.0</td>\n",
       "    </tr>\n",
       "    <tr>\n",
       "      <th>2</th>\n",
       "      <td>TRAIN_0000002</td>\n",
       "      <td>20211010</td>\n",
       "      <td>일</td>\n",
       "      <td>7</td>\n",
       "      <td>2</td>\n",
       "      <td>103</td>\n",
       "      <td>일반국도16호선</td>\n",
       "      <td>0</td>\n",
       "      <td>0</td>\n",
       "      <td>80.0</td>\n",
       "      <td>0.0</td>\n",
       "      <td>0.0</td>\n",
       "      <td>0.0</td>\n",
       "      <td>0</td>\n",
       "      <td>창고천교</td>\n",
       "      <td>33.279145</td>\n",
       "      <td>126.368598</td>\n",
       "      <td>없음</td>\n",
       "      <td>상창육교</td>\n",
       "      <td>33.280072</td>\n",
       "      <td>126.362147</td>\n",
       "      <td>없음</td>\n",
       "      <td>61.0</td>\n",
       "    </tr>\n",
       "    <tr>\n",
       "      <th>3</th>\n",
       "      <td>TRAIN_0000003</td>\n",
       "      <td>20220311</td>\n",
       "      <td>금</td>\n",
       "      <td>13</td>\n",
       "      <td>2</td>\n",
       "      <td>107</td>\n",
       "      <td>태평로</td>\n",
       "      <td>0</td>\n",
       "      <td>0</td>\n",
       "      <td>50.0</td>\n",
       "      <td>0.0</td>\n",
       "      <td>0.0</td>\n",
       "      <td>0.0</td>\n",
       "      <td>0</td>\n",
       "      <td>남양리조트</td>\n",
       "      <td>33.246081</td>\n",
       "      <td>126.567204</td>\n",
       "      <td>없음</td>\n",
       "      <td>서현주택</td>\n",
       "      <td>33.245565</td>\n",
       "      <td>126.566228</td>\n",
       "      <td>없음</td>\n",
       "      <td>20.0</td>\n",
       "    </tr>\n",
       "    <tr>\n",
       "      <th>4</th>\n",
       "      <td>TRAIN_0000004</td>\n",
       "      <td>20211005</td>\n",
       "      <td>화</td>\n",
       "      <td>8</td>\n",
       "      <td>2</td>\n",
       "      <td>103</td>\n",
       "      <td>일반국도12호선</td>\n",
       "      <td>0</td>\n",
       "      <td>0</td>\n",
       "      <td>80.0</td>\n",
       "      <td>0.0</td>\n",
       "      <td>0.0</td>\n",
       "      <td>0.0</td>\n",
       "      <td>0</td>\n",
       "      <td>애월샷시</td>\n",
       "      <td>33.462214</td>\n",
       "      <td>126.326551</td>\n",
       "      <td>없음</td>\n",
       "      <td>애월입구</td>\n",
       "      <td>33.462677</td>\n",
       "      <td>126.330152</td>\n",
       "      <td>없음</td>\n",
       "      <td>38.0</td>\n",
       "    </tr>\n",
       "    <tr>\n",
       "      <th>...</th>\n",
       "      <td>...</td>\n",
       "      <td>...</td>\n",
       "      <td>...</td>\n",
       "      <td>...</td>\n",
       "      <td>...</td>\n",
       "      <td>...</td>\n",
       "      <td>...</td>\n",
       "      <td>...</td>\n",
       "      <td>...</td>\n",
       "      <td>...</td>\n",
       "      <td>...</td>\n",
       "      <td>...</td>\n",
       "      <td>...</td>\n",
       "      <td>...</td>\n",
       "      <td>...</td>\n",
       "      <td>...</td>\n",
       "      <td>...</td>\n",
       "      <td>...</td>\n",
       "      <td>...</td>\n",
       "      <td>...</td>\n",
       "      <td>...</td>\n",
       "      <td>...</td>\n",
       "      <td>...</td>\n",
       "    </tr>\n",
       "    <tr>\n",
       "      <th>4701212</th>\n",
       "      <td>TRAIN_4701212</td>\n",
       "      <td>20211104</td>\n",
       "      <td>목</td>\n",
       "      <td>16</td>\n",
       "      <td>1</td>\n",
       "      <td>107</td>\n",
       "      <td>-</td>\n",
       "      <td>0</td>\n",
       "      <td>0</td>\n",
       "      <td>50.0</td>\n",
       "      <td>0.0</td>\n",
       "      <td>0.0</td>\n",
       "      <td>0.0</td>\n",
       "      <td>0</td>\n",
       "      <td>대림사거리</td>\n",
       "      <td>33.422145</td>\n",
       "      <td>126.278125</td>\n",
       "      <td>없음</td>\n",
       "      <td>금덕해운</td>\n",
       "      <td>33.420955</td>\n",
       "      <td>126.273750</td>\n",
       "      <td>없음</td>\n",
       "      <td>20.0</td>\n",
       "    </tr>\n",
       "    <tr>\n",
       "      <th>4701213</th>\n",
       "      <td>TRAIN_4701213</td>\n",
       "      <td>20220331</td>\n",
       "      <td>목</td>\n",
       "      <td>2</td>\n",
       "      <td>2</td>\n",
       "      <td>107</td>\n",
       "      <td>-</td>\n",
       "      <td>0</td>\n",
       "      <td>0</td>\n",
       "      <td>80.0</td>\n",
       "      <td>0.0</td>\n",
       "      <td>43200.0</td>\n",
       "      <td>0.0</td>\n",
       "      <td>3</td>\n",
       "      <td>광삼교</td>\n",
       "      <td>33.472505</td>\n",
       "      <td>126.424368</td>\n",
       "      <td>없음</td>\n",
       "      <td>광삼교</td>\n",
       "      <td>33.472525</td>\n",
       "      <td>126.424890</td>\n",
       "      <td>없음</td>\n",
       "      <td>65.0</td>\n",
       "    </tr>\n",
       "    <tr>\n",
       "      <th>4701214</th>\n",
       "      <td>TRAIN_4701214</td>\n",
       "      <td>20220613</td>\n",
       "      <td>월</td>\n",
       "      <td>22</td>\n",
       "      <td>2</td>\n",
       "      <td>103</td>\n",
       "      <td>일반국도12호선</td>\n",
       "      <td>0</td>\n",
       "      <td>0</td>\n",
       "      <td>60.0</td>\n",
       "      <td>0.0</td>\n",
       "      <td>0.0</td>\n",
       "      <td>0.0</td>\n",
       "      <td>0</td>\n",
       "      <td>고성교차로</td>\n",
       "      <td>33.447183</td>\n",
       "      <td>126.912579</td>\n",
       "      <td>없음</td>\n",
       "      <td>성산교차로</td>\n",
       "      <td>33.444121</td>\n",
       "      <td>126.912948</td>\n",
       "      <td>없음</td>\n",
       "      <td>30.0</td>\n",
       "    </tr>\n",
       "    <tr>\n",
       "      <th>4701215</th>\n",
       "      <td>TRAIN_4701215</td>\n",
       "      <td>20211020</td>\n",
       "      <td>수</td>\n",
       "      <td>2</td>\n",
       "      <td>2</td>\n",
       "      <td>103</td>\n",
       "      <td>일반국도95호선</td>\n",
       "      <td>0</td>\n",
       "      <td>0</td>\n",
       "      <td>80.0</td>\n",
       "      <td>0.0</td>\n",
       "      <td>0.0</td>\n",
       "      <td>0.0</td>\n",
       "      <td>0</td>\n",
       "      <td>제6광령교</td>\n",
       "      <td>33.443596</td>\n",
       "      <td>126.431817</td>\n",
       "      <td>없음</td>\n",
       "      <td>관광대학입구</td>\n",
       "      <td>33.444996</td>\n",
       "      <td>126.433332</td>\n",
       "      <td>없음</td>\n",
       "      <td>73.0</td>\n",
       "    </tr>\n",
       "    <tr>\n",
       "      <th>4701216</th>\n",
       "      <td>TRAIN_4701216</td>\n",
       "      <td>20211019</td>\n",
       "      <td>화</td>\n",
       "      <td>6</td>\n",
       "      <td>2</td>\n",
       "      <td>107</td>\n",
       "      <td>경찰로</td>\n",
       "      <td>0</td>\n",
       "      <td>0</td>\n",
       "      <td>60.0</td>\n",
       "      <td>0.0</td>\n",
       "      <td>0.0</td>\n",
       "      <td>0.0</td>\n",
       "      <td>0</td>\n",
       "      <td>서귀포경찰서</td>\n",
       "      <td>33.256785</td>\n",
       "      <td>126.508940</td>\n",
       "      <td>없음</td>\n",
       "      <td>시민공원</td>\n",
       "      <td>33.257130</td>\n",
       "      <td>126.510364</td>\n",
       "      <td>없음</td>\n",
       "      <td>35.0</td>\n",
       "    </tr>\n",
       "  </tbody>\n",
       "</table>\n",
       "<p>4701217 rows × 23 columns</p>\n",
       "</div>"
      ],
      "text/plain": [
       "                    id  base_date day_of_week  base_hour  lane_count  \\\n",
       "0        TRAIN_0000000   20220623           목         17           1   \n",
       "1        TRAIN_0000001   20220728           목         21           2   \n",
       "2        TRAIN_0000002   20211010           일          7           2   \n",
       "3        TRAIN_0000003   20220311           금         13           2   \n",
       "4        TRAIN_0000004   20211005           화          8           2   \n",
       "...                ...        ...         ...        ...         ...   \n",
       "4701212  TRAIN_4701212   20211104           목         16           1   \n",
       "4701213  TRAIN_4701213   20220331           목          2           2   \n",
       "4701214  TRAIN_4701214   20220613           월         22           2   \n",
       "4701215  TRAIN_4701215   20211020           수          2           2   \n",
       "4701216  TRAIN_4701216   20211019           화          6           2   \n",
       "\n",
       "         road_rating  road_name  multi_linked  connect_code  \\\n",
       "0                106  지방도1112호선             0             0   \n",
       "1                103   일반국도11호선             0             0   \n",
       "2                103   일반국도16호선             0             0   \n",
       "3                107        태평로             0             0   \n",
       "4                103   일반국도12호선             0             0   \n",
       "...              ...        ...           ...           ...   \n",
       "4701212          107          -             0             0   \n",
       "4701213          107          -             0             0   \n",
       "4701214          103   일반국도12호선             0             0   \n",
       "4701215          103   일반국도95호선             0             0   \n",
       "4701216          107        경찰로             0             0   \n",
       "\n",
       "         maximum_speed_limit  vehicle_restricted  weight_restricted  \\\n",
       "0                       60.0                 0.0            32400.0   \n",
       "1                       60.0                 0.0                0.0   \n",
       "2                       80.0                 0.0                0.0   \n",
       "3                       50.0                 0.0                0.0   \n",
       "4                       80.0                 0.0                0.0   \n",
       "...                      ...                 ...                ...   \n",
       "4701212                 50.0                 0.0                0.0   \n",
       "4701213                 80.0                 0.0            43200.0   \n",
       "4701214                 60.0                 0.0                0.0   \n",
       "4701215                 80.0                 0.0                0.0   \n",
       "4701216                 60.0                 0.0                0.0   \n",
       "\n",
       "         height_restricted  road_type start_node_name  start_latitude  \\\n",
       "0                      0.0          3           제3교래교       33.427747   \n",
       "1                      0.0          0           광양사거리       33.500730   \n",
       "2                      0.0          0            창고천교       33.279145   \n",
       "3                      0.0          0           남양리조트       33.246081   \n",
       "4                      0.0          0            애월샷시       33.462214   \n",
       "...                    ...        ...             ...             ...   \n",
       "4701212                0.0          0           대림사거리       33.422145   \n",
       "4701213                0.0          3             광삼교       33.472505   \n",
       "4701214                0.0          0           고성교차로       33.447183   \n",
       "4701215                0.0          0           제6광령교       33.443596   \n",
       "4701216                0.0          0          서귀포경찰서       33.256785   \n",
       "\n",
       "         start_longitude start_turn_restricted end_node_name  end_latitude  \\\n",
       "0             126.662612                    없음         제3교래교     33.427749   \n",
       "1             126.529107                    있음        KAL사거리     33.504811   \n",
       "2             126.368598                    없음          상창육교     33.280072   \n",
       "3             126.567204                    없음          서현주택     33.245565   \n",
       "4             126.326551                    없음          애월입구     33.462677   \n",
       "...                  ...                   ...           ...           ...   \n",
       "4701212       126.278125                    없음          금덕해운     33.420955   \n",
       "4701213       126.424368                    없음           광삼교     33.472525   \n",
       "4701214       126.912579                    없음         성산교차로     33.444121   \n",
       "4701215       126.431817                    없음        관광대학입구     33.444996   \n",
       "4701216       126.508940                    없음          시민공원     33.257130   \n",
       "\n",
       "         end_longitude end_turn_restricted  target  \n",
       "0           126.662335                  없음    52.0  \n",
       "1           126.526240                  없음    30.0  \n",
       "2           126.362147                  없음    61.0  \n",
       "3           126.566228                  없음    20.0  \n",
       "4           126.330152                  없음    38.0  \n",
       "...                ...                 ...     ...  \n",
       "4701212     126.273750                  없음    20.0  \n",
       "4701213     126.424890                  없음    65.0  \n",
       "4701214     126.912948                  없음    30.0  \n",
       "4701215     126.433332                  없음    73.0  \n",
       "4701216     126.510364                  없음    35.0  \n",
       "\n",
       "[4701217 rows x 23 columns]"
      ]
     },
     "execution_count": 12,
     "metadata": {},
     "output_type": "execute_result"
    }
   ],
   "source": [
    "pd.set_option('display.max_columns', None)\n",
    "train"
   ]
  },
  {
   "cell_type": "code",
   "execution_count": 13,
   "metadata": {
    "executionInfo": {
     "elapsed": 508,
     "status": "ok",
     "timestamp": 1665665855786,
     "user": {
      "displayName": "성현제",
      "userId": "04212636937837625659"
     },
     "user_tz": -540
    },
    "id": "hdikRjQf4hCf"
   },
   "outputs": [],
   "source": [
    "da_info = pd.read_csv(data_dir_+'data_info.csv')"
   ]
  },
  {
   "cell_type": "code",
   "execution_count": 14,
   "metadata": {
    "colab": {
     "base_uri": "https://localhost:8080/",
     "height": 802
    },
    "executionInfo": {
     "elapsed": 7,
     "status": "ok",
     "timestamp": 1665665855787,
     "user": {
      "displayName": "성현제",
      "userId": "04212636937837625659"
     },
     "user_tz": -540
    },
    "id": "972YYAb6Y8-X",
    "outputId": "12b2e1ac-8999-42c9-d597-5b9751c169ef"
   },
   "outputs": [
    {
     "data": {
      "text/html": [
       "<div>\n",
       "<style scoped>\n",
       "    .dataframe tbody tr th:only-of-type {\n",
       "        vertical-align: middle;\n",
       "    }\n",
       "\n",
       "    .dataframe tbody tr th {\n",
       "        vertical-align: top;\n",
       "    }\n",
       "\n",
       "    .dataframe thead th {\n",
       "        text-align: right;\n",
       "    }\n",
       "</style>\n",
       "<table border=\"1\" class=\"dataframe\">\n",
       "  <thead>\n",
       "    <tr style=\"text-align: right;\">\n",
       "      <th></th>\n",
       "      <th>변수명</th>\n",
       "      <th>변수 설명</th>\n",
       "    </tr>\n",
       "  </thead>\n",
       "  <tbody>\n",
       "    <tr>\n",
       "      <th>0</th>\n",
       "      <td>id</td>\n",
       "      <td>아이디</td>\n",
       "    </tr>\n",
       "    <tr>\n",
       "      <th>1</th>\n",
       "      <td>base_date</td>\n",
       "      <td>날짜</td>\n",
       "    </tr>\n",
       "    <tr>\n",
       "      <th>2</th>\n",
       "      <td>day_of_week</td>\n",
       "      <td>요일</td>\n",
       "    </tr>\n",
       "    <tr>\n",
       "      <th>3</th>\n",
       "      <td>base_hour</td>\n",
       "      <td>시간대</td>\n",
       "    </tr>\n",
       "    <tr>\n",
       "      <th>4</th>\n",
       "      <td>road_in_use</td>\n",
       "      <td>도로사용여부</td>\n",
       "    </tr>\n",
       "    <tr>\n",
       "      <th>5</th>\n",
       "      <td>lane_count</td>\n",
       "      <td>차로수</td>\n",
       "    </tr>\n",
       "    <tr>\n",
       "      <th>6</th>\n",
       "      <td>road_rating</td>\n",
       "      <td>도로등급</td>\n",
       "    </tr>\n",
       "    <tr>\n",
       "      <th>7</th>\n",
       "      <td>multi_linked</td>\n",
       "      <td>중용구간 여부</td>\n",
       "    </tr>\n",
       "    <tr>\n",
       "      <th>8</th>\n",
       "      <td>connect_code</td>\n",
       "      <td>연결로 코드</td>\n",
       "    </tr>\n",
       "    <tr>\n",
       "      <th>9</th>\n",
       "      <td>maximum_speed_limit</td>\n",
       "      <td>최고속도제한</td>\n",
       "    </tr>\n",
       "    <tr>\n",
       "      <th>10</th>\n",
       "      <td>weight_restricted</td>\n",
       "      <td>통과제한하중</td>\n",
       "    </tr>\n",
       "    <tr>\n",
       "      <th>11</th>\n",
       "      <td>hight_restricted</td>\n",
       "      <td>통과제한높이</td>\n",
       "    </tr>\n",
       "    <tr>\n",
       "      <th>12</th>\n",
       "      <td>road_type</td>\n",
       "      <td>도로유형</td>\n",
       "    </tr>\n",
       "    <tr>\n",
       "      <th>13</th>\n",
       "      <td>start_latitude</td>\n",
       "      <td>시작지점의 위도</td>\n",
       "    </tr>\n",
       "    <tr>\n",
       "      <th>14</th>\n",
       "      <td>start_longitude</td>\n",
       "      <td>시작지점의 경도</td>\n",
       "    </tr>\n",
       "    <tr>\n",
       "      <th>15</th>\n",
       "      <td>start_turn_restricted</td>\n",
       "      <td>시작 지점의 회전제한 유무</td>\n",
       "    </tr>\n",
       "    <tr>\n",
       "      <th>16</th>\n",
       "      <td>end_latitude</td>\n",
       "      <td>도착지점의 위도</td>\n",
       "    </tr>\n",
       "    <tr>\n",
       "      <th>17</th>\n",
       "      <td>end_longitude</td>\n",
       "      <td>도착지점의 경도</td>\n",
       "    </tr>\n",
       "    <tr>\n",
       "      <th>18</th>\n",
       "      <td>end_turn_restricted</td>\n",
       "      <td>도작지점의 회전제한 유무</td>\n",
       "    </tr>\n",
       "    <tr>\n",
       "      <th>19</th>\n",
       "      <td>road_name</td>\n",
       "      <td>도로명</td>\n",
       "    </tr>\n",
       "    <tr>\n",
       "      <th>20</th>\n",
       "      <td>start_node_name</td>\n",
       "      <td>시작지점명</td>\n",
       "    </tr>\n",
       "    <tr>\n",
       "      <th>21</th>\n",
       "      <td>end_node_name</td>\n",
       "      <td>도착지점명</td>\n",
       "    </tr>\n",
       "    <tr>\n",
       "      <th>22</th>\n",
       "      <td>vehicle_restricted</td>\n",
       "      <td>통과제한차량</td>\n",
       "    </tr>\n",
       "    <tr>\n",
       "      <th>23</th>\n",
       "      <td>target</td>\n",
       "      <td>평균속도(km)</td>\n",
       "    </tr>\n",
       "  </tbody>\n",
       "</table>\n",
       "</div>"
      ],
      "text/plain": [
       "                      변수명           변수 설명\n",
       "0                      id             아이디\n",
       "1               base_date              날짜\n",
       "2             day_of_week              요일\n",
       "3               base_hour             시간대\n",
       "4             road_in_use          도로사용여부\n",
       "5              lane_count             차로수\n",
       "6             road_rating            도로등급\n",
       "7            multi_linked         중용구간 여부\n",
       "8            connect_code          연결로 코드\n",
       "9     maximum_speed_limit          최고속도제한\n",
       "10      weight_restricted          통과제한하중\n",
       "11       hight_restricted          통과제한높이\n",
       "12              road_type            도로유형\n",
       "13         start_latitude        시작지점의 위도\n",
       "14        start_longitude        시작지점의 경도\n",
       "15  start_turn_restricted  시작 지점의 회전제한 유무\n",
       "16           end_latitude        도착지점의 위도\n",
       "17          end_longitude        도착지점의 경도\n",
       "18    end_turn_restricted   도작지점의 회전제한 유무\n",
       "19              road_name             도로명\n",
       "20        start_node_name           시작지점명\n",
       "21          end_node_name           도착지점명\n",
       "22     vehicle_restricted          통과제한차량\n",
       "23                 target        평균속도(km)"
      ]
     },
     "execution_count": 14,
     "metadata": {},
     "output_type": "execute_result"
    }
   ],
   "source": [
    "da_info"
   ]
  },
  {
   "cell_type": "code",
   "execution_count": 15,
   "metadata": {},
   "outputs": [
    {
     "data": {
      "text/html": [
       "<div>\n",
       "<style scoped>\n",
       "    .dataframe tbody tr th:only-of-type {\n",
       "        vertical-align: middle;\n",
       "    }\n",
       "\n",
       "    .dataframe tbody tr th {\n",
       "        vertical-align: top;\n",
       "    }\n",
       "\n",
       "    .dataframe thead th {\n",
       "        text-align: right;\n",
       "    }\n",
       "</style>\n",
       "<table border=\"1\" class=\"dataframe\">\n",
       "  <thead>\n",
       "    <tr style=\"text-align: right;\">\n",
       "      <th></th>\n",
       "      <th>id</th>\n",
       "      <th>base_date</th>\n",
       "      <th>day_of_week</th>\n",
       "      <th>base_hour</th>\n",
       "      <th>lane_count</th>\n",
       "      <th>road_rating</th>\n",
       "      <th>road_name</th>\n",
       "      <th>multi_linked</th>\n",
       "      <th>connect_code</th>\n",
       "      <th>maximum_speed_limit</th>\n",
       "      <th>vehicle_restricted</th>\n",
       "      <th>weight_restricted</th>\n",
       "      <th>height_restricted</th>\n",
       "      <th>road_type</th>\n",
       "      <th>start_node_name</th>\n",
       "      <th>start_latitude</th>\n",
       "      <th>start_longitude</th>\n",
       "      <th>start_turn_restricted</th>\n",
       "      <th>end_node_name</th>\n",
       "      <th>end_latitude</th>\n",
       "      <th>end_longitude</th>\n",
       "      <th>end_turn_restricted</th>\n",
       "      <th>target</th>\n",
       "    </tr>\n",
       "  </thead>\n",
       "  <tbody>\n",
       "    <tr>\n",
       "      <th>0</th>\n",
       "      <td>TRAIN_0000000</td>\n",
       "      <td>20220623</td>\n",
       "      <td>목</td>\n",
       "      <td>17</td>\n",
       "      <td>1</td>\n",
       "      <td>106</td>\n",
       "      <td>지방도1112호선</td>\n",
       "      <td>0</td>\n",
       "      <td>0</td>\n",
       "      <td>60.0</td>\n",
       "      <td>0.0</td>\n",
       "      <td>32400.0</td>\n",
       "      <td>0.0</td>\n",
       "      <td>3</td>\n",
       "      <td>제3교래교</td>\n",
       "      <td>33.427747</td>\n",
       "      <td>126.662612</td>\n",
       "      <td>없음</td>\n",
       "      <td>제3교래교</td>\n",
       "      <td>33.427749</td>\n",
       "      <td>126.662335</td>\n",
       "      <td>없음</td>\n",
       "      <td>52.0</td>\n",
       "    </tr>\n",
       "    <tr>\n",
       "      <th>1</th>\n",
       "      <td>TRAIN_0000001</td>\n",
       "      <td>20220728</td>\n",
       "      <td>목</td>\n",
       "      <td>21</td>\n",
       "      <td>2</td>\n",
       "      <td>103</td>\n",
       "      <td>일반국도11호선</td>\n",
       "      <td>0</td>\n",
       "      <td>0</td>\n",
       "      <td>60.0</td>\n",
       "      <td>0.0</td>\n",
       "      <td>0.0</td>\n",
       "      <td>0.0</td>\n",
       "      <td>0</td>\n",
       "      <td>광양사거리</td>\n",
       "      <td>33.500730</td>\n",
       "      <td>126.529107</td>\n",
       "      <td>있음</td>\n",
       "      <td>KAL사거리</td>\n",
       "      <td>33.504811</td>\n",
       "      <td>126.526240</td>\n",
       "      <td>없음</td>\n",
       "      <td>30.0</td>\n",
       "    </tr>\n",
       "    <tr>\n",
       "      <th>2</th>\n",
       "      <td>TRAIN_0000002</td>\n",
       "      <td>20211010</td>\n",
       "      <td>일</td>\n",
       "      <td>7</td>\n",
       "      <td>2</td>\n",
       "      <td>103</td>\n",
       "      <td>일반국도16호선</td>\n",
       "      <td>0</td>\n",
       "      <td>0</td>\n",
       "      <td>80.0</td>\n",
       "      <td>0.0</td>\n",
       "      <td>0.0</td>\n",
       "      <td>0.0</td>\n",
       "      <td>0</td>\n",
       "      <td>창고천교</td>\n",
       "      <td>33.279145</td>\n",
       "      <td>126.368598</td>\n",
       "      <td>없음</td>\n",
       "      <td>상창육교</td>\n",
       "      <td>33.280072</td>\n",
       "      <td>126.362147</td>\n",
       "      <td>없음</td>\n",
       "      <td>61.0</td>\n",
       "    </tr>\n",
       "    <tr>\n",
       "      <th>3</th>\n",
       "      <td>TRAIN_0000003</td>\n",
       "      <td>20220311</td>\n",
       "      <td>금</td>\n",
       "      <td>13</td>\n",
       "      <td>2</td>\n",
       "      <td>107</td>\n",
       "      <td>태평로</td>\n",
       "      <td>0</td>\n",
       "      <td>0</td>\n",
       "      <td>50.0</td>\n",
       "      <td>0.0</td>\n",
       "      <td>0.0</td>\n",
       "      <td>0.0</td>\n",
       "      <td>0</td>\n",
       "      <td>남양리조트</td>\n",
       "      <td>33.246081</td>\n",
       "      <td>126.567204</td>\n",
       "      <td>없음</td>\n",
       "      <td>서현주택</td>\n",
       "      <td>33.245565</td>\n",
       "      <td>126.566228</td>\n",
       "      <td>없음</td>\n",
       "      <td>20.0</td>\n",
       "    </tr>\n",
       "    <tr>\n",
       "      <th>4</th>\n",
       "      <td>TRAIN_0000004</td>\n",
       "      <td>20211005</td>\n",
       "      <td>화</td>\n",
       "      <td>8</td>\n",
       "      <td>2</td>\n",
       "      <td>103</td>\n",
       "      <td>일반국도12호선</td>\n",
       "      <td>0</td>\n",
       "      <td>0</td>\n",
       "      <td>80.0</td>\n",
       "      <td>0.0</td>\n",
       "      <td>0.0</td>\n",
       "      <td>0.0</td>\n",
       "      <td>0</td>\n",
       "      <td>애월샷시</td>\n",
       "      <td>33.462214</td>\n",
       "      <td>126.326551</td>\n",
       "      <td>없음</td>\n",
       "      <td>애월입구</td>\n",
       "      <td>33.462677</td>\n",
       "      <td>126.330152</td>\n",
       "      <td>없음</td>\n",
       "      <td>38.0</td>\n",
       "    </tr>\n",
       "    <tr>\n",
       "      <th>...</th>\n",
       "      <td>...</td>\n",
       "      <td>...</td>\n",
       "      <td>...</td>\n",
       "      <td>...</td>\n",
       "      <td>...</td>\n",
       "      <td>...</td>\n",
       "      <td>...</td>\n",
       "      <td>...</td>\n",
       "      <td>...</td>\n",
       "      <td>...</td>\n",
       "      <td>...</td>\n",
       "      <td>...</td>\n",
       "      <td>...</td>\n",
       "      <td>...</td>\n",
       "      <td>...</td>\n",
       "      <td>...</td>\n",
       "      <td>...</td>\n",
       "      <td>...</td>\n",
       "      <td>...</td>\n",
       "      <td>...</td>\n",
       "      <td>...</td>\n",
       "      <td>...</td>\n",
       "      <td>...</td>\n",
       "    </tr>\n",
       "    <tr>\n",
       "      <th>4701212</th>\n",
       "      <td>TRAIN_4701212</td>\n",
       "      <td>20211104</td>\n",
       "      <td>목</td>\n",
       "      <td>16</td>\n",
       "      <td>1</td>\n",
       "      <td>107</td>\n",
       "      <td>-</td>\n",
       "      <td>0</td>\n",
       "      <td>0</td>\n",
       "      <td>50.0</td>\n",
       "      <td>0.0</td>\n",
       "      <td>0.0</td>\n",
       "      <td>0.0</td>\n",
       "      <td>0</td>\n",
       "      <td>대림사거리</td>\n",
       "      <td>33.422145</td>\n",
       "      <td>126.278125</td>\n",
       "      <td>없음</td>\n",
       "      <td>금덕해운</td>\n",
       "      <td>33.420955</td>\n",
       "      <td>126.273750</td>\n",
       "      <td>없음</td>\n",
       "      <td>20.0</td>\n",
       "    </tr>\n",
       "    <tr>\n",
       "      <th>4701213</th>\n",
       "      <td>TRAIN_4701213</td>\n",
       "      <td>20220331</td>\n",
       "      <td>목</td>\n",
       "      <td>2</td>\n",
       "      <td>2</td>\n",
       "      <td>107</td>\n",
       "      <td>-</td>\n",
       "      <td>0</td>\n",
       "      <td>0</td>\n",
       "      <td>80.0</td>\n",
       "      <td>0.0</td>\n",
       "      <td>43200.0</td>\n",
       "      <td>0.0</td>\n",
       "      <td>3</td>\n",
       "      <td>광삼교</td>\n",
       "      <td>33.472505</td>\n",
       "      <td>126.424368</td>\n",
       "      <td>없음</td>\n",
       "      <td>광삼교</td>\n",
       "      <td>33.472525</td>\n",
       "      <td>126.424890</td>\n",
       "      <td>없음</td>\n",
       "      <td>65.0</td>\n",
       "    </tr>\n",
       "    <tr>\n",
       "      <th>4701214</th>\n",
       "      <td>TRAIN_4701214</td>\n",
       "      <td>20220613</td>\n",
       "      <td>월</td>\n",
       "      <td>22</td>\n",
       "      <td>2</td>\n",
       "      <td>103</td>\n",
       "      <td>일반국도12호선</td>\n",
       "      <td>0</td>\n",
       "      <td>0</td>\n",
       "      <td>60.0</td>\n",
       "      <td>0.0</td>\n",
       "      <td>0.0</td>\n",
       "      <td>0.0</td>\n",
       "      <td>0</td>\n",
       "      <td>고성교차로</td>\n",
       "      <td>33.447183</td>\n",
       "      <td>126.912579</td>\n",
       "      <td>없음</td>\n",
       "      <td>성산교차로</td>\n",
       "      <td>33.444121</td>\n",
       "      <td>126.912948</td>\n",
       "      <td>없음</td>\n",
       "      <td>30.0</td>\n",
       "    </tr>\n",
       "    <tr>\n",
       "      <th>4701215</th>\n",
       "      <td>TRAIN_4701215</td>\n",
       "      <td>20211020</td>\n",
       "      <td>수</td>\n",
       "      <td>2</td>\n",
       "      <td>2</td>\n",
       "      <td>103</td>\n",
       "      <td>일반국도95호선</td>\n",
       "      <td>0</td>\n",
       "      <td>0</td>\n",
       "      <td>80.0</td>\n",
       "      <td>0.0</td>\n",
       "      <td>0.0</td>\n",
       "      <td>0.0</td>\n",
       "      <td>0</td>\n",
       "      <td>제6광령교</td>\n",
       "      <td>33.443596</td>\n",
       "      <td>126.431817</td>\n",
       "      <td>없음</td>\n",
       "      <td>관광대학입구</td>\n",
       "      <td>33.444996</td>\n",
       "      <td>126.433332</td>\n",
       "      <td>없음</td>\n",
       "      <td>73.0</td>\n",
       "    </tr>\n",
       "    <tr>\n",
       "      <th>4701216</th>\n",
       "      <td>TRAIN_4701216</td>\n",
       "      <td>20211019</td>\n",
       "      <td>화</td>\n",
       "      <td>6</td>\n",
       "      <td>2</td>\n",
       "      <td>107</td>\n",
       "      <td>경찰로</td>\n",
       "      <td>0</td>\n",
       "      <td>0</td>\n",
       "      <td>60.0</td>\n",
       "      <td>0.0</td>\n",
       "      <td>0.0</td>\n",
       "      <td>0.0</td>\n",
       "      <td>0</td>\n",
       "      <td>서귀포경찰서</td>\n",
       "      <td>33.256785</td>\n",
       "      <td>126.508940</td>\n",
       "      <td>없음</td>\n",
       "      <td>시민공원</td>\n",
       "      <td>33.257130</td>\n",
       "      <td>126.510364</td>\n",
       "      <td>없음</td>\n",
       "      <td>35.0</td>\n",
       "    </tr>\n",
       "  </tbody>\n",
       "</table>\n",
       "<p>4701217 rows × 23 columns</p>\n",
       "</div>"
      ],
      "text/plain": [
       "                    id  base_date day_of_week  base_hour  lane_count  \\\n",
       "0        TRAIN_0000000   20220623           목         17           1   \n",
       "1        TRAIN_0000001   20220728           목         21           2   \n",
       "2        TRAIN_0000002   20211010           일          7           2   \n",
       "3        TRAIN_0000003   20220311           금         13           2   \n",
       "4        TRAIN_0000004   20211005           화          8           2   \n",
       "...                ...        ...         ...        ...         ...   \n",
       "4701212  TRAIN_4701212   20211104           목         16           1   \n",
       "4701213  TRAIN_4701213   20220331           목          2           2   \n",
       "4701214  TRAIN_4701214   20220613           월         22           2   \n",
       "4701215  TRAIN_4701215   20211020           수          2           2   \n",
       "4701216  TRAIN_4701216   20211019           화          6           2   \n",
       "\n",
       "         road_rating  road_name  multi_linked  connect_code  \\\n",
       "0                106  지방도1112호선             0             0   \n",
       "1                103   일반국도11호선             0             0   \n",
       "2                103   일반국도16호선             0             0   \n",
       "3                107        태평로             0             0   \n",
       "4                103   일반국도12호선             0             0   \n",
       "...              ...        ...           ...           ...   \n",
       "4701212          107          -             0             0   \n",
       "4701213          107          -             0             0   \n",
       "4701214          103   일반국도12호선             0             0   \n",
       "4701215          103   일반국도95호선             0             0   \n",
       "4701216          107        경찰로             0             0   \n",
       "\n",
       "         maximum_speed_limit  vehicle_restricted  weight_restricted  \\\n",
       "0                       60.0                 0.0            32400.0   \n",
       "1                       60.0                 0.0                0.0   \n",
       "2                       80.0                 0.0                0.0   \n",
       "3                       50.0                 0.0                0.0   \n",
       "4                       80.0                 0.0                0.0   \n",
       "...                      ...                 ...                ...   \n",
       "4701212                 50.0                 0.0                0.0   \n",
       "4701213                 80.0                 0.0            43200.0   \n",
       "4701214                 60.0                 0.0                0.0   \n",
       "4701215                 80.0                 0.0                0.0   \n",
       "4701216                 60.0                 0.0                0.0   \n",
       "\n",
       "         height_restricted  road_type start_node_name  start_latitude  \\\n",
       "0                      0.0          3           제3교래교       33.427747   \n",
       "1                      0.0          0           광양사거리       33.500730   \n",
       "2                      0.0          0            창고천교       33.279145   \n",
       "3                      0.0          0           남양리조트       33.246081   \n",
       "4                      0.0          0            애월샷시       33.462214   \n",
       "...                    ...        ...             ...             ...   \n",
       "4701212                0.0          0           대림사거리       33.422145   \n",
       "4701213                0.0          3             광삼교       33.472505   \n",
       "4701214                0.0          0           고성교차로       33.447183   \n",
       "4701215                0.0          0           제6광령교       33.443596   \n",
       "4701216                0.0          0          서귀포경찰서       33.256785   \n",
       "\n",
       "         start_longitude start_turn_restricted end_node_name  end_latitude  \\\n",
       "0             126.662612                    없음         제3교래교     33.427749   \n",
       "1             126.529107                    있음        KAL사거리     33.504811   \n",
       "2             126.368598                    없음          상창육교     33.280072   \n",
       "3             126.567204                    없음          서현주택     33.245565   \n",
       "4             126.326551                    없음          애월입구     33.462677   \n",
       "...                  ...                   ...           ...           ...   \n",
       "4701212       126.278125                    없음          금덕해운     33.420955   \n",
       "4701213       126.424368                    없음           광삼교     33.472525   \n",
       "4701214       126.912579                    없음         성산교차로     33.444121   \n",
       "4701215       126.431817                    없음        관광대학입구     33.444996   \n",
       "4701216       126.508940                    없음          시민공원     33.257130   \n",
       "\n",
       "         end_longitude end_turn_restricted  target  \n",
       "0           126.662335                  없음    52.0  \n",
       "1           126.526240                  없음    30.0  \n",
       "2           126.362147                  없음    61.0  \n",
       "3           126.566228                  없음    20.0  \n",
       "4           126.330152                  없음    38.0  \n",
       "...                ...                 ...     ...  \n",
       "4701212     126.273750                  없음    20.0  \n",
       "4701213     126.424890                  없음    65.0  \n",
       "4701214     126.912948                  없음    30.0  \n",
       "4701215     126.433332                  없음    73.0  \n",
       "4701216     126.510364                  없음    35.0  \n",
       "\n",
       "[4701217 rows x 23 columns]"
      ]
     },
     "execution_count": 15,
     "metadata": {},
     "output_type": "execute_result"
    }
   ],
   "source": [
    "train"
   ]
  },
  {
   "cell_type": "markdown",
   "metadata": {
    "id": "b6i_lettV8tv"
   },
   "source": [
    "# 함수"
   ]
  },
  {
   "cell_type": "code",
   "execution_count": 16,
   "metadata": {
    "executionInfo": {
     "elapsed": 647,
     "status": "ok",
     "timestamp": 1665665863648,
     "user": {
      "displayName": "성현제",
      "userId": "04212636937837625659"
     },
     "user_tz": -540
    },
    "id": "_fNS_JMaV-0-"
   },
   "outputs": [],
   "source": [
    "def boxplot(feature):\n",
    "    plt.figure(figsize=(8,12))\n",
    "    sns.boxplot(x=train[feature].to_numpy(),y=train['target'].to_numpy())\n",
    "    plt.grid()\n",
    "    plt.show()"
   ]
  },
  {
   "cell_type": "code",
   "execution_count": 17,
   "metadata": {
    "executionInfo": {
     "elapsed": 2,
     "status": "ok",
     "timestamp": 1665665863962,
     "user": {
      "displayName": "성현제",
      "userId": "04212636937837625659"
     },
     "user_tz": -540
    },
    "id": "2VWT6TmeXvDK"
   },
   "outputs": [],
   "source": [
    "def barplot(feature,estimators = np.mean):\n",
    "    plt.figure(figsize=(8,12))\n",
    "    sns.barplot(x=train[feature].to_numpy(),y=train['target'].to_numpy(),estimator=estimators)\n",
    "    plt.grid()\n",
    "    plt.show()"
   ]
  },
  {
   "cell_type": "markdown",
   "metadata": {
    "id": "ErDt4DoE3zMF"
   },
   "source": [
    "# EDA"
   ]
  },
  {
   "cell_type": "markdown",
   "metadata": {},
   "source": [
    "## base_date (날짜)"
   ]
  },
  {
   "cell_type": "code",
   "execution_count": 18,
   "metadata": {},
   "outputs": [],
   "source": [
    "train['base_date'] = pd.to_datetime(train['base_date'],format='%Y%m%d')\n",
    "test['base_date'] = pd.to_datetime(test['base_date'],format='%Y%m%d')"
   ]
  },
  {
   "cell_type": "code",
   "execution_count": 19,
   "metadata": {},
   "outputs": [
    {
     "data": {
      "text/plain": [
       "2022"
      ]
     },
     "execution_count": 19,
     "metadata": {},
     "output_type": "execute_result"
    }
   ],
   "source": [
    "train['base_date'][0].year"
   ]
  },
  {
   "cell_type": "code",
   "execution_count": 20,
   "metadata": {},
   "outputs": [],
   "source": [
    "train_date_list = set((train['base_date'].apply(lambda x: str(x.year) +'-'+ str(x.month))).to_list())"
   ]
  },
  {
   "cell_type": "code",
   "execution_count": 21,
   "metadata": {},
   "outputs": [
    {
     "name": "stdout",
     "output_type": "stream",
     "text": [
      "학습데이터 날짜 년/월:  2021-10 2021-11 2021-12 2021-9 2022-1 2022-2 2022-3 2022-5 2022-6 2022-7\n"
     ]
    }
   ],
   "source": [
    "print('학습데이터 날짜 년/월: ',*sorted(list(train_date_list)))"
   ]
  },
  {
   "cell_type": "code",
   "execution_count": 22,
   "metadata": {},
   "outputs": [],
   "source": [
    "test_date_list = set((test['base_date'].apply(lambda x: str(x.year) +'-'+ str(x.month))).to_list())"
   ]
  },
  {
   "cell_type": "code",
   "execution_count": 23,
   "metadata": {},
   "outputs": [
    {
     "name": "stdout",
     "output_type": "stream",
     "text": [
      "검증데이터 날짜 년/월:  2022-8\n"
     ]
    }
   ],
   "source": [
    "print('검증데이터 날짜 년/월: ',*sorted(list(test_date_list)))"
   ]
  },
  {
   "cell_type": "code",
   "execution_count": 24,
   "metadata": {},
   "outputs": [],
   "source": [
    "train['month'] = train['base_date'].dt.month"
   ]
  },
  {
   "cell_type": "code",
   "execution_count": 25,
   "metadata": {},
   "outputs": [],
   "source": [
    "test['month'] = test['base_date'].dt.month"
   ]
  },
  {
   "cell_type": "code",
   "execution_count": 26,
   "metadata": {},
   "outputs": [
    {
     "name": "stderr",
     "output_type": "stream",
     "text": [
      "findfont: Font family ['NanumBarunGothic'] not found. Falling back to DejaVu Sans.\n"
     ]
    },
    {
     "data": {
      "image/png": "[encoded data removed]",
      "text/plain": [
       "<Figure size 576x864 with 1 Axes>"
      ]
     },
     "metadata": {
      "needs_background": "light"
     },
     "output_type": "display_data"
    }
   ],
   "source": [
    "boxplot('month')"
   ]
  },
  {
   "cell_type": "markdown",
   "metadata": {},
   "source": [
    "- 7월에 크게 평균속도가 떨어짐\n",
    "- 예측 대상은 2022년 8월인데, 어떻게 활용할지...\n",
    "- 7월만 활용하자니 데이터가 너무 많이 버려짐\n",
    "- 날짜 데이터는 날씨(강수량, 기온등...)연결만 하고 제거하자"
   ]
  },
  {
   "cell_type": "code",
   "execution_count": null,
   "metadata": {},
   "outputs": [],
   "source": []
  },
  {
   "cell_type": "code",
   "execution_count": null,
   "metadata": {},
   "outputs": [],
   "source": []
  },
  {
   "cell_type": "markdown",
   "metadata": {
    "id": "kuW-yPdVaJmb"
   },
   "source": [
    "## day_of_week (요일)"
   ]
  },
  {
   "cell_type": "code",
   "execution_count": null,
   "metadata": {
    "colab": {
     "base_uri": "https://localhost:8080/",
     "height": 700
    },
    "executionInfo": {
     "elapsed": 2602,
     "status": "ok",
     "timestamp": 1665584530392,
     "user": {
      "displayName": "성현제",
      "userId": "04212636937837625659"
     },
     "user_tz": -540
    },
    "id": "yt-n6xKbbaKc",
    "outputId": "a495d83a-ac54-4908-9400-b344520562fa"
   },
   "outputs": [
    {
     "data": {
      "image/png": "[encoded data removed]",
      "text/plain": [
       "<Figure size 576x864 with 1 Axes>"
      ]
     },
     "metadata": {
      "needs_background": "light"
     },
     "output_type": "display_data"
    }
   ],
   "source": [
    "boxplot('day_of_week')"
   ]
  },
  {
   "cell_type": "code",
   "execution_count": null,
   "metadata": {
    "colab": {
     "base_uri": "https://localhost:8080/",
     "height": 300
    },
    "executionInfo": {
     "elapsed": 856,
     "status": "ok",
     "timestamp": 1665580732993,
     "user": {
      "displayName": "성현제",
      "userId": "04212636937837625659"
     },
     "user_tz": -540
    },
    "id": "-hBHHyJlV2kZ",
    "outputId": "b094624d-f6d9-4248-b0ce-1e2d32b6aad8"
   },
   "outputs": [
    {
     "data": {
      "text/html": [
       "\n",
       "  <div id=\"df-41923e03-f9d5-402a-ac0d-55770122a90f\">\n",
       "    <div class=\"colab-df-container\">\n",
       "      <div>\n",
       "<style scoped>\n",
       "    .dataframe tbody tr th:only-of-type {\n",
       "        vertical-align: middle;\n",
       "    }\n",
       "\n",
       "    .dataframe tbody tr th {\n",
       "        vertical-align: top;\n",
       "    }\n",
       "\n",
       "    .dataframe thead th {\n",
       "        text-align: right;\n",
       "    }\n",
       "</style>\n",
       "<table border=\"1\" class=\"dataframe\">\n",
       "  <thead>\n",
       "    <tr style=\"text-align: right;\">\n",
       "      <th></th>\n",
       "      <th>target</th>\n",
       "    </tr>\n",
       "    <tr>\n",
       "      <th>day_of_week</th>\n",
       "      <th></th>\n",
       "    </tr>\n",
       "  </thead>\n",
       "  <tbody>\n",
       "    <tr>\n",
       "      <th>금</th>\n",
       "      <td>42.450328</td>\n",
       "    </tr>\n",
       "    <tr>\n",
       "      <th>목</th>\n",
       "      <td>42.768345</td>\n",
       "    </tr>\n",
       "    <tr>\n",
       "      <th>수</th>\n",
       "      <td>42.770372</td>\n",
       "    </tr>\n",
       "    <tr>\n",
       "      <th>월</th>\n",
       "      <td>42.761365</td>\n",
       "    </tr>\n",
       "    <tr>\n",
       "      <th>일</th>\n",
       "      <td>43.179300</td>\n",
       "    </tr>\n",
       "    <tr>\n",
       "      <th>토</th>\n",
       "      <td>42.894117</td>\n",
       "    </tr>\n",
       "    <tr>\n",
       "      <th>화</th>\n",
       "      <td>42.699198</td>\n",
       "    </tr>\n",
       "  </tbody>\n",
       "</table>\n",
       "</div>\n",
       "      <button class=\"colab-df-convert\" onclick=\"convertToInteractive('df-41923e03-f9d5-402a-ac0d-55770122a90f')\"\n",
       "              title=\"Convert this dataframe to an interactive table.\"\n",
       "              style=\"display:none;\">\n",
       "        \n",
       "  <svg xmlns=\"http://www.w3.org/2000/svg\" height=\"24px\"viewBox=\"0 0 24 24\"\n",
       "       width=\"24px\">\n",
       "    <path d=\"M0 0h24v24H0V0z\" fill=\"none\"/>\n",
       "    <path d=\"M18.56 5.44l.94 2.06.94-2.06 2.06-.94-2.06-.94-.94-2.06-.94 2.06-2.06.94zm-11 1L8.5 8.5l.94-2.06 2.06-.94-2.06-.94L8.5 2.5l-.94 2.06-2.06.94zm10 10l.94 2.06.94-2.06 2.06-.94-2.06-.94-.94-2.06-.94 2.06-2.06.94z\"/><path d=\"M17.41 7.96l-1.37-1.37c-.4-.4-.92-.59-1.43-.59-.52 0-1.04.2-1.43.59L10.3 9.45l-7.72 7.72c-.78.78-.78 2.05 0 2.83L4 21.41c.39.39.9.59 1.41.59.51 0 1.02-.2 1.41-.59l7.78-7.78 2.81-2.81c.8-.78.8-2.07 0-2.86zM5.41 20L4 18.59l7.72-7.72 1.47 1.35L5.41 20z\"/>\n",
       "  </svg>\n",
       "      </button>\n",
       "      \n",
       "  <style>\n",
       "    .colab-df-container {\n",
       "      display:flex;\n",
       "      flex-wrap:wrap;\n",
       "      gap: 12px;\n",
       "    }\n",
       "\n",
       "    .colab-df-convert {\n",
       "      background-color: #E8F0FE;\n",
       "      border: none;\n",
       "      border-radius: 50%;\n",
       "      cursor: pointer;\n",
       "      display: none;\n",
       "      fill: #1967D2;\n",
       "      height: 32px;\n",
       "      padding: 0 0 0 0;\n",
       "      width: 32px;\n",
       "    }\n",
       "\n",
       "    .colab-df-convert:hover {\n",
       "      background-color: #E2EBFA;\n",
       "      box-shadow: 0px 1px 2px rgba(60, 64, 67, 0.3), 0px 1px 3px 1px rgba(60, 64, 67, 0.15);\n",
       "      fill: #174EA6;\n",
       "    }\n",
       "\n",
       "    [theme=dark] .colab-df-convert {\n",
       "      background-color: #3B4455;\n",
       "      fill: #D2E3FC;\n",
       "    }\n",
       "\n",
       "    [theme=dark] .colab-df-convert:hover {\n",
       "      background-color: #434B5C;\n",
       "      box-shadow: 0px 1px 3px 1px rgba(0, 0, 0, 0.15);\n",
       "      filter: drop-shadow(0px 1px 2px rgba(0, 0, 0, 0.3));\n",
       "      fill: #FFFFFF;\n",
       "    }\n",
       "  </style>\n",
       "\n",
       "      <script>\n",
       "        const buttonEl =\n",
       "          document.querySelector('#df-41923e03-f9d5-402a-ac0d-55770122a90f button.colab-df-convert');\n",
       "        buttonEl.style.display =\n",
       "          google.colab.kernel.accessAllowed ? 'block' : 'none';\n",
       "\n",
       "        async function convertToInteractive(key) {\n",
       "          const element = document.querySelector('#df-41923e03-f9d5-402a-ac0d-55770122a90f');\n",
       "          const dataTable =\n",
       "            await google.colab.kernel.invokeFunction('convertToInteractive',\n",
       "                                                     [key], {});\n",
       "          if (!dataTable) return;\n",
       "\n",
       "          const docLinkHtml = 'Like what you see? Visit the ' +\n",
       "            '<a target=\"_blank\" href=https://colab.research.google.com/notebooks/data_table.ipynb>data table notebook</a>'\n",
       "            + ' to learn more about interactive tables.';\n",
       "          element.innerHTML = '';\n",
       "          dataTable['output_type'] = 'display_data';\n",
       "          await google.colab.output.renderOutput(dataTable, element);\n",
       "          const docLink = document.createElement('div');\n",
       "          docLink.innerHTML = docLinkHtml;\n",
       "          element.appendChild(docLink);\n",
       "        }\n",
       "      </script>\n",
       "    </div>\n",
       "  </div>\n",
       "  "
      ],
      "text/plain": [
       "                target\n",
       "day_of_week           \n",
       "금            42.450328\n",
       "목            42.768345\n",
       "수            42.770372\n",
       "월            42.761365\n",
       "일            43.179300\n",
       "토            42.894117\n",
       "화            42.699198"
      ]
     },
     "execution_count": 17,
     "metadata": {},
     "output_type": "execute_result"
    }
   ],
   "source": [
    "train[['day_of_week','target']].groupby('day_of_week').mean()"
   ]
  },
  {
   "cell_type": "code",
   "execution_count": null,
   "metadata": {
    "colab": {
     "base_uri": "https://localhost:8080/",
     "height": 694
    },
    "executionInfo": {
     "elapsed": 1559,
     "status": "ok",
     "timestamp": 1665582423725,
     "user": {
      "displayName": "성현제",
      "userId": "04212636937837625659"
     },
     "user_tz": -540
    },
    "id": "TpBLyuqJW8pw",
    "outputId": "b6e08f67-46b5-4ea8-85cf-bc8f36b09f44"
   },
   "outputs": [
    {
     "name": "stderr",
     "output_type": "stream",
     "text": [
      "/usr/local/lib/python3.7/dist-packages/seaborn/_decorators.py:43: FutureWarning: Pass the following variable as a keyword arg: x. From version 0.12, the only valid positional argument will be `data`, and passing other arguments without an explicit keyword will result in an error or misinterpretation.\n",
      "  FutureWarning\n"
     ]
    },
    {
     "data": {
      "text/plain": [
       "Text(0.5, 1.0, '평균 속도 분포')"
      ]
     },
     "execution_count": 27,
     "metadata": {},
     "output_type": "execute_result"
    },
    {
     "data": {
      "image/png": "[encoded data removed]",
      "text/plain": [
       "<Figure size 720x720 with 1 Axes>"
      ]
     },
     "metadata": {
      "needs_background": "light"
     },
     "output_type": "display_data"
    }
   ],
   "source": [
    "plt.figure(figsize=(10,10))\n",
    "sns.boxplot(train['target'])\n",
    "plt.title('평균 속도 분포')"
   ]
  },
  {
   "cell_type": "markdown",
   "metadata": {
    "id": "qBqITO1BWhX9"
   },
   "source": [
    "- 요일자체는 평균 속도에 큰 영향을 주진 않는 것으로 보임\n",
    "- 하지만, 전혀 영향이 없진 않을 듯\n",
    "- 특정 요일에는 A시간대, 다른 요일에는 B시간대에 영향이 있지않을까...?"
   ]
  },
  {
   "cell_type": "code",
   "execution_count": null,
   "metadata": {
    "colab": {
     "base_uri": "https://localhost:8080/",
     "height": 17
    },
    "executionInfo": {
     "elapsed": 19267,
     "status": "ok",
     "timestamp": 1665583613786,
     "user": {
      "displayName": "성현제",
      "userId": "04212636937837625659"
     },
     "user_tz": -540
    },
    "id": "6zFhP7WMgGxN",
    "outputId": "c07492fe-ed42-4907-97c1-09e473c4de9a"
   },
   "outputs": [
    {
     "data": {
      "application/javascript": [
       "\n",
       "(function(root) {\n",
       "  function now() {\n",
       "    return new Date();\n",
       "  }\n",
       "\n",
       "  var force = true;\n",
       "\n",
       "  if (typeof root._bokeh_onload_callbacks === \"undefined\" || force === true) {\n",
       "    root._bokeh_onload_callbacks = [];\n",
       "    root._bokeh_is_loading = undefined;\n",
       "  }\n",
       "\n",
       "  var JS_MIME_TYPE = 'application/javascript';\n",
       "  var HTML_MIME_TYPE = 'text/html';\n",
       "  var EXEC_MIME_TYPE = 'application/vnd.bokehjs_exec.v0+json';\n",
       "  var CLASS_NAME = 'output_bokeh rendered_html';\n",
       "\n",
       "  /**\n",
       "   * Render data to the DOM node\n",
       "   */\n",
       "  function render(props, node) {\n",
       "    var script = document.createElement(\"script\");\n",
       "    node.appendChild(script);\n",
       "  }\n",
       "\n",
       "  /**\n",
       "   * Handle when an output is cleared or removed\n",
       "   */\n",
       "  function handleClearOutput(event, handle) {\n",
       "    var cell = handle.cell;\n",
       "\n",
       "    var id = cell.output_area._bokeh_element_id;\n",
       "    var server_id = cell.output_area._bokeh_server_id;\n",
       "    // Clean up Bokeh references\n",
       "    if (id != null && id in Bokeh.index) {\n",
       "      Bokeh.index[id].model.document.clear();\n",
       "      delete Bokeh.index[id];\n",
       "    }\n",
       "\n",
       "    if (server_id !== undefined) {\n",
       "      // Clean up Bokeh references\n",
       "      var cmd = \"from bokeh.io.state import curstate; print(curstate().uuid_to_server['\" + server_id + \"'].get_sessions()[0].document.roots[0]._id)\";\n",
       "      cell.notebook.kernel.execute(cmd, {\n",
       "        iopub: {\n",
       "          output: function(msg) {\n",
       "            var id = msg.content.text.trim();\n",
       "            if (id in Bokeh.index) {\n",
       "              Bokeh.index[id].model.document.clear();\n",
       "              delete Bokeh.index[id];\n",
       "            }\n",
       "          }\n",
       "        }\n",
       "      });\n",
       "      // Destroy server and session\n",
       "      var cmd = \"import bokeh.io.notebook as ion; ion.destroy_server('\" + server_id + \"')\";\n",
       "      cell.notebook.kernel.execute(cmd);\n",
       "    }\n",
       "  }\n",
       "\n",
       "  /**\n",
       "   * Handle when a new output is added\n",
       "   */\n",
       "  function handleAddOutput(event, handle) {\n",
       "    var output_area = handle.output_area;\n",
       "    var output = handle.output;\n",
       "\n",
       "    // limit handleAddOutput to display_data with EXEC_MIME_TYPE content only\n",
       "    if ((output.output_type != \"display_data\") || (!Object.prototype.hasOwnProperty.call(output.data, EXEC_MIME_TYPE))) {\n",
       "      return\n",
       "    }\n",
       "\n",
       "    var toinsert = output_area.element.find(\".\" + CLASS_NAME.split(' ')[0]);\n",
       "\n",
       "    if (output.metadata[EXEC_MIME_TYPE][\"id\"] !== undefined) {\n",
       "      toinsert[toinsert.length - 1].firstChild.textContent = output.data[JS_MIME_TYPE];\n",
       "      // store reference to embed id on output_area\n",
       "      output_area._bokeh_element_id = output.metadata[EXEC_MIME_TYPE][\"id\"];\n",
       "    }\n",
       "    if (output.metadata[EXEC_MIME_TYPE][\"server_id\"] !== undefined) {\n",
       "      var bk_div = document.createElement(\"div\");\n",
       "      bk_div.innerHTML = output.data[HTML_MIME_TYPE];\n",
       "      var script_attrs = bk_div.children[0].attributes;\n",
       "      for (var i = 0; i < script_attrs.length; i++) {\n",
       "        toinsert[toinsert.length - 1].firstChild.setAttribute(script_attrs[i].name, script_attrs[i].value);\n",
       "        toinsert[toinsert.length - 1].firstChild.textContent = bk_div.children[0].textContent\n",
       "      }\n",
       "      // store reference to server id on output_area\n",
       "      output_area._bokeh_server_id = output.metadata[EXEC_MIME_TYPE][\"server_id\"];\n",
       "    }\n",
       "  }\n",
       "\n",
       "  function register_renderer(events, OutputArea) {\n",
       "\n",
       "    function append_mime(data, metadata, element) {\n",
       "      // create a DOM node to render to\n",
       "      var toinsert = this.create_output_subarea(\n",
       "        metadata,\n",
       "        CLASS_NAME,\n",
       "        EXEC_MIME_TYPE\n",
       "      );\n",
       "      this.keyboard_manager.register_events(toinsert);\n",
       "      // Render to node\n",
       "      var props = {data: data, metadata: metadata[EXEC_MIME_TYPE]};\n",
       "      render(props, toinsert[toinsert.length - 1]);\n",
       "      element.append(toinsert);\n",
       "      return toinsert\n",
       "    }\n",
       "\n",
       "    /* Handle when an output is cleared or removed */\n",
       "    events.on('clear_output.CodeCell', handleClearOutput);\n",
       "    events.on('delete.Cell', handleClearOutput);\n",
       "\n",
       "    /* Handle when a new output is added */\n",
       "    events.on('output_added.OutputArea', handleAddOutput);\n",
       "\n",
       "    /**\n",
       "     * Register the mime type and append_mime function with output_area\n",
       "     */\n",
       "    OutputArea.prototype.register_mime_type(EXEC_MIME_TYPE, append_mime, {\n",
       "      /* Is output safe? */\n",
       "      safe: true,\n",
       "      /* Index of renderer in `output_area.display_order` */\n",
       "      index: 0\n",
       "    });\n",
       "  }\n",
       "\n",
       "  // register the mime type if in Jupyter Notebook environment and previously unregistered\n",
       "  if (root.Jupyter !== undefined) {\n",
       "    var events = require('base/js/events');\n",
       "    var OutputArea = require('notebook/js/outputarea').OutputArea;\n",
       "\n",
       "    if (OutputArea.prototype.mime_types().indexOf(EXEC_MIME_TYPE) == -1) {\n",
       "      register_renderer(events, OutputArea);\n",
       "    }\n",
       "  }\n",
       "\n",
       "  \n",
       "  if (typeof (root._bokeh_timeout) === \"undefined\" || force === true) {\n",
       "    root._bokeh_timeout = Date.now() + 5000;\n",
       "    root._bokeh_failed_load = false;\n",
       "  }\n",
       "\n",
       "  var NB_LOAD_WARNING = {'data': {'text/html':\n",
       "     \"<div style='background-color: #fdd'>\\n\"+\n",
       "     \"<p>\\n\"+\n",
       "     \"BokehJS does not appear to have successfully loaded. If loading BokehJS from CDN, this \\n\"+\n",
       "     \"may be due to a slow or bad network connection. Possible fixes:\\n\"+\n",
       "     \"</p>\\n\"+\n",
       "     \"<ul>\\n\"+\n",
       "     \"<li>re-rerun `output_notebook()` to attempt to load from CDN again, or</li>\\n\"+\n",
       "     \"<li>use INLINE resources instead, as so:</li>\\n\"+\n",
       "     \"</ul>\\n\"+\n",
       "     \"<code>\\n\"+\n",
       "     \"from bokeh.resources import INLINE\\n\"+\n",
       "     \"output_notebook(resources=INLINE)\\n\"+\n",
       "     \"</code>\\n\"+\n",
       "     \"</div>\"}};\n",
       "\n",
       "  function display_loaded() {\n",
       "    var el = document.getElementById(null);\n",
       "    if (el != null) {\n",
       "      el.textContent = \"BokehJS is loading...\";\n",
       "    }\n",
       "    if (root.Bokeh !== undefined) {\n",
       "      if (el != null) {\n",
       "        el.textContent = \"BokehJS \" + root.Bokeh.version + \" successfully loaded.\";\n",
       "      }\n",
       "    } else if (Date.now() < root._bokeh_timeout) {\n",
       "      setTimeout(display_loaded, 100)\n",
       "    }\n",
       "  }\n",
       "\n",
       "\n",
       "  function run_callbacks() {\n",
       "    try {\n",
       "      root._bokeh_onload_callbacks.forEach(function(callback) {\n",
       "        if (callback != null)\n",
       "          callback();\n",
       "      });\n",
       "    } finally {\n",
       "      delete root._bokeh_onload_callbacks\n",
       "    }\n",
       "    console.debug(\"Bokeh: all callbacks have finished\");\n",
       "  }\n",
       "\n",
       "  function load_libs(css_urls, js_urls, callback) {\n",
       "    if (css_urls == null) css_urls = [];\n",
       "    if (js_urls == null) js_urls = [];\n",
       "\n",
       "    root._bokeh_onload_callbacks.push(callback);\n",
       "    if (root._bokeh_is_loading > 0) {\n",
       "      console.debug(\"Bokeh: BokehJS is being loaded, scheduling callback at\", now());\n",
       "      return null;\n",
       "    }\n",
       "    if (js_urls == null || js_urls.length === 0) {\n",
       "      run_callbacks();\n",
       "      return null;\n",
       "    }\n",
       "    console.debug(\"Bokeh: BokehJS not loaded, scheduling load and callback at\", now());\n",
       "    root._bokeh_is_loading = css_urls.length + js_urls.length;\n",
       "\n",
       "    function on_load() {\n",
       "      root._bokeh_is_loading--;\n",
       "      if (root._bokeh_is_loading === 0) {\n",
       "        console.debug(\"Bokeh: all BokehJS libraries/stylesheets loaded\");\n",
       "        run_callbacks()\n",
       "      }\n",
       "    }\n",
       "\n",
       "    function on_error(url) {\n",
       "      console.error(\"failed to load \" + url);\n",
       "    }\n",
       "\n",
       "    for (let i = 0; i < css_urls.length; i++) {\n",
       "      const url = css_urls[i];\n",
       "      const element = document.createElement(\"link\");\n",
       "      element.onload = on_load;\n",
       "      element.onerror = on_error.bind(null, url);\n",
       "      element.rel = \"stylesheet\";\n",
       "      element.type = \"text/css\";\n",
       "      element.href = url;\n",
       "      console.debug(\"Bokeh: injecting link tag for BokehJS stylesheet: \", url);\n",
       "      document.body.appendChild(element);\n",
       "    }\n",
       "\n",
       "    const hashes = {\"https://cdn.bokeh.org/bokeh/release/bokeh-2.3.3.min.js\": \"dM3QQsP+wXdHg42wTqW85BjZQdLNNIXqlPw/BgKoExPmTG7ZLML4EGqLMfqHT6ON\", \"https://cdn.bokeh.org/bokeh/release/bokeh-tables-2.3.3.min.js\": \"8x57I4YuIfu8XyZfFo0XVr2WAT8EK4rh/uDe3wF7YuW2FNUSNEpJbsPaB1nJ2fz2\", \"https://cdn.bokeh.org/bokeh/release/bokeh-widgets-2.3.3.min.js\": \"3QTqdz9LyAm2i0sG5XTePsHec3UHWwVsrOL68SYRoAXsafvfAyqtQ+h440+qIBhS\"};\n",
       "\n",
       "    for (let i = 0; i < js_urls.length; i++) {\n",
       "      const url = js_urls[i];\n",
       "      const element = document.createElement('script');\n",
       "      element.onload = on_load;\n",
       "      element.onerror = on_error.bind(null, url);\n",
       "      element.async = false;\n",
       "      element.src = url;\n",
       "      if (url in hashes) {\n",
       "        element.crossOrigin = \"anonymous\";\n",
       "        element.integrity = \"sha384-\" + hashes[url];\n",
       "      }\n",
       "      console.debug(\"Bokeh: injecting script tag for BokehJS library: \", url);\n",
       "      document.head.appendChild(element);\n",
       "    }\n",
       "  };\n",
       "\n",
       "  function inject_raw_css(css) {\n",
       "    const element = document.createElement(\"style\");\n",
       "    element.appendChild(document.createTextNode(css));\n",
       "    document.body.appendChild(element);\n",
       "  }\n",
       "\n",
       "  \n",
       "  var js_urls = [\"https://cdn.bokeh.org/bokeh/release/bokeh-2.3.3.min.js\", \"https://cdn.bokeh.org/bokeh/release/bokeh-widgets-2.3.3.min.js\", \"https://cdn.bokeh.org/bokeh/release/bokeh-tables-2.3.3.min.js\"];\n",
       "  var css_urls = [];\n",
       "  \n",
       "\n",
       "  var inline_js = [\n",
       "    function(Bokeh) {\n",
       "      Bokeh.set_log_level(\"info\");\n",
       "    },\n",
       "    function(Bokeh) {\n",
       "    \n",
       "    \n",
       "    }\n",
       "  ];\n",
       "\n",
       "  function run_inline_js() {\n",
       "    \n",
       "    if (root.Bokeh !== undefined || force === true) {\n",
       "      \n",
       "    for (var i = 0; i < inline_js.length; i++) {\n",
       "      inline_js[i].call(root, root.Bokeh);\n",
       "    }\n",
       "    } else if (Date.now() < root._bokeh_timeout) {\n",
       "      setTimeout(run_inline_js, 100);\n",
       "    } else if (!root._bokeh_failed_load) {\n",
       "      console.log(\"Bokeh: BokehJS failed to load within specified timeout.\");\n",
       "      root._bokeh_failed_load = true;\n",
       "    } else if (force !== true) {\n",
       "      var cell = $(document.getElementById(null)).parents('.cell').data().cell;\n",
       "      cell.output_area.append_execute_result(NB_LOAD_WARNING)\n",
       "    }\n",
       "\n",
       "  }\n",
       "\n",
       "  if (root._bokeh_is_loading === 0) {\n",
       "    console.debug(\"Bokeh: BokehJS loaded, going straight to plotting\");\n",
       "    run_inline_js();\n",
       "  } else {\n",
       "    load_libs(css_urls, js_urls, function() {\n",
       "      console.debug(\"Bokeh: BokehJS plotting callback run at\", now());\n",
       "      run_inline_js();\n",
       "    });\n",
       "  }\n",
       "}(window));"
      ],
      "application/vnd.bokehjs_load.v0+json": ""
     },
     "metadata": {},
     "output_type": "display_data"
    },
    {
     "data": {
      "text/html": [
       "\n",
       "\n",
       "\n",
       "\n",
       "\n",
       "\n",
       "  <div class=\"bk-root\" id=\"43ffff42-c046-4ecb-9308-c6b156ecdb19\" data-root-id=\"1133\"></div>\n"
      ]
     },
     "metadata": {},
     "output_type": "display_data"
    }
   ],
   "source": [
    "# from bokeh.plotting import figure\n",
    "# from bokeh.io import show, output_notebook\n",
    "# import numpy as np\n",
    "\n",
    "# p = figure(plot_width = 400,plot_height=300,\n",
    "#           title= ' ' ,\n",
    "#           x_axis_label = ' ', y_axis_label = ' ')\n",
    "# p.vbar(train['day_of_week'].to_numpy(),\n",
    "#        width = 1,\n",
    "#        bottom= 0,\n",
    "#        top = train['target'].to_numpy(),\n",
    "#        color = 'blue')\n",
    "\n",
    "# output_notebook()\n",
    "# show(p)"
   ]
  },
  {
   "cell_type": "code",
   "execution_count": null,
   "metadata": {
    "id": "IyWKeYdzgGzj"
   },
   "outputs": [],
   "source": []
  },
  {
   "cell_type": "code",
   "execution_count": null,
   "metadata": {
    "id": "xcXWurVtgG1i"
   },
   "outputs": [],
   "source": []
  },
  {
   "cell_type": "code",
   "execution_count": null,
   "metadata": {
    "id": "-TwQ67XXgG3y"
   },
   "outputs": [],
   "source": []
  },
  {
   "cell_type": "code",
   "execution_count": null,
   "metadata": {
    "id": "55Q2Q6kNgG6H"
   },
   "outputs": [],
   "source": []
  },
  {
   "cell_type": "markdown",
   "metadata": {
    "id": "iPFFd3mWaMhc"
   },
   "source": [
    "## base_hour (시간대)"
   ]
  },
  {
   "cell_type": "code",
   "execution_count": null,
   "metadata": {
    "colab": {
     "base_uri": "https://localhost:8080/",
     "height": 700
    },
    "executionInfo": {
     "elapsed": 82862,
     "status": "ok",
     "timestamp": 1665584700746,
     "user": {
      "displayName": "성현제",
      "userId": "04212636937837625659"
     },
     "user_tz": -540
    },
    "id": "CxQlPxtoXQvH",
    "outputId": "68725b3d-3ee2-46e9-db48-cdd2f210f056"
   },
   "outputs": [
    {
     "data": {
      "image/png": "[encoded data removed]",
      "text/plain": [
       "<Figure size 576x864 with 1 Axes>"
      ]
     },
     "metadata": {
      "needs_background": "light"
     },
     "output_type": "display_data"
    }
   ],
   "source": [
    "barplot('base_hour')"
   ]
  },
  {
   "cell_type": "code",
   "execution_count": null,
   "metadata": {
    "colab": {
     "base_uri": "https://localhost:8080/",
     "height": 714
    },
    "executionInfo": {
     "elapsed": 180978,
     "status": "ok",
     "timestamp": 1665581539053,
     "user": {
      "displayName": "성현제",
      "userId": "04212636937837625659"
     },
     "user_tz": -540
    },
    "id": "2CYvKF0dXRLq",
    "outputId": "c55b3113-f855-4899-e362-4f4ec7158ec5"
   },
   "outputs": [
    {
     "data": {
      "image/png": "[encoded data removed]",
      "text/plain": [
       "<Figure size 576x864 with 1 Axes>"
      ]
     },
     "metadata": {
      "needs_background": "light"
     },
     "output_type": "display_data"
    }
   ],
   "source": [
    "barplot('base_hour',np.median)"
   ]
  },
  {
   "cell_type": "code",
   "execution_count": null,
   "metadata": {
    "colab": {
     "base_uri": "https://localhost:8080/",
     "height": 714
    },
    "executionInfo": {
     "elapsed": 93648,
     "status": "ok",
     "timestamp": 1665581693101,
     "user": {
      "displayName": "성현제",
      "userId": "04212636937837625659"
     },
     "user_tz": -540
    },
    "id": "-S6kvQcXXROA",
    "outputId": "df6e184a-a863-4261-d533-aa44552ed388"
   },
   "outputs": [
    {
     "data": {
      "image/png": "[encoded data removed]",
      "text/plain": [
       "<Figure size 576x864 with 1 Axes>"
      ]
     },
     "metadata": {
      "needs_background": "light"
     },
     "output_type": "display_data"
    }
   ],
   "source": [
    "barplot('base_hour',len)"
   ]
  },
  {
   "cell_type": "code",
   "execution_count": 55,
   "metadata": {
    "colab": {
     "base_uri": "https://localhost:8080/",
     "height": 878
    },
    "executionInfo": {
     "elapsed": 59063,
     "status": "ok",
     "timestamp": 1665585506123,
     "user": {
      "displayName": "성현제",
      "userId": "04212636937837625659"
     },
     "user_tz": -540
    },
    "id": "XmhLK1HJXRQA",
    "outputId": "82ce92b4-8ba8-4fe2-e2f4-67b7ab2adc31"
   },
   "outputs": [
    {
     "name": "stderr",
     "output_type": "stream",
     "text": [
      "C:\\Users\\guswp\\anaconda3\\lib\\site-packages\\IPython\\core\\pylabtools.py:151: UserWarning: Glyph 47785 (\\N{HANGUL SYLLABLE MOG}) missing from current font.\n",
      "  fig.canvas.print_figure(bytes_io, **kw)\n",
      "C:\\Users\\guswp\\anaconda3\\lib\\site-packages\\IPython\\core\\pylabtools.py:151: UserWarning: Glyph 51068 (\\N{HANGUL SYLLABLE IL}) missing from current font.\n",
      "  fig.canvas.print_figure(bytes_io, **kw)\n",
      "C:\\Users\\guswp\\anaconda3\\lib\\site-packages\\IPython\\core\\pylabtools.py:151: UserWarning: Glyph 44552 (\\N{HANGUL SYLLABLE GEUM}) missing from current font.\n",
      "  fig.canvas.print_figure(bytes_io, **kw)\n",
      "C:\\Users\\guswp\\anaconda3\\lib\\site-packages\\IPython\\core\\pylabtools.py:151: UserWarning: Glyph 54868 (\\N{HANGUL SYLLABLE HWA}) missing from current font.\n",
      "  fig.canvas.print_figure(bytes_io, **kw)\n",
      "C:\\Users\\guswp\\anaconda3\\lib\\site-packages\\IPython\\core\\pylabtools.py:151: UserWarning: Glyph 50900 (\\N{HANGUL SYLLABLE WEOL}) missing from current font.\n",
      "  fig.canvas.print_figure(bytes_io, **kw)\n",
      "C:\\Users\\guswp\\anaconda3\\lib\\site-packages\\IPython\\core\\pylabtools.py:151: UserWarning: Glyph 49688 (\\N{HANGUL SYLLABLE SU}) missing from current font.\n",
      "  fig.canvas.print_figure(bytes_io, **kw)\n",
      "C:\\Users\\guswp\\anaconda3\\lib\\site-packages\\IPython\\core\\pylabtools.py:151: UserWarning: Glyph 53664 (\\N{HANGUL SYLLABLE TO}) missing from current font.\n",
      "  fig.canvas.print_figure(bytes_io, **kw)\n"
     ]
    },
    {
     "data": {
      "image/png": "[encoded data removed]",
      "text/plain": [
       "<Figure size 1080x720 with 1 Axes>"
      ]
     },
     "metadata": {
      "needs_background": "light"
     },
     "output_type": "display_data"
    }
   ],
   "source": [
    "plt.figure(figsize=(15,10))\n",
    "sns.barplot(x='day_of_week',y='target',data = train, hue='base_hour')\n",
    "plt.grid()\n",
    "plt.show()"
   ]
  },
  {
   "cell_type": "markdown",
   "metadata": {
    "id": "LaMwe7WsnovE"
   },
   "source": [
    "- 8 ~ 16를 활동시간이라고 봤을 때, 토일은 차량 속도가 비슷하지만 평일은 퇴근시간에 확 떨어지고 그 중에 금요일에는 떨어지는 폭이 더 큼\n",
    "- 새벽 기준으로 주말에는 속도가 빠르지만 평일은 비교적 느림\n",
    "---\n",
    "-----> 평일 주말이나 월화수목, 금, 주말로 구분하는 변수 생성해도 될 듯\n",
    "\n"
   ]
  },
  {
   "cell_type": "code",
   "execution_count": null,
   "metadata": {
    "id": "jPXu2SWnXRSB"
   },
   "outputs": [],
   "source": []
  },
  {
   "cell_type": "code",
   "execution_count": null,
   "metadata": {
    "id": "pQNmRFlMXRUN"
   },
   "outputs": [],
   "source": []
  },
  {
   "cell_type": "code",
   "execution_count": null,
   "metadata": {
    "id": "hrkXVrWiXRWP"
   },
   "outputs": [],
   "source": []
  },
  {
   "cell_type": "code",
   "execution_count": null,
   "metadata": {
    "id": "BDkNBrgXXRYl"
   },
   "outputs": [],
   "source": []
  },
  {
   "cell_type": "markdown",
   "metadata": {
    "id": "l2i6Wcd1aMlB"
   },
   "source": [
    "## lane_count (차로수)"
   ]
  },
  {
   "cell_type": "code",
   "execution_count": null,
   "metadata": {
    "colab": {
     "base_uri": "https://localhost:8080/",
     "height": 700
    },
    "executionInfo": {
     "elapsed": 166280,
     "status": "ok",
     "timestamp": 1665585976510,
     "user": {
      "displayName": "성현제",
      "userId": "04212636937837625659"
     },
     "user_tz": -540
    },
    "id": "hkCoR4V-pieN",
    "outputId": "c986e060-5934-4d6e-e5cb-3d6760aa13ab"
   },
   "outputs": [
    {
     "data": {
      "image/png": "[encoded data removed]",
      "text/plain": [
       "<Figure size 576x864 with 1 Axes>"
      ]
     },
     "metadata": {
      "needs_background": "light"
     },
     "output_type": "display_data"
    }
   ],
   "source": [
    "barplot('lane_count')"
   ]
  },
  {
   "cell_type": "markdown",
   "metadata": {
    "id": "VXDO7-X7qqn3"
   },
   "source": [
    "- 차로수가 클수록 고속도로에 가까울테고 그러면 평균속도도 올라가지 않을까 했지만 2 1 3 순으로 차량속도가 빠름..\n",
    "- 오히려 3차로 쪽으로 차량이 몰려서 평균 속도가 낮게 나오는 듯.."
   ]
  },
  {
   "cell_type": "code",
   "execution_count": null,
   "metadata": {
    "colab": {
     "base_uri": "https://localhost:8080/",
     "height": 700
    },
    "executionInfo": {
     "elapsed": 241591,
     "status": "ok",
     "timestamp": 1665586556090,
     "user": {
      "displayName": "성현제",
      "userId": "04212636937837625659"
     },
     "user_tz": -540
    },
    "id": "zWQN8PSppigo",
    "outputId": "061c05c1-24ec-4666-802e-7077bd819393"
   },
   "outputs": [
    {
     "data": {
      "image/png": "[encoded data removed]",
      "text/plain": [
       "<Figure size 576x864 with 1 Axes>"
      ]
     },
     "metadata": {
      "needs_background": "light"
     },
     "output_type": "display_data"
    }
   ],
   "source": [
    "barplot('lane_count',np.median)"
   ]
  },
  {
   "cell_type": "code",
   "execution_count": null,
   "metadata": {
    "id": "o2rk-597pijA"
   },
   "outputs": [],
   "source": []
  },
  {
   "cell_type": "code",
   "execution_count": null,
   "metadata": {
    "id": "SQ5WdCWtpilV"
   },
   "outputs": [],
   "source": []
  },
  {
   "cell_type": "markdown",
   "metadata": {
    "id": "cFLO-wCWaMnX"
   },
   "source": [
    "## road_rating (도로등급)"
   ]
  },
  {
   "cell_type": "code",
   "execution_count": 18,
   "metadata": {},
   "outputs": [
    {
     "name": "stderr",
     "output_type": "stream",
     "text": [
      "findfont: Font family ['NanumBarunGothic'] not found. Falling back to DejaVu Sans.\n"
     ]
    },
    {
     "data": {
      "image/png": "[encoded data removed]",
      "text/plain": [
       "<Figure size 576x864 with 1 Axes>"
      ]
     },
     "metadata": {
      "needs_background": "light"
     },
     "output_type": "display_data"
    }
   ],
   "source": [
    "barplot('road_rating')"
   ]
  },
  {
   "cell_type": "code",
   "execution_count": 21,
   "metadata": {},
   "outputs": [
    {
     "data": {
      "image/png": "[encoded data removed]",
      "text/plain": [
       "<Figure size 576x864 with 1 Axes>"
      ]
     },
     "metadata": {
      "needs_background": "light"
     },
     "output_type": "display_data"
    }
   ],
   "source": [
    "barplot('road_rating',np.median)"
   ]
  },
  {
   "attachments": {
    "image-2.png": {
     "image/png": "[encoded data removed]"
    }
   },
   "cell_type": "markdown",
   "metadata": {},
   "source": [
    "![image-2.png](attachment:image-2.png)"
   ]
  },
  {
   "cell_type": "markdown",
   "metadata": {},
   "source": [
    "- 103: 일반국도\n",
    "- 106: 지방도\n",
    "- 107: 시/군도"
   ]
  },
  {
   "cell_type": "code",
   "execution_count": 20,
   "metadata": {},
   "outputs": [
    {
     "data": {
      "text/html": [
       "<div>\n",
       "<style scoped>\n",
       "    .dataframe tbody tr th:only-of-type {\n",
       "        vertical-align: middle;\n",
       "    }\n",
       "\n",
       "    .dataframe tbody tr th {\n",
       "        vertical-align: top;\n",
       "    }\n",
       "\n",
       "    .dataframe thead th {\n",
       "        text-align: right;\n",
       "    }\n",
       "</style>\n",
       "<table border=\"1\" class=\"dataframe\">\n",
       "  <thead>\n",
       "    <tr style=\"text-align: right;\">\n",
       "      <th></th>\n",
       "      <th>target</th>\n",
       "    </tr>\n",
       "    <tr>\n",
       "      <th>road_rating</th>\n",
       "      <th></th>\n",
       "    </tr>\n",
       "  </thead>\n",
       "  <tbody>\n",
       "    <tr>\n",
       "      <th>103</th>\n",
       "      <td>2159511</td>\n",
       "    </tr>\n",
       "    <tr>\n",
       "      <th>106</th>\n",
       "      <td>959492</td>\n",
       "    </tr>\n",
       "    <tr>\n",
       "      <th>107</th>\n",
       "      <td>1582214</td>\n",
       "    </tr>\n",
       "  </tbody>\n",
       "</table>\n",
       "</div>"
      ],
      "text/plain": [
       "              target\n",
       "road_rating         \n",
       "103          2159511\n",
       "106           959492\n",
       "107          1582214"
      ]
     },
     "execution_count": 20,
     "metadata": {},
     "output_type": "execute_result"
    }
   ],
   "source": [
    "train[['road_rating','target']].groupby('road_rating').count()"
   ]
  },
  {
   "cell_type": "markdown",
   "metadata": {},
   "source": [
    "- 확실히 시, 군 내에 존재하는 도로는 교통 속도가 느림\n",
    "- 일반국도와 지방도의 큰 차이는 안보임 --> 합칠지?그대로?\n",
    "- 데이터 개수도 각각 많으므로 막대 그래프를 충분히 믿어도 될 듯"
   ]
  },
  {
   "cell_type": "markdown",
   "metadata": {
    "id": "a4wHUosbaM_h"
   },
   "source": [
    "## multi_linked (중용구간 여부)"
   ]
  },
  {
   "cell_type": "code",
   "execution_count": 19,
   "metadata": {},
   "outputs": [
    {
     "data": {
      "image/png": "[encoded data removed]",
      "text/plain": [
       "<Figure size 576x864 with 1 Axes>"
      ]
     },
     "metadata": {
      "needs_background": "light"
     },
     "output_type": "display_data"
    }
   ],
   "source": [
    "barplot('multi_linked')"
   ]
  },
  {
   "cell_type": "code",
   "execution_count": 28,
   "metadata": {},
   "outputs": [
    {
     "name": "stdout",
     "output_type": "stream",
     "text": [
      "중용구간인 도로 종류:  남조로\n"
     ]
    }
   ],
   "source": [
    "print('중용구간인 도로 종류: ',*set(train.loc[train['multi_linked']==1,'road_name'].to_list()))"
   ]
  },
  {
   "cell_type": "code",
   "execution_count": 32,
   "metadata": {},
   "outputs": [
    {
     "data": {
      "text/html": [
       "<div>\n",
       "<style scoped>\n",
       "    .dataframe tbody tr th:only-of-type {\n",
       "        vertical-align: middle;\n",
       "    }\n",
       "\n",
       "    .dataframe tbody tr th {\n",
       "        vertical-align: top;\n",
       "    }\n",
       "\n",
       "    .dataframe thead th {\n",
       "        text-align: right;\n",
       "    }\n",
       "</style>\n",
       "<table border=\"1\" class=\"dataframe\">\n",
       "  <thead>\n",
       "    <tr style=\"text-align: right;\">\n",
       "      <th></th>\n",
       "      <th>id</th>\n",
       "      <th>base_date</th>\n",
       "      <th>day_of_week</th>\n",
       "      <th>base_hour</th>\n",
       "      <th>lane_count</th>\n",
       "      <th>road_rating</th>\n",
       "      <th>road_name</th>\n",
       "      <th>multi_linked</th>\n",
       "      <th>connect_code</th>\n",
       "      <th>maximum_speed_limit</th>\n",
       "      <th>vehicle_restricted</th>\n",
       "      <th>weight_restricted</th>\n",
       "      <th>height_restricted</th>\n",
       "      <th>road_type</th>\n",
       "      <th>start_node_name</th>\n",
       "      <th>start_latitude</th>\n",
       "      <th>start_longitude</th>\n",
       "      <th>start_turn_restricted</th>\n",
       "      <th>end_node_name</th>\n",
       "      <th>end_latitude</th>\n",
       "      <th>end_longitude</th>\n",
       "      <th>end_turn_restricted</th>\n",
       "      <th>target</th>\n",
       "    </tr>\n",
       "  </thead>\n",
       "  <tbody>\n",
       "    <tr>\n",
       "      <th>2715</th>\n",
       "      <td>TRAIN_0002715</td>\n",
       "      <td>20211212</td>\n",
       "      <td>일</td>\n",
       "      <td>22</td>\n",
       "      <td>1</td>\n",
       "      <td>107</td>\n",
       "      <td>남조로</td>\n",
       "      <td>1</td>\n",
       "      <td>0</td>\n",
       "      <td>50.0</td>\n",
       "      <td>0.0</td>\n",
       "      <td>0.0</td>\n",
       "      <td>0.0</td>\n",
       "      <td>3</td>\n",
       "      <td>의귀교</td>\n",
       "      <td>33.315308</td>\n",
       "      <td>126.714353</td>\n",
       "      <td>없음</td>\n",
       "      <td>의귀교</td>\n",
       "      <td>33.315111</td>\n",
       "      <td>126.714333</td>\n",
       "      <td>없음</td>\n",
       "      <td>48.0</td>\n",
       "    </tr>\n",
       "    <tr>\n",
       "      <th>2842</th>\n",
       "      <td>TRAIN_0002842</td>\n",
       "      <td>20220323</td>\n",
       "      <td>수</td>\n",
       "      <td>12</td>\n",
       "      <td>1</td>\n",
       "      <td>107</td>\n",
       "      <td>남조로</td>\n",
       "      <td>1</td>\n",
       "      <td>0</td>\n",
       "      <td>50.0</td>\n",
       "      <td>0.0</td>\n",
       "      <td>0.0</td>\n",
       "      <td>0.0</td>\n",
       "      <td>3</td>\n",
       "      <td>의귀교</td>\n",
       "      <td>33.315111</td>\n",
       "      <td>126.714333</td>\n",
       "      <td>없음</td>\n",
       "      <td>의귀교</td>\n",
       "      <td>33.315308</td>\n",
       "      <td>126.714353</td>\n",
       "      <td>없음</td>\n",
       "      <td>17.0</td>\n",
       "    </tr>\n",
       "    <tr>\n",
       "      <th>5672</th>\n",
       "      <td>TRAIN_0005672</td>\n",
       "      <td>20211029</td>\n",
       "      <td>금</td>\n",
       "      <td>18</td>\n",
       "      <td>1</td>\n",
       "      <td>107</td>\n",
       "      <td>남조로</td>\n",
       "      <td>1</td>\n",
       "      <td>0</td>\n",
       "      <td>50.0</td>\n",
       "      <td>0.0</td>\n",
       "      <td>0.0</td>\n",
       "      <td>0.0</td>\n",
       "      <td>3</td>\n",
       "      <td>의귀교</td>\n",
       "      <td>33.315111</td>\n",
       "      <td>126.714333</td>\n",
       "      <td>없음</td>\n",
       "      <td>의귀교</td>\n",
       "      <td>33.315308</td>\n",
       "      <td>126.714353</td>\n",
       "      <td>없음</td>\n",
       "      <td>13.0</td>\n",
       "    </tr>\n",
       "    <tr>\n",
       "      <th>6065</th>\n",
       "      <td>TRAIN_0006065</td>\n",
       "      <td>20210930</td>\n",
       "      <td>목</td>\n",
       "      <td>14</td>\n",
       "      <td>1</td>\n",
       "      <td>107</td>\n",
       "      <td>남조로</td>\n",
       "      <td>1</td>\n",
       "      <td>0</td>\n",
       "      <td>50.0</td>\n",
       "      <td>0.0</td>\n",
       "      <td>0.0</td>\n",
       "      <td>0.0</td>\n",
       "      <td>3</td>\n",
       "      <td>의귀교</td>\n",
       "      <td>33.315111</td>\n",
       "      <td>126.714333</td>\n",
       "      <td>없음</td>\n",
       "      <td>의귀교</td>\n",
       "      <td>33.315308</td>\n",
       "      <td>126.714353</td>\n",
       "      <td>없음</td>\n",
       "      <td>17.0</td>\n",
       "    </tr>\n",
       "    <tr>\n",
       "      <th>7171</th>\n",
       "      <td>TRAIN_0007171</td>\n",
       "      <td>20220211</td>\n",
       "      <td>금</td>\n",
       "      <td>12</td>\n",
       "      <td>1</td>\n",
       "      <td>107</td>\n",
       "      <td>남조로</td>\n",
       "      <td>1</td>\n",
       "      <td>0</td>\n",
       "      <td>50.0</td>\n",
       "      <td>0.0</td>\n",
       "      <td>0.0</td>\n",
       "      <td>0.0</td>\n",
       "      <td>3</td>\n",
       "      <td>의귀교</td>\n",
       "      <td>33.315308</td>\n",
       "      <td>126.714353</td>\n",
       "      <td>없음</td>\n",
       "      <td>의귀교</td>\n",
       "      <td>33.315111</td>\n",
       "      <td>126.714333</td>\n",
       "      <td>없음</td>\n",
       "      <td>53.0</td>\n",
       "    </tr>\n",
       "    <tr>\n",
       "      <th>...</th>\n",
       "      <td>...</td>\n",
       "      <td>...</td>\n",
       "      <td>...</td>\n",
       "      <td>...</td>\n",
       "      <td>...</td>\n",
       "      <td>...</td>\n",
       "      <td>...</td>\n",
       "      <td>...</td>\n",
       "      <td>...</td>\n",
       "      <td>...</td>\n",
       "      <td>...</td>\n",
       "      <td>...</td>\n",
       "      <td>...</td>\n",
       "      <td>...</td>\n",
       "      <td>...</td>\n",
       "      <td>...</td>\n",
       "      <td>...</td>\n",
       "      <td>...</td>\n",
       "      <td>...</td>\n",
       "      <td>...</td>\n",
       "      <td>...</td>\n",
       "      <td>...</td>\n",
       "      <td>...</td>\n",
       "    </tr>\n",
       "    <tr>\n",
       "      <th>4693502</th>\n",
       "      <td>TRAIN_4693502</td>\n",
       "      <td>20220531</td>\n",
       "      <td>화</td>\n",
       "      <td>21</td>\n",
       "      <td>1</td>\n",
       "      <td>107</td>\n",
       "      <td>남조로</td>\n",
       "      <td>1</td>\n",
       "      <td>0</td>\n",
       "      <td>50.0</td>\n",
       "      <td>0.0</td>\n",
       "      <td>0.0</td>\n",
       "      <td>0.0</td>\n",
       "      <td>3</td>\n",
       "      <td>의귀교</td>\n",
       "      <td>33.315308</td>\n",
       "      <td>126.714353</td>\n",
       "      <td>없음</td>\n",
       "      <td>의귀교</td>\n",
       "      <td>33.315111</td>\n",
       "      <td>126.714333</td>\n",
       "      <td>없음</td>\n",
       "      <td>59.0</td>\n",
       "    </tr>\n",
       "    <tr>\n",
       "      <th>4693857</th>\n",
       "      <td>TRAIN_4693857</td>\n",
       "      <td>20211013</td>\n",
       "      <td>수</td>\n",
       "      <td>17</td>\n",
       "      <td>1</td>\n",
       "      <td>107</td>\n",
       "      <td>남조로</td>\n",
       "      <td>1</td>\n",
       "      <td>0</td>\n",
       "      <td>50.0</td>\n",
       "      <td>0.0</td>\n",
       "      <td>0.0</td>\n",
       "      <td>0.0</td>\n",
       "      <td>3</td>\n",
       "      <td>의귀교</td>\n",
       "      <td>33.315308</td>\n",
       "      <td>126.714353</td>\n",
       "      <td>없음</td>\n",
       "      <td>의귀교</td>\n",
       "      <td>33.315111</td>\n",
       "      <td>126.714333</td>\n",
       "      <td>없음</td>\n",
       "      <td>45.0</td>\n",
       "    </tr>\n",
       "    <tr>\n",
       "      <th>4694003</th>\n",
       "      <td>TRAIN_4694003</td>\n",
       "      <td>20211227</td>\n",
       "      <td>월</td>\n",
       "      <td>16</td>\n",
       "      <td>1</td>\n",
       "      <td>107</td>\n",
       "      <td>남조로</td>\n",
       "      <td>1</td>\n",
       "      <td>0</td>\n",
       "      <td>50.0</td>\n",
       "      <td>0.0</td>\n",
       "      <td>0.0</td>\n",
       "      <td>0.0</td>\n",
       "      <td>3</td>\n",
       "      <td>의귀교</td>\n",
       "      <td>33.315111</td>\n",
       "      <td>126.714333</td>\n",
       "      <td>없음</td>\n",
       "      <td>의귀교</td>\n",
       "      <td>33.315308</td>\n",
       "      <td>126.714353</td>\n",
       "      <td>없음</td>\n",
       "      <td>43.0</td>\n",
       "    </tr>\n",
       "    <tr>\n",
       "      <th>4694142</th>\n",
       "      <td>TRAIN_4694142</td>\n",
       "      <td>20210922</td>\n",
       "      <td>수</td>\n",
       "      <td>6</td>\n",
       "      <td>1</td>\n",
       "      <td>107</td>\n",
       "      <td>남조로</td>\n",
       "      <td>1</td>\n",
       "      <td>0</td>\n",
       "      <td>50.0</td>\n",
       "      <td>0.0</td>\n",
       "      <td>0.0</td>\n",
       "      <td>0.0</td>\n",
       "      <td>3</td>\n",
       "      <td>의귀교</td>\n",
       "      <td>33.315308</td>\n",
       "      <td>126.714353</td>\n",
       "      <td>없음</td>\n",
       "      <td>의귀교</td>\n",
       "      <td>33.315111</td>\n",
       "      <td>126.714333</td>\n",
       "      <td>없음</td>\n",
       "      <td>56.0</td>\n",
       "    </tr>\n",
       "    <tr>\n",
       "      <th>4694789</th>\n",
       "      <td>TRAIN_4694789</td>\n",
       "      <td>20210929</td>\n",
       "      <td>수</td>\n",
       "      <td>23</td>\n",
       "      <td>1</td>\n",
       "      <td>107</td>\n",
       "      <td>남조로</td>\n",
       "      <td>1</td>\n",
       "      <td>0</td>\n",
       "      <td>50.0</td>\n",
       "      <td>0.0</td>\n",
       "      <td>0.0</td>\n",
       "      <td>0.0</td>\n",
       "      <td>3</td>\n",
       "      <td>의귀교</td>\n",
       "      <td>33.315308</td>\n",
       "      <td>126.714353</td>\n",
       "      <td>없음</td>\n",
       "      <td>의귀교</td>\n",
       "      <td>33.315111</td>\n",
       "      <td>126.714333</td>\n",
       "      <td>없음</td>\n",
       "      <td>48.0</td>\n",
       "    </tr>\n",
       "  </tbody>\n",
       "</table>\n",
       "<p>2239 rows × 23 columns</p>\n",
       "</div>"
      ],
      "text/plain": [
       "                    id  base_date day_of_week  base_hour  lane_count  \\\n",
       "2715     TRAIN_0002715   20211212           일         22           1   \n",
       "2842     TRAIN_0002842   20220323           수         12           1   \n",
       "5672     TRAIN_0005672   20211029           금         18           1   \n",
       "6065     TRAIN_0006065   20210930           목         14           1   \n",
       "7171     TRAIN_0007171   20220211           금         12           1   \n",
       "...                ...        ...         ...        ...         ...   \n",
       "4693502  TRAIN_4693502   20220531           화         21           1   \n",
       "4693857  TRAIN_4693857   20211013           수         17           1   \n",
       "4694003  TRAIN_4694003   20211227           월         16           1   \n",
       "4694142  TRAIN_4694142   20210922           수          6           1   \n",
       "4694789  TRAIN_4694789   20210929           수         23           1   \n",
       "\n",
       "         road_rating road_name  multi_linked  connect_code  \\\n",
       "2715             107       남조로             1             0   \n",
       "2842             107       남조로             1             0   \n",
       "5672             107       남조로             1             0   \n",
       "6065             107       남조로             1             0   \n",
       "7171             107       남조로             1             0   \n",
       "...              ...       ...           ...           ...   \n",
       "4693502          107       남조로             1             0   \n",
       "4693857          107       남조로             1             0   \n",
       "4694003          107       남조로             1             0   \n",
       "4694142          107       남조로             1             0   \n",
       "4694789          107       남조로             1             0   \n",
       "\n",
       "         maximum_speed_limit  vehicle_restricted  weight_restricted  \\\n",
       "2715                    50.0                 0.0                0.0   \n",
       "2842                    50.0                 0.0                0.0   \n",
       "5672                    50.0                 0.0                0.0   \n",
       "6065                    50.0                 0.0                0.0   \n",
       "7171                    50.0                 0.0                0.0   \n",
       "...                      ...                 ...                ...   \n",
       "4693502                 50.0                 0.0                0.0   \n",
       "4693857                 50.0                 0.0                0.0   \n",
       "4694003                 50.0                 0.0                0.0   \n",
       "4694142                 50.0                 0.0                0.0   \n",
       "4694789                 50.0                 0.0                0.0   \n",
       "\n",
       "         height_restricted  road_type start_node_name  start_latitude  \\\n",
       "2715                   0.0          3             의귀교       33.315308   \n",
       "2842                   0.0          3             의귀교       33.315111   \n",
       "5672                   0.0          3             의귀교       33.315111   \n",
       "6065                   0.0          3             의귀교       33.315111   \n",
       "7171                   0.0          3             의귀교       33.315308   \n",
       "...                    ...        ...             ...             ...   \n",
       "4693502                0.0          3             의귀교       33.315308   \n",
       "4693857                0.0          3             의귀교       33.315308   \n",
       "4694003                0.0          3             의귀교       33.315111   \n",
       "4694142                0.0          3             의귀교       33.315308   \n",
       "4694789                0.0          3             의귀교       33.315308   \n",
       "\n",
       "         start_longitude start_turn_restricted end_node_name  end_latitude  \\\n",
       "2715          126.714353                    없음           의귀교     33.315111   \n",
       "2842          126.714333                    없음           의귀교     33.315308   \n",
       "5672          126.714333                    없음           의귀교     33.315308   \n",
       "6065          126.714333                    없음           의귀교     33.315308   \n",
       "7171          126.714353                    없음           의귀교     33.315111   \n",
       "...                  ...                   ...           ...           ...   \n",
       "4693502       126.714353                    없음           의귀교     33.315111   \n",
       "4693857       126.714353                    없음           의귀교     33.315111   \n",
       "4694003       126.714333                    없음           의귀교     33.315308   \n",
       "4694142       126.714353                    없음           의귀교     33.315111   \n",
       "4694789       126.714353                    없음           의귀교     33.315111   \n",
       "\n",
       "         end_longitude end_turn_restricted  target  \n",
       "2715        126.714333                  없음    48.0  \n",
       "2842        126.714353                  없음    17.0  \n",
       "5672        126.714353                  없음    13.0  \n",
       "6065        126.714353                  없음    17.0  \n",
       "7171        126.714333                  없음    53.0  \n",
       "...                ...                 ...     ...  \n",
       "4693502     126.714333                  없음    59.0  \n",
       "4693857     126.714333                  없음    45.0  \n",
       "4694003     126.714353                  없음    43.0  \n",
       "4694142     126.714333                  없음    56.0  \n",
       "4694789     126.714333                  없음    48.0  \n",
       "\n",
       "[2239 rows x 23 columns]"
      ]
     },
     "execution_count": 32,
     "metadata": {},
     "output_type": "execute_result"
    }
   ],
   "source": [
    "train.loc[(train['road_name'] == '남조로') & (train['multi_linked'] == 1),:]"
   ]
  },
  {
   "cell_type": "markdown",
   "metadata": {},
   "source": [
    "- 다른 특성을 못찾은 것일 수도 있지만, mulit_linked 1인 도로는 하나밖에 없을 뿐더러 의미도 없어보임\n",
    "- 대시보드에 안보이는 데 왜 그런거지?\n",
    "- 테스트 데이터에는 0밖에 없지만, 모델학습시 0,1을 부여하면 비교해서 더 학습을 잘할지??\n",
    "- 일단 변수 제거 후보"
   ]
  },
  {
   "cell_type": "markdown",
   "metadata": {
    "id": "iA-oj-7-aNFu"
   },
   "source": [
    "## connect_code (연결로 코드)"
   ]
  },
  {
   "cell_type": "code",
   "execution_count": 33,
   "metadata": {},
   "outputs": [
    {
     "data": {
      "image/png": "[encoded data removed]",
      "text/plain": [
       "<Figure size 576x864 with 1 Axes>"
      ]
     },
     "metadata": {
      "needs_background": "light"
     },
     "output_type": "display_data"
    }
   ],
   "source": [
    "boxplot('connect_code')"
   ]
  },
  {
   "cell_type": "code",
   "execution_count": 34,
   "metadata": {},
   "outputs": [
    {
     "data": {
      "text/html": [
       "<div>\n",
       "<style scoped>\n",
       "    .dataframe tbody tr th:only-of-type {\n",
       "        vertical-align: middle;\n",
       "    }\n",
       "\n",
       "    .dataframe tbody tr th {\n",
       "        vertical-align: top;\n",
       "    }\n",
       "\n",
       "    .dataframe thead th {\n",
       "        text-align: right;\n",
       "    }\n",
       "</style>\n",
       "<table border=\"1\" class=\"dataframe\">\n",
       "  <thead>\n",
       "    <tr style=\"text-align: right;\">\n",
       "      <th></th>\n",
       "      <th>target</th>\n",
       "    </tr>\n",
       "    <tr>\n",
       "      <th>connect_code</th>\n",
       "      <th></th>\n",
       "    </tr>\n",
       "  </thead>\n",
       "  <tbody>\n",
       "    <tr>\n",
       "      <th>0</th>\n",
       "      <td>4689075</td>\n",
       "    </tr>\n",
       "    <tr>\n",
       "      <th>103</th>\n",
       "      <td>12142</td>\n",
       "    </tr>\n",
       "  </tbody>\n",
       "</table>\n",
       "</div>"
      ],
      "text/plain": [
       "               target\n",
       "connect_code         \n",
       "0             4689075\n",
       "103             12142"
      ]
     },
     "execution_count": 34,
     "metadata": {},
     "output_type": "execute_result"
    }
   ],
   "source": [
    "train[['connect_code','target']].groupby('connect_code').count()"
   ]
  },
  {
   "cell_type": "code",
   "execution_count": 35,
   "metadata": {},
   "outputs": [
    {
     "data": {
      "text/html": [
       "<div>\n",
       "<style scoped>\n",
       "    .dataframe tbody tr th:only-of-type {\n",
       "        vertical-align: middle;\n",
       "    }\n",
       "\n",
       "    .dataframe tbody tr th {\n",
       "        vertical-align: top;\n",
       "    }\n",
       "\n",
       "    .dataframe thead th {\n",
       "        text-align: right;\n",
       "    }\n",
       "</style>\n",
       "<table border=\"1\" class=\"dataframe\">\n",
       "  <thead>\n",
       "    <tr style=\"text-align: right;\">\n",
       "      <th></th>\n",
       "      <th>id</th>\n",
       "      <th>base_date</th>\n",
       "      <th>day_of_week</th>\n",
       "      <th>base_hour</th>\n",
       "      <th>lane_count</th>\n",
       "      <th>road_rating</th>\n",
       "      <th>road_name</th>\n",
       "      <th>multi_linked</th>\n",
       "      <th>connect_code</th>\n",
       "      <th>maximum_speed_limit</th>\n",
       "      <th>vehicle_restricted</th>\n",
       "      <th>weight_restricted</th>\n",
       "      <th>height_restricted</th>\n",
       "      <th>road_type</th>\n",
       "      <th>start_node_name</th>\n",
       "      <th>start_latitude</th>\n",
       "      <th>start_longitude</th>\n",
       "      <th>start_turn_restricted</th>\n",
       "      <th>end_node_name</th>\n",
       "      <th>end_latitude</th>\n",
       "      <th>end_longitude</th>\n",
       "      <th>end_turn_restricted</th>\n",
       "      <th>target</th>\n",
       "    </tr>\n",
       "  </thead>\n",
       "  <tbody>\n",
       "    <tr>\n",
       "      <th>84</th>\n",
       "      <td>TRAIN_0000084</td>\n",
       "      <td>20220607</td>\n",
       "      <td>화</td>\n",
       "      <td>6</td>\n",
       "      <td>1</td>\n",
       "      <td>103</td>\n",
       "      <td>일반국도12호선</td>\n",
       "      <td>0</td>\n",
       "      <td>103</td>\n",
       "      <td>40.0</td>\n",
       "      <td>0.0</td>\n",
       "      <td>0.0</td>\n",
       "      <td>0.0</td>\n",
       "      <td>0</td>\n",
       "      <td>양계장</td>\n",
       "      <td>33.475446</td>\n",
       "      <td>126.388193</td>\n",
       "      <td>없음</td>\n",
       "      <td>구엄교</td>\n",
       "      <td>33.478037</td>\n",
       "      <td>126.388439</td>\n",
       "      <td>없음</td>\n",
       "      <td>74.0</td>\n",
       "    </tr>\n",
       "    <tr>\n",
       "      <th>380</th>\n",
       "      <td>TRAIN_0000380</td>\n",
       "      <td>20220205</td>\n",
       "      <td>토</td>\n",
       "      <td>6</td>\n",
       "      <td>1</td>\n",
       "      <td>103</td>\n",
       "      <td>일반국도12호선</td>\n",
       "      <td>0</td>\n",
       "      <td>103</td>\n",
       "      <td>40.0</td>\n",
       "      <td>0.0</td>\n",
       "      <td>0.0</td>\n",
       "      <td>0.0</td>\n",
       "      <td>0</td>\n",
       "      <td>양계장</td>\n",
       "      <td>33.475446</td>\n",
       "      <td>126.388193</td>\n",
       "      <td>없음</td>\n",
       "      <td>구엄교</td>\n",
       "      <td>33.478037</td>\n",
       "      <td>126.388439</td>\n",
       "      <td>없음</td>\n",
       "      <td>67.0</td>\n",
       "    </tr>\n",
       "    <tr>\n",
       "      <th>961</th>\n",
       "      <td>TRAIN_0000961</td>\n",
       "      <td>20220209</td>\n",
       "      <td>수</td>\n",
       "      <td>13</td>\n",
       "      <td>2</td>\n",
       "      <td>103</td>\n",
       "      <td>일반국도12호선</td>\n",
       "      <td>0</td>\n",
       "      <td>103</td>\n",
       "      <td>80.0</td>\n",
       "      <td>0.0</td>\n",
       "      <td>0.0</td>\n",
       "      <td>0.0</td>\n",
       "      <td>0</td>\n",
       "      <td>오돌또기</td>\n",
       "      <td>33.476123</td>\n",
       "      <td>126.382742</td>\n",
       "      <td>없음</td>\n",
       "      <td>양계장</td>\n",
       "      <td>33.475446</td>\n",
       "      <td>126.388193</td>\n",
       "      <td>없음</td>\n",
       "      <td>52.0</td>\n",
       "    </tr>\n",
       "    <tr>\n",
       "      <th>1107</th>\n",
       "      <td>TRAIN_0001107</td>\n",
       "      <td>20220322</td>\n",
       "      <td>화</td>\n",
       "      <td>9</td>\n",
       "      <td>2</td>\n",
       "      <td>103</td>\n",
       "      <td>일반국도12호선</td>\n",
       "      <td>0</td>\n",
       "      <td>103</td>\n",
       "      <td>80.0</td>\n",
       "      <td>0.0</td>\n",
       "      <td>0.0</td>\n",
       "      <td>0.0</td>\n",
       "      <td>0</td>\n",
       "      <td>오돌또기</td>\n",
       "      <td>33.476123</td>\n",
       "      <td>126.382742</td>\n",
       "      <td>없음</td>\n",
       "      <td>양계장</td>\n",
       "      <td>33.475446</td>\n",
       "      <td>126.388193</td>\n",
       "      <td>없음</td>\n",
       "      <td>51.0</td>\n",
       "    </tr>\n",
       "    <tr>\n",
       "      <th>1182</th>\n",
       "      <td>TRAIN_0001182</td>\n",
       "      <td>20220620</td>\n",
       "      <td>월</td>\n",
       "      <td>19</td>\n",
       "      <td>1</td>\n",
       "      <td>103</td>\n",
       "      <td>일반국도12호선</td>\n",
       "      <td>0</td>\n",
       "      <td>103</td>\n",
       "      <td>40.0</td>\n",
       "      <td>0.0</td>\n",
       "      <td>0.0</td>\n",
       "      <td>0.0</td>\n",
       "      <td>0</td>\n",
       "      <td>양계장</td>\n",
       "      <td>33.475446</td>\n",
       "      <td>126.388193</td>\n",
       "      <td>없음</td>\n",
       "      <td>구엄교</td>\n",
       "      <td>33.478037</td>\n",
       "      <td>126.388439</td>\n",
       "      <td>없음</td>\n",
       "      <td>70.0</td>\n",
       "    </tr>\n",
       "    <tr>\n",
       "      <th>...</th>\n",
       "      <td>...</td>\n",
       "      <td>...</td>\n",
       "      <td>...</td>\n",
       "      <td>...</td>\n",
       "      <td>...</td>\n",
       "      <td>...</td>\n",
       "      <td>...</td>\n",
       "      <td>...</td>\n",
       "      <td>...</td>\n",
       "      <td>...</td>\n",
       "      <td>...</td>\n",
       "      <td>...</td>\n",
       "      <td>...</td>\n",
       "      <td>...</td>\n",
       "      <td>...</td>\n",
       "      <td>...</td>\n",
       "      <td>...</td>\n",
       "      <td>...</td>\n",
       "      <td>...</td>\n",
       "      <td>...</td>\n",
       "      <td>...</td>\n",
       "      <td>...</td>\n",
       "      <td>...</td>\n",
       "    </tr>\n",
       "    <tr>\n",
       "      <th>4699979</th>\n",
       "      <td>TRAIN_4699979</td>\n",
       "      <td>20211204</td>\n",
       "      <td>토</td>\n",
       "      <td>12</td>\n",
       "      <td>2</td>\n",
       "      <td>103</td>\n",
       "      <td>일반국도12호선</td>\n",
       "      <td>0</td>\n",
       "      <td>103</td>\n",
       "      <td>80.0</td>\n",
       "      <td>0.0</td>\n",
       "      <td>0.0</td>\n",
       "      <td>0.0</td>\n",
       "      <td>0</td>\n",
       "      <td>오돌또기</td>\n",
       "      <td>33.476123</td>\n",
       "      <td>126.382742</td>\n",
       "      <td>없음</td>\n",
       "      <td>양계장</td>\n",
       "      <td>33.475446</td>\n",
       "      <td>126.388193</td>\n",
       "      <td>없음</td>\n",
       "      <td>53.0</td>\n",
       "    </tr>\n",
       "    <tr>\n",
       "      <th>4700043</th>\n",
       "      <td>TRAIN_4700043</td>\n",
       "      <td>20220325</td>\n",
       "      <td>금</td>\n",
       "      <td>10</td>\n",
       "      <td>2</td>\n",
       "      <td>103</td>\n",
       "      <td>일반국도12호선</td>\n",
       "      <td>0</td>\n",
       "      <td>103</td>\n",
       "      <td>80.0</td>\n",
       "      <td>0.0</td>\n",
       "      <td>0.0</td>\n",
       "      <td>0.0</td>\n",
       "      <td>0</td>\n",
       "      <td>오돌또기</td>\n",
       "      <td>33.476123</td>\n",
       "      <td>126.382742</td>\n",
       "      <td>없음</td>\n",
       "      <td>양계장</td>\n",
       "      <td>33.475446</td>\n",
       "      <td>126.388193</td>\n",
       "      <td>없음</td>\n",
       "      <td>54.0</td>\n",
       "    </tr>\n",
       "    <tr>\n",
       "      <th>4700232</th>\n",
       "      <td>TRAIN_4700232</td>\n",
       "      <td>20211023</td>\n",
       "      <td>토</td>\n",
       "      <td>7</td>\n",
       "      <td>1</td>\n",
       "      <td>103</td>\n",
       "      <td>일반국도12호선</td>\n",
       "      <td>0</td>\n",
       "      <td>103</td>\n",
       "      <td>40.0</td>\n",
       "      <td>0.0</td>\n",
       "      <td>0.0</td>\n",
       "      <td>0.0</td>\n",
       "      <td>0</td>\n",
       "      <td>양계장</td>\n",
       "      <td>33.475446</td>\n",
       "      <td>126.388193</td>\n",
       "      <td>없음</td>\n",
       "      <td>구엄교</td>\n",
       "      <td>33.478037</td>\n",
       "      <td>126.388439</td>\n",
       "      <td>없음</td>\n",
       "      <td>67.0</td>\n",
       "    </tr>\n",
       "    <tr>\n",
       "      <th>4700581</th>\n",
       "      <td>TRAIN_4700581</td>\n",
       "      <td>20211011</td>\n",
       "      <td>월</td>\n",
       "      <td>7</td>\n",
       "      <td>2</td>\n",
       "      <td>103</td>\n",
       "      <td>일반국도12호선</td>\n",
       "      <td>0</td>\n",
       "      <td>103</td>\n",
       "      <td>80.0</td>\n",
       "      <td>0.0</td>\n",
       "      <td>0.0</td>\n",
       "      <td>0.0</td>\n",
       "      <td>0</td>\n",
       "      <td>오돌또기</td>\n",
       "      <td>33.476123</td>\n",
       "      <td>126.382742</td>\n",
       "      <td>없음</td>\n",
       "      <td>양계장</td>\n",
       "      <td>33.475446</td>\n",
       "      <td>126.388193</td>\n",
       "      <td>없음</td>\n",
       "      <td>55.0</td>\n",
       "    </tr>\n",
       "    <tr>\n",
       "      <th>4700944</th>\n",
       "      <td>TRAIN_4700944</td>\n",
       "      <td>20211105</td>\n",
       "      <td>금</td>\n",
       "      <td>5</td>\n",
       "      <td>2</td>\n",
       "      <td>103</td>\n",
       "      <td>일반국도12호선</td>\n",
       "      <td>0</td>\n",
       "      <td>103</td>\n",
       "      <td>80.0</td>\n",
       "      <td>0.0</td>\n",
       "      <td>0.0</td>\n",
       "      <td>0.0</td>\n",
       "      <td>0</td>\n",
       "      <td>오돌또기</td>\n",
       "      <td>33.476123</td>\n",
       "      <td>126.382742</td>\n",
       "      <td>없음</td>\n",
       "      <td>양계장</td>\n",
       "      <td>33.475446</td>\n",
       "      <td>126.388193</td>\n",
       "      <td>없음</td>\n",
       "      <td>58.0</td>\n",
       "    </tr>\n",
       "  </tbody>\n",
       "</table>\n",
       "<p>12142 rows × 23 columns</p>\n",
       "</div>"
      ],
      "text/plain": [
       "                    id  base_date day_of_week  base_hour  lane_count  \\\n",
       "84       TRAIN_0000084   20220607           화          6           1   \n",
       "380      TRAIN_0000380   20220205           토          6           1   \n",
       "961      TRAIN_0000961   20220209           수         13           2   \n",
       "1107     TRAIN_0001107   20220322           화          9           2   \n",
       "1182     TRAIN_0001182   20220620           월         19           1   \n",
       "...                ...        ...         ...        ...         ...   \n",
       "4699979  TRAIN_4699979   20211204           토         12           2   \n",
       "4700043  TRAIN_4700043   20220325           금         10           2   \n",
       "4700232  TRAIN_4700232   20211023           토          7           1   \n",
       "4700581  TRAIN_4700581   20211011           월          7           2   \n",
       "4700944  TRAIN_4700944   20211105           금          5           2   \n",
       "\n",
       "         road_rating road_name  multi_linked  connect_code  \\\n",
       "84               103  일반국도12호선             0           103   \n",
       "380              103  일반국도12호선             0           103   \n",
       "961              103  일반국도12호선             0           103   \n",
       "1107             103  일반국도12호선             0           103   \n",
       "1182             103  일반국도12호선             0           103   \n",
       "...              ...       ...           ...           ...   \n",
       "4699979          103  일반국도12호선             0           103   \n",
       "4700043          103  일반국도12호선             0           103   \n",
       "4700232          103  일반국도12호선             0           103   \n",
       "4700581          103  일반국도12호선             0           103   \n",
       "4700944          103  일반국도12호선             0           103   \n",
       "\n",
       "         maximum_speed_limit  vehicle_restricted  weight_restricted  \\\n",
       "84                      40.0                 0.0                0.0   \n",
       "380                     40.0                 0.0                0.0   \n",
       "961                     80.0                 0.0                0.0   \n",
       "1107                    80.0                 0.0                0.0   \n",
       "1182                    40.0                 0.0                0.0   \n",
       "...                      ...                 ...                ...   \n",
       "4699979                 80.0                 0.0                0.0   \n",
       "4700043                 80.0                 0.0                0.0   \n",
       "4700232                 40.0                 0.0                0.0   \n",
       "4700581                 80.0                 0.0                0.0   \n",
       "4700944                 80.0                 0.0                0.0   \n",
       "\n",
       "         height_restricted  road_type start_node_name  start_latitude  \\\n",
       "84                     0.0          0             양계장       33.475446   \n",
       "380                    0.0          0             양계장       33.475446   \n",
       "961                    0.0          0            오돌또기       33.476123   \n",
       "1107                   0.0          0            오돌또기       33.476123   \n",
       "1182                   0.0          0             양계장       33.475446   \n",
       "...                    ...        ...             ...             ...   \n",
       "4699979                0.0          0            오돌또기       33.476123   \n",
       "4700043                0.0          0            오돌또기       33.476123   \n",
       "4700232                0.0          0             양계장       33.475446   \n",
       "4700581                0.0          0            오돌또기       33.476123   \n",
       "4700944                0.0          0            오돌또기       33.476123   \n",
       "\n",
       "         start_longitude start_turn_restricted end_node_name  end_latitude  \\\n",
       "84            126.388193                    없음           구엄교     33.478037   \n",
       "380           126.388193                    없음           구엄교     33.478037   \n",
       "961           126.382742                    없음           양계장     33.475446   \n",
       "1107          126.382742                    없음           양계장     33.475446   \n",
       "1182          126.388193                    없음           구엄교     33.478037   \n",
       "...                  ...                   ...           ...           ...   \n",
       "4699979       126.382742                    없음           양계장     33.475446   \n",
       "4700043       126.382742                    없음           양계장     33.475446   \n",
       "4700232       126.388193                    없음           구엄교     33.478037   \n",
       "4700581       126.382742                    없음           양계장     33.475446   \n",
       "4700944       126.382742                    없음           양계장     33.475446   \n",
       "\n",
       "         end_longitude end_turn_restricted  target  \n",
       "84          126.388439                  없음    74.0  \n",
       "380         126.388439                  없음    67.0  \n",
       "961         126.388193                  없음    52.0  \n",
       "1107        126.388193                  없음    51.0  \n",
       "1182        126.388439                  없음    70.0  \n",
       "...                ...                 ...     ...  \n",
       "4699979     126.388193                  없음    53.0  \n",
       "4700043     126.388193                  없음    54.0  \n",
       "4700232     126.388439                  없음    67.0  \n",
       "4700581     126.388193                  없음    55.0  \n",
       "4700944     126.388193                  없음    58.0  \n",
       "\n",
       "[12142 rows x 23 columns]"
      ]
     },
     "execution_count": 35,
     "metadata": {},
     "output_type": "execute_result"
    }
   ],
   "source": [
    "train.loc[train['connect_code']==103,:]"
   ]
  },
  {
   "cell_type": "markdown",
   "metadata": {},
   "source": [
    "- 테스트 데이터에는 0밖에 없지만, 모델학습시 0,1을 부여하면 비교해서 더 학습을 잘할지??\n",
    "- 일단 변수 제거 후보"
   ]
  },
  {
   "cell_type": "markdown",
   "metadata": {
    "id": "VZwETj3aaNXh"
   },
   "source": [
    "## maximum_speed_limit (최고속도제한)"
   ]
  },
  {
   "cell_type": "code",
   "execution_count": 41,
   "metadata": {},
   "outputs": [
    {
     "data": {
      "image/png": "[encoded data removed]",
      "text/plain": [
       "<Figure size 576x864 with 1 Axes>"
      ]
     },
     "metadata": {
      "needs_background": "light"
     },
     "output_type": "display_data"
    }
   ],
   "source": [
    "boxplot('maximum_speed_limit')"
   ]
  },
  {
   "cell_type": "code",
   "execution_count": 44,
   "metadata": {},
   "outputs": [
    {
     "data": {
      "text/plain": [
       "{'일반국도12호선', '일반국도95호선'}"
      ]
     },
     "execution_count": 44,
     "metadata": {},
     "output_type": "execute_result"
    }
   ],
   "source": [
    "set(train.loc[train['maximum_speed_limit']==40,'road_name'].to_list())"
   ]
  },
  {
   "cell_type": "code",
   "execution_count": 46,
   "metadata": {},
   "outputs": [
    {
     "data": {
      "image/png": "[encoded data removed]",
      "text/plain": [
       "<Figure size 1008x1008 with 1 Axes>"
      ]
     },
     "metadata": {
      "needs_background": "light"
     },
     "output_type": "display_data"
    }
   ],
   "source": [
    "plt.figure(figsize=(14,14))\n",
    "for i in range(30,90,10):\n",
    "    sns.kdeplot(train.loc[train['maximum_speed_limit']==i,'target'],label=i)\n",
    "plt.legend(loc='best')\n",
    "plt.grid()\n",
    "plt.show()"
   ]
  },
  {
   "cell_type": "markdown",
   "metadata": {},
   "source": [
    "- 최고 속도 40제한일 때, 명확히 2그룹으로 나눠지는 걸 볼 수 있음\n",
    "- '일반국도12호선', '일반국도95호선' 나눠서 분포 그려보자"
   ]
  },
  {
   "cell_type": "code",
   "execution_count": 48,
   "metadata": {
    "scrolled": true
   },
   "outputs": [
    {
     "name": "stderr",
     "output_type": "stream",
     "text": [
      "C:\\Users\\guswp\\anaconda3\\lib\\site-packages\\IPython\\core\\pylabtools.py:151: UserWarning: Glyph 51068 (\\N{HANGUL SYLLABLE IL}) missing from current font.\n",
      "  fig.canvas.print_figure(bytes_io, **kw)\n",
      "C:\\Users\\guswp\\anaconda3\\lib\\site-packages\\IPython\\core\\pylabtools.py:151: UserWarning: Glyph 48152 (\\N{HANGUL SYLLABLE BAN}) missing from current font.\n",
      "  fig.canvas.print_figure(bytes_io, **kw)\n",
      "C:\\Users\\guswp\\anaconda3\\lib\\site-packages\\IPython\\core\\pylabtools.py:151: UserWarning: Glyph 44397 (\\N{HANGUL SYLLABLE GUG}) missing from current font.\n",
      "  fig.canvas.print_figure(bytes_io, **kw)\n",
      "C:\\Users\\guswp\\anaconda3\\lib\\site-packages\\IPython\\core\\pylabtools.py:151: UserWarning: Glyph 46020 (\\N{HANGUL SYLLABLE DO}) missing from current font.\n",
      "  fig.canvas.print_figure(bytes_io, **kw)\n",
      "C:\\Users\\guswp\\anaconda3\\lib\\site-packages\\IPython\\core\\pylabtools.py:151: UserWarning: Glyph 54840 (\\N{HANGUL SYLLABLE HO}) missing from current font.\n",
      "  fig.canvas.print_figure(bytes_io, **kw)\n",
      "C:\\Users\\guswp\\anaconda3\\lib\\site-packages\\IPython\\core\\pylabtools.py:151: UserWarning: Glyph 49440 (\\N{HANGUL SYLLABLE SEON}) missing from current font.\n",
      "  fig.canvas.print_figure(bytes_io, **kw)\n"
     ]
    },
    {
     "data": {
      "image/png": "[encoded data removed]",
      "text/plain": [
       "<Figure size 576x576 with 1 Axes>"
      ]
     },
     "metadata": {
      "needs_background": "light"
     },
     "output_type": "display_data"
    }
   ],
   "source": [
    "plt.figure(figsize=(8,8))\n",
    "for i in ['일반국도12호선', '일반국도95호선']:\n",
    "    sns.kdeplot(train.loc[train['road_name']==i,'target'],label=i)\n",
    "plt.legend(loc='best')\n",
    "plt.grid()\n",
    "plt.show()"
   ]
  },
  {
   "cell_type": "markdown",
   "metadata": {},
   "source": [
    "- '일반국도12호선', '일반국도95호선' 명확하게 구분되는 것을 확인\n",
    "- 테스트 데이터에는 제한속도 40인 데이터는 없음\n",
    "- 도로 구간별로 최고 속도 대비 평균속도 비율이 어떻게 되는지 확인해보자"
   ]
  },
  {
   "cell_type": "markdown",
   "metadata": {},
   "source": [
    "### 도로 구간별로 **최고 속도**  대비 **평균속도** 비율 분석"
   ]
  },
  {
   "cell_type": "code",
   "execution_count": 17,
   "metadata": {},
   "outputs": [],
   "source": [
    "train['max_avg_ratio'] = train['target'] / train['maximum_speed_limit']"
   ]
  },
  {
   "cell_type": "code",
   "execution_count": 17,
   "metadata": {},
   "outputs": [
    {
     "name": "stderr",
     "output_type": "stream",
     "text": [
      "findfont: Font family ['NanumBarunGothic'] not found. Falling back to DejaVu Sans.\n"
     ]
    },
    {
     "data": {
      "image/png": "[encoded data removed]",
      "text/plain": [
       "<Figure size 720x720 with 1 Axes>"
      ]
     },
     "metadata": {
      "needs_background": "light"
     },
     "output_type": "display_data"
    }
   ],
   "source": [
    "plt.figure(figsize=(10,10))\n",
    "sns.kdeplot(train['max_avg_ratio'])\n",
    "plt.grid()\n",
    "plt.show()"
   ]
  },
  {
   "cell_type": "code",
   "execution_count": 19,
   "metadata": {},
   "outputs": [
    {
     "data": {
      "image/png": "[encoded data removed]",
      "text/plain": [
       "<Figure size 576x864 with 1 Axes>"
      ]
     },
     "metadata": {
      "needs_background": "light"
     },
     "output_type": "display_data"
    }
   ],
   "source": [
    "plt.figure(figsize=(8,12))\n",
    "sns.boxplot(x=train['base_hour'].to_numpy(),y=train['max_avg_ratio'].to_numpy())\n",
    "plt.grid()\n",
    "plt.show()"
   ]
  },
  {
   "cell_type": "code",
   "execution_count": 29,
   "metadata": {},
   "outputs": [
    {
     "data": {
      "text/html": [
       "<div>\n",
       "<style scoped>\n",
       "    .dataframe tbody tr th:only-of-type {\n",
       "        vertical-align: middle;\n",
       "    }\n",
       "\n",
       "    .dataframe tbody tr th {\n",
       "        vertical-align: top;\n",
       "    }\n",
       "\n",
       "    .dataframe thead th {\n",
       "        text-align: right;\n",
       "    }\n",
       "</style>\n",
       "<table border=\"1\" class=\"dataframe\">\n",
       "  <thead>\n",
       "    <tr style=\"text-align: right;\">\n",
       "      <th></th>\n",
       "      <th>id</th>\n",
       "      <th>base_date</th>\n",
       "      <th>day_of_week</th>\n",
       "      <th>base_hour</th>\n",
       "      <th>lane_count</th>\n",
       "      <th>road_rating</th>\n",
       "      <th>road_name</th>\n",
       "      <th>multi_linked</th>\n",
       "      <th>connect_code</th>\n",
       "      <th>maximum_speed_limit</th>\n",
       "      <th>vehicle_restricted</th>\n",
       "      <th>weight_restricted</th>\n",
       "      <th>height_restricted</th>\n",
       "      <th>road_type</th>\n",
       "      <th>start_node_name</th>\n",
       "      <th>start_latitude</th>\n",
       "      <th>start_longitude</th>\n",
       "      <th>start_turn_restricted</th>\n",
       "      <th>end_node_name</th>\n",
       "      <th>end_latitude</th>\n",
       "      <th>end_longitude</th>\n",
       "      <th>end_turn_restricted</th>\n",
       "      <th>target</th>\n",
       "      <th>max_avg_ratio</th>\n",
       "    </tr>\n",
       "  </thead>\n",
       "  <tbody>\n",
       "    <tr>\n",
       "      <th>84</th>\n",
       "      <td>TRAIN_0000084</td>\n",
       "      <td>20220607</td>\n",
       "      <td>화</td>\n",
       "      <td>6</td>\n",
       "      <td>1</td>\n",
       "      <td>103</td>\n",
       "      <td>일반국도12호선</td>\n",
       "      <td>0</td>\n",
       "      <td>103</td>\n",
       "      <td>40.0</td>\n",
       "      <td>0.0</td>\n",
       "      <td>0.0</td>\n",
       "      <td>0.0</td>\n",
       "      <td>0</td>\n",
       "      <td>양계장</td>\n",
       "      <td>33.475446</td>\n",
       "      <td>126.388193</td>\n",
       "      <td>없음</td>\n",
       "      <td>구엄교</td>\n",
       "      <td>33.478037</td>\n",
       "      <td>126.388439</td>\n",
       "      <td>없음</td>\n",
       "      <td>74.0</td>\n",
       "      <td>1.850000</td>\n",
       "    </tr>\n",
       "    <tr>\n",
       "      <th>160</th>\n",
       "      <td>TRAIN_0000160</td>\n",
       "      <td>20211004</td>\n",
       "      <td>월</td>\n",
       "      <td>12</td>\n",
       "      <td>2</td>\n",
       "      <td>103</td>\n",
       "      <td>일반국도99호선</td>\n",
       "      <td>0</td>\n",
       "      <td>0</td>\n",
       "      <td>30.0</td>\n",
       "      <td>0.0</td>\n",
       "      <td>0.0</td>\n",
       "      <td>0.0</td>\n",
       "      <td>0</td>\n",
       "      <td>하늘궁전</td>\n",
       "      <td>33.249505</td>\n",
       "      <td>126.430787</td>\n",
       "      <td>없음</td>\n",
       "      <td>창고</td>\n",
       "      <td>33.244512</td>\n",
       "      <td>126.427069</td>\n",
       "      <td>없음</td>\n",
       "      <td>45.0</td>\n",
       "      <td>1.500000</td>\n",
       "    </tr>\n",
       "    <tr>\n",
       "      <th>247</th>\n",
       "      <td>TRAIN_0000247</td>\n",
       "      <td>20220720</td>\n",
       "      <td>수</td>\n",
       "      <td>11</td>\n",
       "      <td>2</td>\n",
       "      <td>103</td>\n",
       "      <td>일반국도16호선</td>\n",
       "      <td>0</td>\n",
       "      <td>0</td>\n",
       "      <td>60.0</td>\n",
       "      <td>0.0</td>\n",
       "      <td>43200.0</td>\n",
       "      <td>0.0</td>\n",
       "      <td>3</td>\n",
       "      <td>색달육교</td>\n",
       "      <td>33.266040</td>\n",
       "      <td>126.414029</td>\n",
       "      <td>없음</td>\n",
       "      <td>색달육교</td>\n",
       "      <td>33.265988</td>\n",
       "      <td>126.414267</td>\n",
       "      <td>없음</td>\n",
       "      <td>81.0</td>\n",
       "      <td>1.350000</td>\n",
       "    </tr>\n",
       "    <tr>\n",
       "      <th>270</th>\n",
       "      <td>TRAIN_0000270</td>\n",
       "      <td>20211230</td>\n",
       "      <td>목</td>\n",
       "      <td>13</td>\n",
       "      <td>1</td>\n",
       "      <td>107</td>\n",
       "      <td>-</td>\n",
       "      <td>0</td>\n",
       "      <td>0</td>\n",
       "      <td>30.0</td>\n",
       "      <td>0.0</td>\n",
       "      <td>0.0</td>\n",
       "      <td>0.0</td>\n",
       "      <td>0</td>\n",
       "      <td>감귤선과장</td>\n",
       "      <td>33.443310</td>\n",
       "      <td>126.311886</td>\n",
       "      <td>없음</td>\n",
       "      <td>어도초등교</td>\n",
       "      <td>33.434581</td>\n",
       "      <td>126.324312</td>\n",
       "      <td>없음</td>\n",
       "      <td>40.0</td>\n",
       "      <td>1.333333</td>\n",
       "    </tr>\n",
       "    <tr>\n",
       "      <th>283</th>\n",
       "      <td>TRAIN_0000283</td>\n",
       "      <td>20220130</td>\n",
       "      <td>일</td>\n",
       "      <td>7</td>\n",
       "      <td>1</td>\n",
       "      <td>103</td>\n",
       "      <td>일반국도12호선</td>\n",
       "      <td>0</td>\n",
       "      <td>0</td>\n",
       "      <td>30.0</td>\n",
       "      <td>0.0</td>\n",
       "      <td>0.0</td>\n",
       "      <td>0.0</td>\n",
       "      <td>0</td>\n",
       "      <td>서사라사거리</td>\n",
       "      <td>33.499848</td>\n",
       "      <td>126.519872</td>\n",
       "      <td>있음</td>\n",
       "      <td>한국병원앞</td>\n",
       "      <td>33.499973</td>\n",
       "      <td>126.516469</td>\n",
       "      <td>있음</td>\n",
       "      <td>39.0</td>\n",
       "      <td>1.300000</td>\n",
       "    </tr>\n",
       "    <tr>\n",
       "      <th>...</th>\n",
       "      <td>...</td>\n",
       "      <td>...</td>\n",
       "      <td>...</td>\n",
       "      <td>...</td>\n",
       "      <td>...</td>\n",
       "      <td>...</td>\n",
       "      <td>...</td>\n",
       "      <td>...</td>\n",
       "      <td>...</td>\n",
       "      <td>...</td>\n",
       "      <td>...</td>\n",
       "      <td>...</td>\n",
       "      <td>...</td>\n",
       "      <td>...</td>\n",
       "      <td>...</td>\n",
       "      <td>...</td>\n",
       "      <td>...</td>\n",
       "      <td>...</td>\n",
       "      <td>...</td>\n",
       "      <td>...</td>\n",
       "      <td>...</td>\n",
       "      <td>...</td>\n",
       "      <td>...</td>\n",
       "      <td>...</td>\n",
       "    </tr>\n",
       "    <tr>\n",
       "      <th>4701076</th>\n",
       "      <td>TRAIN_4701076</td>\n",
       "      <td>20220104</td>\n",
       "      <td>화</td>\n",
       "      <td>2</td>\n",
       "      <td>1</td>\n",
       "      <td>107</td>\n",
       "      <td>-</td>\n",
       "      <td>0</td>\n",
       "      <td>0</td>\n",
       "      <td>30.0</td>\n",
       "      <td>0.0</td>\n",
       "      <td>0.0</td>\n",
       "      <td>0.0</td>\n",
       "      <td>0</td>\n",
       "      <td>일호유리</td>\n",
       "      <td>33.472276</td>\n",
       "      <td>126.418443</td>\n",
       "      <td>없음</td>\n",
       "      <td>하귀입구</td>\n",
       "      <td>33.485264</td>\n",
       "      <td>126.410896</td>\n",
       "      <td>없음</td>\n",
       "      <td>41.0</td>\n",
       "      <td>1.366667</td>\n",
       "    </tr>\n",
       "    <tr>\n",
       "      <th>4701107</th>\n",
       "      <td>TRAIN_4701107</td>\n",
       "      <td>20220627</td>\n",
       "      <td>월</td>\n",
       "      <td>22</td>\n",
       "      <td>1</td>\n",
       "      <td>107</td>\n",
       "      <td>관광단지로</td>\n",
       "      <td>0</td>\n",
       "      <td>0</td>\n",
       "      <td>30.0</td>\n",
       "      <td>0.0</td>\n",
       "      <td>0.0</td>\n",
       "      <td>0.0</td>\n",
       "      <td>0</td>\n",
       "      <td>산신주유소</td>\n",
       "      <td>33.255215</td>\n",
       "      <td>126.414236</td>\n",
       "      <td>없음</td>\n",
       "      <td>관광단지입구</td>\n",
       "      <td>33.258119</td>\n",
       "      <td>126.415840</td>\n",
       "      <td>없음</td>\n",
       "      <td>41.0</td>\n",
       "      <td>1.366667</td>\n",
       "    </tr>\n",
       "    <tr>\n",
       "      <th>4701136</th>\n",
       "      <td>TRAIN_4701136</td>\n",
       "      <td>20220126</td>\n",
       "      <td>수</td>\n",
       "      <td>18</td>\n",
       "      <td>1</td>\n",
       "      <td>107</td>\n",
       "      <td>-</td>\n",
       "      <td>0</td>\n",
       "      <td>0</td>\n",
       "      <td>30.0</td>\n",
       "      <td>0.0</td>\n",
       "      <td>0.0</td>\n",
       "      <td>0.0</td>\n",
       "      <td>0</td>\n",
       "      <td>어도초등교</td>\n",
       "      <td>33.434581</td>\n",
       "      <td>126.324312</td>\n",
       "      <td>없음</td>\n",
       "      <td>감귤선과장</td>\n",
       "      <td>33.443310</td>\n",
       "      <td>126.311886</td>\n",
       "      <td>없음</td>\n",
       "      <td>48.0</td>\n",
       "      <td>1.600000</td>\n",
       "    </tr>\n",
       "    <tr>\n",
       "      <th>4701150</th>\n",
       "      <td>TRAIN_4701150</td>\n",
       "      <td>20220217</td>\n",
       "      <td>목</td>\n",
       "      <td>18</td>\n",
       "      <td>2</td>\n",
       "      <td>107</td>\n",
       "      <td>-</td>\n",
       "      <td>0</td>\n",
       "      <td>0</td>\n",
       "      <td>30.0</td>\n",
       "      <td>0.0</td>\n",
       "      <td>0.0</td>\n",
       "      <td>0.0</td>\n",
       "      <td>0</td>\n",
       "      <td>천제이교</td>\n",
       "      <td>33.244882</td>\n",
       "      <td>126.419089</td>\n",
       "      <td>없음</td>\n",
       "      <td>불목케</td>\n",
       "      <td>33.243432</td>\n",
       "      <td>126.422025</td>\n",
       "      <td>없음</td>\n",
       "      <td>40.0</td>\n",
       "      <td>1.333333</td>\n",
       "    </tr>\n",
       "    <tr>\n",
       "      <th>4701163</th>\n",
       "      <td>TRAIN_4701163</td>\n",
       "      <td>20211209</td>\n",
       "      <td>목</td>\n",
       "      <td>6</td>\n",
       "      <td>2</td>\n",
       "      <td>103</td>\n",
       "      <td>일반국도99호선</td>\n",
       "      <td>0</td>\n",
       "      <td>0</td>\n",
       "      <td>30.0</td>\n",
       "      <td>0.0</td>\n",
       "      <td>0.0</td>\n",
       "      <td>0.0</td>\n",
       "      <td>0</td>\n",
       "      <td>창고</td>\n",
       "      <td>33.244512</td>\n",
       "      <td>126.427069</td>\n",
       "      <td>없음</td>\n",
       "      <td>하늘궁전</td>\n",
       "      <td>33.249505</td>\n",
       "      <td>126.430787</td>\n",
       "      <td>없음</td>\n",
       "      <td>41.0</td>\n",
       "      <td>1.366667</td>\n",
       "    </tr>\n",
       "  </tbody>\n",
       "</table>\n",
       "<p>98518 rows × 24 columns</p>\n",
       "</div>"
      ],
      "text/plain": [
       "                    id  base_date day_of_week  base_hour  lane_count  \\\n",
       "84       TRAIN_0000084   20220607           화          6           1   \n",
       "160      TRAIN_0000160   20211004           월         12           2   \n",
       "247      TRAIN_0000247   20220720           수         11           2   \n",
       "270      TRAIN_0000270   20211230           목         13           1   \n",
       "283      TRAIN_0000283   20220130           일          7           1   \n",
       "...                ...        ...         ...        ...         ...   \n",
       "4701076  TRAIN_4701076   20220104           화          2           1   \n",
       "4701107  TRAIN_4701107   20220627           월         22           1   \n",
       "4701136  TRAIN_4701136   20220126           수         18           1   \n",
       "4701150  TRAIN_4701150   20220217           목         18           2   \n",
       "4701163  TRAIN_4701163   20211209           목          6           2   \n",
       "\n",
       "         road_rating road_name  multi_linked  connect_code  \\\n",
       "84               103  일반국도12호선             0           103   \n",
       "160              103  일반국도99호선             0             0   \n",
       "247              103  일반국도16호선             0             0   \n",
       "270              107         -             0             0   \n",
       "283              103  일반국도12호선             0             0   \n",
       "...              ...       ...           ...           ...   \n",
       "4701076          107         -             0             0   \n",
       "4701107          107     관광단지로             0             0   \n",
       "4701136          107         -             0             0   \n",
       "4701150          107         -             0             0   \n",
       "4701163          103  일반국도99호선             0             0   \n",
       "\n",
       "         maximum_speed_limit  vehicle_restricted  weight_restricted  \\\n",
       "84                      40.0                 0.0                0.0   \n",
       "160                     30.0                 0.0                0.0   \n",
       "247                     60.0                 0.0            43200.0   \n",
       "270                     30.0                 0.0                0.0   \n",
       "283                     30.0                 0.0                0.0   \n",
       "...                      ...                 ...                ...   \n",
       "4701076                 30.0                 0.0                0.0   \n",
       "4701107                 30.0                 0.0                0.0   \n",
       "4701136                 30.0                 0.0                0.0   \n",
       "4701150                 30.0                 0.0                0.0   \n",
       "4701163                 30.0                 0.0                0.0   \n",
       "\n",
       "         height_restricted  road_type start_node_name  start_latitude  \\\n",
       "84                     0.0          0             양계장       33.475446   \n",
       "160                    0.0          0            하늘궁전       33.249505   \n",
       "247                    0.0          3            색달육교       33.266040   \n",
       "270                    0.0          0           감귤선과장       33.443310   \n",
       "283                    0.0          0          서사라사거리       33.499848   \n",
       "...                    ...        ...             ...             ...   \n",
       "4701076                0.0          0            일호유리       33.472276   \n",
       "4701107                0.0          0           산신주유소       33.255215   \n",
       "4701136                0.0          0           어도초등교       33.434581   \n",
       "4701150                0.0          0            천제이교       33.244882   \n",
       "4701163                0.0          0              창고       33.244512   \n",
       "\n",
       "         start_longitude start_turn_restricted end_node_name  end_latitude  \\\n",
       "84            126.388193                    없음           구엄교     33.478037   \n",
       "160           126.430787                    없음            창고     33.244512   \n",
       "247           126.414029                    없음          색달육교     33.265988   \n",
       "270           126.311886                    없음         어도초등교     33.434581   \n",
       "283           126.519872                    있음         한국병원앞     33.499973   \n",
       "...                  ...                   ...           ...           ...   \n",
       "4701076       126.418443                    없음          하귀입구     33.485264   \n",
       "4701107       126.414236                    없음        관광단지입구     33.258119   \n",
       "4701136       126.324312                    없음         감귤선과장     33.443310   \n",
       "4701150       126.419089                    없음           불목케     33.243432   \n",
       "4701163       126.427069                    없음          하늘궁전     33.249505   \n",
       "\n",
       "         end_longitude end_turn_restricted  target  max_avg_ratio  \n",
       "84          126.388439                  없음    74.0       1.850000  \n",
       "160         126.427069                  없음    45.0       1.500000  \n",
       "247         126.414267                  없음    81.0       1.350000  \n",
       "270         126.324312                  없음    40.0       1.333333  \n",
       "283         126.516469                  있음    39.0       1.300000  \n",
       "...                ...                 ...     ...            ...  \n",
       "4701076     126.410896                  없음    41.0       1.366667  \n",
       "4701107     126.415840                  없음    41.0       1.366667  \n",
       "4701136     126.311886                  없음    48.0       1.600000  \n",
       "4701150     126.422025                  없음    40.0       1.333333  \n",
       "4701163     126.430787                  없음    41.0       1.366667  \n",
       "\n",
       "[98518 rows x 24 columns]"
      ]
     },
     "execution_count": 29,
     "metadata": {},
     "output_type": "execute_result"
    }
   ],
   "source": [
    "train.loc[train['max_avg_ratio']>=1.3,:]"
   ]
  },
  {
   "cell_type": "code",
   "execution_count": 32,
   "metadata": {},
   "outputs": [
    {
     "data": {
      "text/html": [
       "<div>\n",
       "<style scoped>\n",
       "    .dataframe tbody tr th:only-of-type {\n",
       "        vertical-align: middle;\n",
       "    }\n",
       "\n",
       "    .dataframe tbody tr th {\n",
       "        vertical-align: top;\n",
       "    }\n",
       "\n",
       "    .dataframe thead th {\n",
       "        text-align: right;\n",
       "    }\n",
       "</style>\n",
       "<table border=\"1\" class=\"dataframe\">\n",
       "  <thead>\n",
       "    <tr style=\"text-align: right;\">\n",
       "      <th></th>\n",
       "      <th>start_latitude</th>\n",
       "      <th>start_longitude</th>\n",
       "      <th>end_latitude</th>\n",
       "      <th>end_longitude</th>\n",
       "      <th>max_avg_ratio</th>\n",
       "    </tr>\n",
       "  </thead>\n",
       "  <tbody>\n",
       "    <tr>\n",
       "      <th>0</th>\n",
       "      <td>33.243432</td>\n",
       "      <td>126.422025</td>\n",
       "      <td>33.244882</td>\n",
       "      <td>126.419089</td>\n",
       "      <td>1.277074</td>\n",
       "    </tr>\n",
       "    <tr>\n",
       "      <th>1</th>\n",
       "      <td>33.244512</td>\n",
       "      <td>126.427069</td>\n",
       "      <td>33.249505</td>\n",
       "      <td>126.430787</td>\n",
       "      <td>1.355226</td>\n",
       "    </tr>\n",
       "    <tr>\n",
       "      <th>2</th>\n",
       "      <td>33.244601</td>\n",
       "      <td>126.562080</td>\n",
       "      <td>33.244871</td>\n",
       "      <td>126.564407</td>\n",
       "      <td>0.513336</td>\n",
       "    </tr>\n",
       "    <tr>\n",
       "      <th>3</th>\n",
       "      <td>33.244601</td>\n",
       "      <td>126.562080</td>\n",
       "      <td>33.247607</td>\n",
       "      <td>126.561943</td>\n",
       "      <td>0.441340</td>\n",
       "    </tr>\n",
       "    <tr>\n",
       "      <th>4</th>\n",
       "      <td>33.244871</td>\n",
       "      <td>126.564407</td>\n",
       "      <td>33.244601</td>\n",
       "      <td>126.562080</td>\n",
       "      <td>0.439949</td>\n",
       "    </tr>\n",
       "    <tr>\n",
       "      <th>...</th>\n",
       "      <td>...</td>\n",
       "      <td>...</td>\n",
       "      <td>...</td>\n",
       "      <td>...</td>\n",
       "      <td>...</td>\n",
       "    </tr>\n",
       "    <tr>\n",
       "      <th>899</th>\n",
       "      <td>33.553525</td>\n",
       "      <td>126.739714</td>\n",
       "      <td>33.554302</td>\n",
       "      <td>126.738379</td>\n",
       "      <td>0.487628</td>\n",
       "    </tr>\n",
       "    <tr>\n",
       "      <th>900</th>\n",
       "      <td>33.554302</td>\n",
       "      <td>126.738379</td>\n",
       "      <td>33.553525</td>\n",
       "      <td>126.739714</td>\n",
       "      <td>0.681790</td>\n",
       "    </tr>\n",
       "    <tr>\n",
       "      <th>901</th>\n",
       "      <td>33.554302</td>\n",
       "      <td>126.738379</td>\n",
       "      <td>33.555316</td>\n",
       "      <td>126.736681</td>\n",
       "      <td>0.534187</td>\n",
       "    </tr>\n",
       "    <tr>\n",
       "      <th>902</th>\n",
       "      <td>33.555316</td>\n",
       "      <td>126.736681</td>\n",
       "      <td>33.554302</td>\n",
       "      <td>126.738379</td>\n",
       "      <td>0.469063</td>\n",
       "    </tr>\n",
       "    <tr>\n",
       "      <th>903</th>\n",
       "      <td>33.556080</td>\n",
       "      <td>126.759732</td>\n",
       "      <td>33.551585</td>\n",
       "      <td>126.769385</td>\n",
       "      <td>0.680557</td>\n",
       "    </tr>\n",
       "  </tbody>\n",
       "</table>\n",
       "<p>904 rows × 5 columns</p>\n",
       "</div>"
      ],
      "text/plain": [
       "     start_latitude  start_longitude  end_latitude  end_longitude  \\\n",
       "0         33.243432       126.422025     33.244882     126.419089   \n",
       "1         33.244512       126.427069     33.249505     126.430787   \n",
       "2         33.244601       126.562080     33.244871     126.564407   \n",
       "3         33.244601       126.562080     33.247607     126.561943   \n",
       "4         33.244871       126.564407     33.244601     126.562080   \n",
       "..              ...              ...           ...            ...   \n",
       "899       33.553525       126.739714     33.554302     126.738379   \n",
       "900       33.554302       126.738379     33.553525     126.739714   \n",
       "901       33.554302       126.738379     33.555316     126.736681   \n",
       "902       33.555316       126.736681     33.554302     126.738379   \n",
       "903       33.556080       126.759732     33.551585     126.769385   \n",
       "\n",
       "     max_avg_ratio  \n",
       "0         1.277074  \n",
       "1         1.355226  \n",
       "2         0.513336  \n",
       "3         0.441340  \n",
       "4         0.439949  \n",
       "..             ...  \n",
       "899       0.487628  \n",
       "900       0.681790  \n",
       "901       0.534187  \n",
       "902       0.469063  \n",
       "903       0.680557  \n",
       "\n",
       "[904 rows x 5 columns]"
      ]
     },
     "execution_count": 32,
     "metadata": {},
     "output_type": "execute_result"
    }
   ],
   "source": [
    "# 속도를 얼마나 낼 수 있을까에 대한거....(요일, 시간대, 도로별 특성....)\n",
    "gpy_standard = ['start_latitude','start_longitude','end_latitude','end_longitude']\n",
    "max_ratio_groupby = train[gpy_standard+['max_avg_ratio']].groupby(gpy_standard).mean().reset_index()\n",
    "max_ratio_groupby"
   ]
  },
  {
   "cell_type": "code",
   "execution_count": 36,
   "metadata": {},
   "outputs": [],
   "source": [
    "max_ratio_groupby = train.groupby(gpy_standard)['max_avg_ratio']\n",
    "max_ratio_groupby = max_ratio_groupby.agg(['mean','median','count'])"
   ]
  },
  {
   "cell_type": "code",
   "execution_count": 37,
   "metadata": {},
   "outputs": [
    {
     "data": {
      "text/html": [
       "<div>\n",
       "<style scoped>\n",
       "    .dataframe tbody tr th:only-of-type {\n",
       "        vertical-align: middle;\n",
       "    }\n",
       "\n",
       "    .dataframe tbody tr th {\n",
       "        vertical-align: top;\n",
       "    }\n",
       "\n",
       "    .dataframe thead th {\n",
       "        text-align: right;\n",
       "    }\n",
       "</style>\n",
       "<table border=\"1\" class=\"dataframe\">\n",
       "  <thead>\n",
       "    <tr style=\"text-align: right;\">\n",
       "      <th></th>\n",
       "      <th></th>\n",
       "      <th></th>\n",
       "      <th></th>\n",
       "      <th>mean</th>\n",
       "      <th>median</th>\n",
       "      <th>count</th>\n",
       "    </tr>\n",
       "    <tr>\n",
       "      <th>start_latitude</th>\n",
       "      <th>start_longitude</th>\n",
       "      <th>end_latitude</th>\n",
       "      <th>end_longitude</th>\n",
       "      <th></th>\n",
       "      <th></th>\n",
       "      <th></th>\n",
       "    </tr>\n",
       "  </thead>\n",
       "  <tbody>\n",
       "    <tr>\n",
       "      <th>33.257410</th>\n",
       "      <th>126.524412</th>\n",
       "      <th>33.261270</th>\n",
       "      <th>126.524429</th>\n",
       "      <td>0.641738</td>\n",
       "      <td>0.640000</td>\n",
       "      <td>587</td>\n",
       "    </tr>\n",
       "    <tr>\n",
       "      <th>33.257401</th>\n",
       "      <th>126.525745</th>\n",
       "      <th>33.257410</th>\n",
       "      <th>126.524412</th>\n",
       "      <td>1.069563</td>\n",
       "      <td>1.066667</td>\n",
       "      <td>587</td>\n",
       "    </tr>\n",
       "    <tr>\n",
       "      <th>33.261270</th>\n",
       "      <th>126.524429</th>\n",
       "      <th>33.257410</th>\n",
       "      <th>126.524412</th>\n",
       "      <td>0.652446</td>\n",
       "      <td>0.640000</td>\n",
       "      <td>744</td>\n",
       "    </tr>\n",
       "    <tr>\n",
       "      <th>33.257410</th>\n",
       "      <th>126.524412</th>\n",
       "      <th>33.256671</th>\n",
       "      <th>126.524410</th>\n",
       "      <td>0.652446</td>\n",
       "      <td>0.640000</td>\n",
       "      <td>744</td>\n",
       "    </tr>\n",
       "    <tr>\n",
       "      <th>33.256671</th>\n",
       "      <th>126.524410</th>\n",
       "      <th>33.254153</th>\n",
       "      <th>126.524331</th>\n",
       "      <td>0.652446</td>\n",
       "      <td>0.640000</td>\n",
       "      <td>744</td>\n",
       "    </tr>\n",
       "    <tr>\n",
       "      <th>...</th>\n",
       "      <th>...</th>\n",
       "      <th>...</th>\n",
       "      <th>...</th>\n",
       "      <td>...</td>\n",
       "      <td>...</td>\n",
       "      <td>...</td>\n",
       "    </tr>\n",
       "    <tr>\n",
       "      <th>33.496863</th>\n",
       "      <th>126.581230</th>\n",
       "      <th>33.496711</th>\n",
       "      <th>126.581529</th>\n",
       "      <td>0.657131</td>\n",
       "      <td>0.642857</td>\n",
       "      <td>6075</td>\n",
       "    </tr>\n",
       "    <tr>\n",
       "      <th>33.501627</th>\n",
       "      <th>126.568923</th>\n",
       "      <th>33.501477</th>\n",
       "      <th>126.569223</th>\n",
       "      <td>0.666217</td>\n",
       "      <td>0.642857</td>\n",
       "      <td>6077</td>\n",
       "    </tr>\n",
       "    <tr>\n",
       "      <th>33.501477</th>\n",
       "      <th>126.569223</th>\n",
       "      <th>33.496863</th>\n",
       "      <th>126.581230</th>\n",
       "      <td>0.661424</td>\n",
       "      <td>0.642857</td>\n",
       "      <td>6077</td>\n",
       "    </tr>\n",
       "    <tr>\n",
       "      <th>33.308236</th>\n",
       "      <th>126.598690</th>\n",
       "      <th>33.305867</th>\n",
       "      <th>126.599081</th>\n",
       "      <td>0.901118</td>\n",
       "      <td>0.883333</td>\n",
       "      <td>6397</td>\n",
       "    </tr>\n",
       "    <tr>\n",
       "      <th>33.305867</th>\n",
       "      <th>126.599081</th>\n",
       "      <th>33.308236</th>\n",
       "      <th>126.598690</th>\n",
       "      <td>0.918149</td>\n",
       "      <td>0.916667</td>\n",
       "      <td>6477</td>\n",
       "    </tr>\n",
       "  </tbody>\n",
       "</table>\n",
       "<p>904 rows × 3 columns</p>\n",
       "</div>"
      ],
      "text/plain": [
       "                                                               mean    median  \\\n",
       "start_latitude start_longitude end_latitude end_longitude                       \n",
       "33.257410      126.524412      33.261270    126.524429     0.641738  0.640000   \n",
       "33.257401      126.525745      33.257410    126.524412     1.069563  1.066667   \n",
       "33.261270      126.524429      33.257410    126.524412     0.652446  0.640000   \n",
       "33.257410      126.524412      33.256671    126.524410     0.652446  0.640000   \n",
       "33.256671      126.524410      33.254153    126.524331     0.652446  0.640000   \n",
       "...                                                             ...       ...   \n",
       "33.496863      126.581230      33.496711    126.581529     0.657131  0.642857   \n",
       "33.501627      126.568923      33.501477    126.569223     0.666217  0.642857   \n",
       "33.501477      126.569223      33.496863    126.581230     0.661424  0.642857   \n",
       "33.308236      126.598690      33.305867    126.599081     0.901118  0.883333   \n",
       "33.305867      126.599081      33.308236    126.598690     0.918149  0.916667   \n",
       "\n",
       "                                                           count  \n",
       "start_latitude start_longitude end_latitude end_longitude         \n",
       "33.257410      126.524412      33.261270    126.524429       587  \n",
       "33.257401      126.525745      33.257410    126.524412       587  \n",
       "33.261270      126.524429      33.257410    126.524412       744  \n",
       "33.257410      126.524412      33.256671    126.524410       744  \n",
       "33.256671      126.524410      33.254153    126.524331       744  \n",
       "...                                                          ...  \n",
       "33.496863      126.581230      33.496711    126.581529      6075  \n",
       "33.501627      126.568923      33.501477    126.569223      6077  \n",
       "33.501477      126.569223      33.496863    126.581230      6077  \n",
       "33.308236      126.598690      33.305867    126.599081      6397  \n",
       "33.305867      126.599081      33.308236    126.598690      6477  \n",
       "\n",
       "[904 rows x 3 columns]"
      ]
     },
     "execution_count": 37,
     "metadata": {},
     "output_type": "execute_result"
    }
   ],
   "source": [
    "max_ratio_groupby.sort_values('count')"
   ]
  },
  {
   "cell_type": "code",
   "execution_count": 20,
   "metadata": {},
   "outputs": [],
   "source": [
    "ratio_high = pd.merge(train,max_ratio_groupby.loc[max_ratio_groupby['max_avg_ratio']>1]\n",
    "                      ,how='inner'\n",
    "                      ,left_on=['start_node_name','end_node_name']\n",
    "                      ,right_on=['start_node_name','end_node_name'])"
   ]
  },
  {
   "cell_type": "code",
   "execution_count": 21,
   "metadata": {},
   "outputs": [
    {
     "data": {
      "image/png": "[encoded data removed]",
      "text/plain": [
       "<Figure size 720x720 with 1 Axes>"
      ]
     },
     "metadata": {
      "needs_background": "light"
     },
     "output_type": "display_data"
    }
   ],
   "source": [
    "plt.figure(figsize=(10,10))\n",
    "sns.kdeplot(ratio_high['target'],label='high')\n",
    "sns.kdeplot(train['target'],label='total')\n",
    "plt.grid()\n",
    "plt.legend(loc='best')\n",
    "plt.show()"
   ]
  },
  {
   "cell_type": "markdown",
   "metadata": {},
   "source": [
    "- statnode와 endnode와 각각 해당하는 위도/경도도  같이 빼고 비율을 변수로 활용해도 될듯"
   ]
  },
  {
   "cell_type": "code",
   "execution_count": 41,
   "metadata": {},
   "outputs": [
    {
     "data": {
      "text/html": [
       "<div>\n",
       "<style scoped>\n",
       "    .dataframe tbody tr th:only-of-type {\n",
       "        vertical-align: middle;\n",
       "    }\n",
       "\n",
       "    .dataframe tbody tr th {\n",
       "        vertical-align: top;\n",
       "    }\n",
       "\n",
       "    .dataframe thead th {\n",
       "        text-align: right;\n",
       "    }\n",
       "</style>\n",
       "<table border=\"1\" class=\"dataframe\">\n",
       "  <thead>\n",
       "    <tr style=\"text-align: right;\">\n",
       "      <th></th>\n",
       "      <th>id</th>\n",
       "      <th>base_date</th>\n",
       "      <th>day_of_week</th>\n",
       "      <th>base_hour</th>\n",
       "      <th>lane_count</th>\n",
       "      <th>road_rating</th>\n",
       "      <th>road_name</th>\n",
       "      <th>multi_linked</th>\n",
       "      <th>connect_code</th>\n",
       "      <th>maximum_speed_limit</th>\n",
       "      <th>vehicle_restricted</th>\n",
       "      <th>weight_restricted</th>\n",
       "      <th>height_restricted</th>\n",
       "      <th>road_type</th>\n",
       "      <th>start_node_name</th>\n",
       "      <th>start_latitude</th>\n",
       "      <th>start_longitude</th>\n",
       "      <th>start_turn_restricted</th>\n",
       "      <th>end_node_name</th>\n",
       "      <th>end_latitude</th>\n",
       "      <th>end_longitude</th>\n",
       "      <th>end_turn_restricted</th>\n",
       "      <th>target</th>\n",
       "      <th>max_avg_ratio</th>\n",
       "    </tr>\n",
       "  </thead>\n",
       "  <tbody>\n",
       "    <tr>\n",
       "      <th>38</th>\n",
       "      <td>TRAIN_0000038</td>\n",
       "      <td>20220610</td>\n",
       "      <td>금</td>\n",
       "      <td>8</td>\n",
       "      <td>2</td>\n",
       "      <td>107</td>\n",
       "      <td>삼무로</td>\n",
       "      <td>0</td>\n",
       "      <td>0</td>\n",
       "      <td>50.0</td>\n",
       "      <td>0.0</td>\n",
       "      <td>0.0</td>\n",
       "      <td>0.0</td>\n",
       "      <td>0</td>\n",
       "      <td>제주일보사거리</td>\n",
       "      <td>33.490078</td>\n",
       "      <td>126.486558</td>\n",
       "      <td>있음</td>\n",
       "      <td>삼무공원사거리</td>\n",
       "      <td>33.489940</td>\n",
       "      <td>126.490153</td>\n",
       "      <td>없음</td>\n",
       "      <td>10.0</td>\n",
       "      <td>0.200000</td>\n",
       "    </tr>\n",
       "    <tr>\n",
       "      <th>212</th>\n",
       "      <td>TRAIN_0000212</td>\n",
       "      <td>20211231</td>\n",
       "      <td>금</td>\n",
       "      <td>18</td>\n",
       "      <td>1</td>\n",
       "      <td>107</td>\n",
       "      <td>중정로</td>\n",
       "      <td>0</td>\n",
       "      <td>0</td>\n",
       "      <td>50.0</td>\n",
       "      <td>0.0</td>\n",
       "      <td>0.0</td>\n",
       "      <td>0.0</td>\n",
       "      <td>0</td>\n",
       "      <td>BYC</td>\n",
       "      <td>33.248491</td>\n",
       "      <td>126.566092</td>\n",
       "      <td>있음</td>\n",
       "      <td>정방수퍼</td>\n",
       "      <td>33.248633</td>\n",
       "      <td>126.567766</td>\n",
       "      <td>없음</td>\n",
       "      <td>9.0</td>\n",
       "      <td>0.180000</td>\n",
       "    </tr>\n",
       "    <tr>\n",
       "      <th>333</th>\n",
       "      <td>TRAIN_0000333</td>\n",
       "      <td>20220104</td>\n",
       "      <td>화</td>\n",
       "      <td>12</td>\n",
       "      <td>3</td>\n",
       "      <td>103</td>\n",
       "      <td>일반국도12호선</td>\n",
       "      <td>0</td>\n",
       "      <td>0</td>\n",
       "      <td>70.0</td>\n",
       "      <td>0.0</td>\n",
       "      <td>0.0</td>\n",
       "      <td>0.0</td>\n",
       "      <td>0</td>\n",
       "      <td>중앙교</td>\n",
       "      <td>33.254129</td>\n",
       "      <td>126.565481</td>\n",
       "      <td>없음</td>\n",
       "      <td>중앙로타리</td>\n",
       "      <td>33.253200</td>\n",
       "      <td>126.561049</td>\n",
       "      <td>없음</td>\n",
       "      <td>7.0</td>\n",
       "      <td>0.100000</td>\n",
       "    </tr>\n",
       "    <tr>\n",
       "      <th>538</th>\n",
       "      <td>TRAIN_0000538</td>\n",
       "      <td>20220527</td>\n",
       "      <td>금</td>\n",
       "      <td>21</td>\n",
       "      <td>2</td>\n",
       "      <td>107</td>\n",
       "      <td>새서귀로</td>\n",
       "      <td>0</td>\n",
       "      <td>0</td>\n",
       "      <td>60.0</td>\n",
       "      <td>0.0</td>\n",
       "      <td>0.0</td>\n",
       "      <td>0.0</td>\n",
       "      <td>0</td>\n",
       "      <td>삼주연립101동</td>\n",
       "      <td>33.251045</td>\n",
       "      <td>126.510574</td>\n",
       "      <td>없음</td>\n",
       "      <td>한솔고기국수</td>\n",
       "      <td>33.251947</td>\n",
       "      <td>126.510894</td>\n",
       "      <td>없음</td>\n",
       "      <td>10.0</td>\n",
       "      <td>0.166667</td>\n",
       "    </tr>\n",
       "    <tr>\n",
       "      <th>796</th>\n",
       "      <td>TRAIN_0000796</td>\n",
       "      <td>20210903</td>\n",
       "      <td>금</td>\n",
       "      <td>21</td>\n",
       "      <td>2</td>\n",
       "      <td>107</td>\n",
       "      <td>경찰로</td>\n",
       "      <td>0</td>\n",
       "      <td>0</td>\n",
       "      <td>60.0</td>\n",
       "      <td>0.0</td>\n",
       "      <td>0.0</td>\n",
       "      <td>0.0</td>\n",
       "      <td>0</td>\n",
       "      <td>신성교회</td>\n",
       "      <td>33.253074</td>\n",
       "      <td>126.506393</td>\n",
       "      <td>없음</td>\n",
       "      <td>서호2차현대맨션203동</td>\n",
       "      <td>33.252183</td>\n",
       "      <td>126.506069</td>\n",
       "      <td>없음</td>\n",
       "      <td>10.0</td>\n",
       "      <td>0.166667</td>\n",
       "    </tr>\n",
       "    <tr>\n",
       "      <th>...</th>\n",
       "      <td>...</td>\n",
       "      <td>...</td>\n",
       "      <td>...</td>\n",
       "      <td>...</td>\n",
       "      <td>...</td>\n",
       "      <td>...</td>\n",
       "      <td>...</td>\n",
       "      <td>...</td>\n",
       "      <td>...</td>\n",
       "      <td>...</td>\n",
       "      <td>...</td>\n",
       "      <td>...</td>\n",
       "      <td>...</td>\n",
       "      <td>...</td>\n",
       "      <td>...</td>\n",
       "      <td>...</td>\n",
       "      <td>...</td>\n",
       "      <td>...</td>\n",
       "      <td>...</td>\n",
       "      <td>...</td>\n",
       "      <td>...</td>\n",
       "      <td>...</td>\n",
       "      <td>...</td>\n",
       "      <td>...</td>\n",
       "    </tr>\n",
       "    <tr>\n",
       "      <th>4700630</th>\n",
       "      <td>TRAIN_4700630</td>\n",
       "      <td>20211220</td>\n",
       "      <td>월</td>\n",
       "      <td>14</td>\n",
       "      <td>3</td>\n",
       "      <td>103</td>\n",
       "      <td>일반국도11호선</td>\n",
       "      <td>0</td>\n",
       "      <td>0</td>\n",
       "      <td>70.0</td>\n",
       "      <td>0.0</td>\n",
       "      <td>0.0</td>\n",
       "      <td>0.0</td>\n",
       "      <td>0</td>\n",
       "      <td>중앙여고사거리</td>\n",
       "      <td>33.487633</td>\n",
       "      <td>126.540414</td>\n",
       "      <td>있음</td>\n",
       "      <td>중앙여고입구</td>\n",
       "      <td>33.489161</td>\n",
       "      <td>126.539000</td>\n",
       "      <td>있음</td>\n",
       "      <td>10.0</td>\n",
       "      <td>0.142857</td>\n",
       "    </tr>\n",
       "    <tr>\n",
       "      <th>4700632</th>\n",
       "      <td>TRAIN_4700632</td>\n",
       "      <td>20220526</td>\n",
       "      <td>목</td>\n",
       "      <td>9</td>\n",
       "      <td>2</td>\n",
       "      <td>107</td>\n",
       "      <td>동홍로</td>\n",
       "      <td>0</td>\n",
       "      <td>0</td>\n",
       "      <td>50.0</td>\n",
       "      <td>0.0</td>\n",
       "      <td>0.0</td>\n",
       "      <td>0.0</td>\n",
       "      <td>0</td>\n",
       "      <td>대흥개발(주)</td>\n",
       "      <td>33.256517</td>\n",
       "      <td>126.568198</td>\n",
       "      <td>없음</td>\n",
       "      <td>동홍사거리</td>\n",
       "      <td>33.254628</td>\n",
       "      <td>126.567678</td>\n",
       "      <td>없음</td>\n",
       "      <td>9.0</td>\n",
       "      <td>0.180000</td>\n",
       "    </tr>\n",
       "    <tr>\n",
       "      <th>4700648</th>\n",
       "      <td>TRAIN_4700648</td>\n",
       "      <td>20220517</td>\n",
       "      <td>화</td>\n",
       "      <td>2</td>\n",
       "      <td>2</td>\n",
       "      <td>107</td>\n",
       "      <td>동홍로</td>\n",
       "      <td>0</td>\n",
       "      <td>0</td>\n",
       "      <td>50.0</td>\n",
       "      <td>0.0</td>\n",
       "      <td>0.0</td>\n",
       "      <td>0.0</td>\n",
       "      <td>0</td>\n",
       "      <td>성카인테리어</td>\n",
       "      <td>33.257474</td>\n",
       "      <td>126.568494</td>\n",
       "      <td>없음</td>\n",
       "      <td>대흥개발(주)</td>\n",
       "      <td>33.256517</td>\n",
       "      <td>126.568198</td>\n",
       "      <td>없음</td>\n",
       "      <td>10.0</td>\n",
       "      <td>0.200000</td>\n",
       "    </tr>\n",
       "    <tr>\n",
       "      <th>4700829</th>\n",
       "      <td>TRAIN_4700829</td>\n",
       "      <td>20210919</td>\n",
       "      <td>일</td>\n",
       "      <td>14</td>\n",
       "      <td>3</td>\n",
       "      <td>103</td>\n",
       "      <td>일반국도16호선</td>\n",
       "      <td>0</td>\n",
       "      <td>0</td>\n",
       "      <td>70.0</td>\n",
       "      <td>0.0</td>\n",
       "      <td>0.0</td>\n",
       "      <td>0.0</td>\n",
       "      <td>0</td>\n",
       "      <td>노형파출소</td>\n",
       "      <td>33.486327</td>\n",
       "      <td>126.480150</td>\n",
       "      <td>없음</td>\n",
       "      <td>노형오거리</td>\n",
       "      <td>33.486000</td>\n",
       "      <td>126.479550</td>\n",
       "      <td>없음</td>\n",
       "      <td>9.0</td>\n",
       "      <td>0.128571</td>\n",
       "    </tr>\n",
       "    <tr>\n",
       "      <th>4701175</th>\n",
       "      <td>TRAIN_4701175</td>\n",
       "      <td>20220103</td>\n",
       "      <td>월</td>\n",
       "      <td>17</td>\n",
       "      <td>2</td>\n",
       "      <td>107</td>\n",
       "      <td>삼무로</td>\n",
       "      <td>0</td>\n",
       "      <td>0</td>\n",
       "      <td>50.0</td>\n",
       "      <td>0.0</td>\n",
       "      <td>0.0</td>\n",
       "      <td>0.0</td>\n",
       "      <td>0</td>\n",
       "      <td>삼무공원사거리</td>\n",
       "      <td>33.489940</td>\n",
       "      <td>126.490153</td>\n",
       "      <td>없음</td>\n",
       "      <td>제주일보사거리</td>\n",
       "      <td>33.490078</td>\n",
       "      <td>126.486558</td>\n",
       "      <td>있음</td>\n",
       "      <td>9.0</td>\n",
       "      <td>0.180000</td>\n",
       "    </tr>\n",
       "  </tbody>\n",
       "</table>\n",
       "<p>32790 rows × 24 columns</p>\n",
       "</div>"
      ],
      "text/plain": [
       "                    id  base_date day_of_week  base_hour  lane_count  \\\n",
       "38       TRAIN_0000038   20220610           금          8           2   \n",
       "212      TRAIN_0000212   20211231           금         18           1   \n",
       "333      TRAIN_0000333   20220104           화         12           3   \n",
       "538      TRAIN_0000538   20220527           금         21           2   \n",
       "796      TRAIN_0000796   20210903           금         21           2   \n",
       "...                ...        ...         ...        ...         ...   \n",
       "4700630  TRAIN_4700630   20211220           월         14           3   \n",
       "4700632  TRAIN_4700632   20220526           목          9           2   \n",
       "4700648  TRAIN_4700648   20220517           화          2           2   \n",
       "4700829  TRAIN_4700829   20210919           일         14           3   \n",
       "4701175  TRAIN_4701175   20220103           월         17           2   \n",
       "\n",
       "         road_rating road_name  multi_linked  connect_code  \\\n",
       "38               107       삼무로             0             0   \n",
       "212              107       중정로             0             0   \n",
       "333              103  일반국도12호선             0             0   \n",
       "538              107      새서귀로             0             0   \n",
       "796              107       경찰로             0             0   \n",
       "...              ...       ...           ...           ...   \n",
       "4700630          103  일반국도11호선             0             0   \n",
       "4700632          107       동홍로             0             0   \n",
       "4700648          107       동홍로             0             0   \n",
       "4700829          103  일반국도16호선             0             0   \n",
       "4701175          107       삼무로             0             0   \n",
       "\n",
       "         maximum_speed_limit  vehicle_restricted  weight_restricted  \\\n",
       "38                      50.0                 0.0                0.0   \n",
       "212                     50.0                 0.0                0.0   \n",
       "333                     70.0                 0.0                0.0   \n",
       "538                     60.0                 0.0                0.0   \n",
       "796                     60.0                 0.0                0.0   \n",
       "...                      ...                 ...                ...   \n",
       "4700630                 70.0                 0.0                0.0   \n",
       "4700632                 50.0                 0.0                0.0   \n",
       "4700648                 50.0                 0.0                0.0   \n",
       "4700829                 70.0                 0.0                0.0   \n",
       "4701175                 50.0                 0.0                0.0   \n",
       "\n",
       "         height_restricted  road_type start_node_name  start_latitude  \\\n",
       "38                     0.0          0         제주일보사거리       33.490078   \n",
       "212                    0.0          0             BYC       33.248491   \n",
       "333                    0.0          0             중앙교       33.254129   \n",
       "538                    0.0          0        삼주연립101동       33.251045   \n",
       "796                    0.0          0            신성교회       33.253074   \n",
       "...                    ...        ...             ...             ...   \n",
       "4700630                0.0          0         중앙여고사거리       33.487633   \n",
       "4700632                0.0          0         대흥개발(주)       33.256517   \n",
       "4700648                0.0          0          성카인테리어       33.257474   \n",
       "4700829                0.0          0           노형파출소       33.486327   \n",
       "4701175                0.0          0         삼무공원사거리       33.489940   \n",
       "\n",
       "         start_longitude start_turn_restricted end_node_name  end_latitude  \\\n",
       "38            126.486558                    있음       삼무공원사거리     33.489940   \n",
       "212           126.566092                    있음          정방수퍼     33.248633   \n",
       "333           126.565481                    없음         중앙로타리     33.253200   \n",
       "538           126.510574                    없음        한솔고기국수     33.251947   \n",
       "796           126.506393                    없음  서호2차현대맨션203동     33.252183   \n",
       "...                  ...                   ...           ...           ...   \n",
       "4700630       126.540414                    있음        중앙여고입구     33.489161   \n",
       "4700632       126.568198                    없음         동홍사거리     33.254628   \n",
       "4700648       126.568494                    없음       대흥개발(주)     33.256517   \n",
       "4700829       126.480150                    없음         노형오거리     33.486000   \n",
       "4701175       126.490153                    없음       제주일보사거리     33.490078   \n",
       "\n",
       "         end_longitude end_turn_restricted  target  max_avg_ratio  \n",
       "38          126.490153                  없음    10.0       0.200000  \n",
       "212         126.567766                  없음     9.0       0.180000  \n",
       "333         126.561049                  없음     7.0       0.100000  \n",
       "538         126.510894                  없음    10.0       0.166667  \n",
       "796         126.506069                  없음    10.0       0.166667  \n",
       "...                ...                 ...     ...            ...  \n",
       "4700630     126.539000                  있음    10.0       0.142857  \n",
       "4700632     126.567678                  없음     9.0       0.180000  \n",
       "4700648     126.568198                  없음    10.0       0.200000  \n",
       "4700829     126.479550                  없음     9.0       0.128571  \n",
       "4701175     126.486558                  있음     9.0       0.180000  \n",
       "\n",
       "[32790 rows x 24 columns]"
      ]
     },
     "execution_count": 41,
     "metadata": {},
     "output_type": "execute_result"
    }
   ],
   "source": [
    "train.loc[train['target']<=10,:]"
   ]
  },
  {
   "cell_type": "code",
   "execution_count": 53,
   "metadata": {},
   "outputs": [
    {
     "name": "stderr",
     "output_type": "stream",
     "text": [
      "C:\\Users\\guswp\\anaconda3\\lib\\site-packages\\seaborn\\_decorators.py:36: FutureWarning: Pass the following variable as a keyword arg: x. From version 0.12, the only valid positional argument will be `data`, and passing other arguments without an explicit keyword will result in an error or misinterpretation.\n",
      "  warnings.warn(\n"
     ]
    },
    {
     "data": {
      "image/png": "[encoded data removed]",
      "text/plain": [
       "<Figure size 720x720 with 1 Axes>"
      ]
     },
     "metadata": {
      "needs_background": "light"
     },
     "output_type": "display_data"
    }
   ],
   "source": [
    "plt.figure(figsize=(10,10))\n",
    "sns.countplot(train.loc[train['target']<=5,'base_hour'])\n",
    "plt.title('Under 10km/h, base_hour count')\n",
    "plt.grid()\n",
    "plt.show()"
   ]
  },
  {
   "cell_type": "code",
   "execution_count": 54,
   "metadata": {},
   "outputs": [
    {
     "name": "stderr",
     "output_type": "stream",
     "text": [
      "C:\\Users\\guswp\\anaconda3\\lib\\site-packages\\seaborn\\_decorators.py:36: FutureWarning: Pass the following variable as a keyword arg: x. From version 0.12, the only valid positional argument will be `data`, and passing other arguments without an explicit keyword will result in an error or misinterpretation.\n",
      "  warnings.warn(\n"
     ]
    },
    {
     "data": {
      "image/png": "[encoded data removed]",
      "text/plain": [
       "<Figure size 720x720 with 1 Axes>"
      ]
     },
     "metadata": {
      "needs_background": "light"
     },
     "output_type": "display_data"
    }
   ],
   "source": [
    "plt.figure(figsize=(10,10))\n",
    "sns.countplot(train.loc[train['target']>=80,'base_hour'])\n",
    "plt.title('Over 80/h, base_hour count')\n",
    "plt.grid()\n",
    "plt.show()"
   ]
  },
  {
   "cell_type": "code",
   "execution_count": 49,
   "metadata": {},
   "outputs": [
    {
     "name": "stderr",
     "output_type": "stream",
     "text": [
      "C:\\Users\\guswp\\anaconda3\\lib\\site-packages\\seaborn\\_decorators.py:36: FutureWarning: Pass the following variable as a keyword arg: x. From version 0.12, the only valid positional argument will be `data`, and passing other arguments without an explicit keyword will result in an error or misinterpretation.\n",
      "  warnings.warn(\n"
     ]
    },
    {
     "data": {
      "image/png": "[encoded data removed]",
      "text/plain": [
       "<Figure size 432x432 with 1 Axes>"
      ]
     },
     "metadata": {
      "needs_background": "light"
     },
     "output_type": "display_data"
    }
   ],
   "source": [
    "plt.figure(figsize=(6,6))\n",
    "sns.boxplot(train.loc[train['base_hour']==8,'target'])\n",
    "# plt.title('Under 10km/h, base_hour count')\n",
    "plt.grid()\n",
    "plt.show()"
   ]
  },
  {
   "cell_type": "code",
   "execution_count": 42,
   "metadata": {},
   "outputs": [
    {
     "data": {
      "text/plain": [
       "(4701217, 24)"
      ]
     },
     "execution_count": 42,
     "metadata": {},
     "output_type": "execute_result"
    }
   ],
   "source": [
    "train.shape"
   ]
  },
  {
   "cell_type": "markdown",
   "metadata": {
    "id": "QVc3XBoHaNaA"
   },
   "source": [
    "## weight_restricted (통과제한하중)"
   ]
  },
  {
   "cell_type": "code",
   "execution_count": 69,
   "metadata": {},
   "outputs": [
    {
     "data": {
      "image/png": "[encoded data removed]",
      "text/plain": [
       "<Figure size 576x864 with 1 Axes>"
      ]
     },
     "metadata": {
      "needs_background": "light"
     },
     "output_type": "display_data"
    }
   ],
   "source": [
    "boxplot('weight_restricted')"
   ]
  },
  {
   "cell_type": "markdown",
   "metadata": {
    "id": "gSMl6OtMaNcN"
   },
   "source": [
    "## height_restricted (통과제한높이)"
   ]
  },
  {
   "cell_type": "code",
   "execution_count": 64,
   "metadata": {},
   "outputs": [
    {
     "data": {
      "image/png": "[encoded data removed]",
      "text/plain": [
       "<Figure size 576x864 with 1 Axes>"
      ]
     },
     "metadata": {
      "needs_background": "light"
     },
     "output_type": "display_data"
    }
   ],
   "source": [
    "barplot('height_restricted')"
   ]
  },
  {
   "cell_type": "markdown",
   "metadata": {
    "id": "hH9yjNDWaNej"
   },
   "source": [
    "## road_type (도로유형)"
   ]
  },
  {
   "cell_type": "code",
   "execution_count": 50,
   "metadata": {},
   "outputs": [
    {
     "data": {
      "image/png": "[encoded data removed]",
      "text/plain": [
       "<Figure size 576x864 with 1 Axes>"
      ]
     },
     "metadata": {
      "needs_background": "light"
     },
     "output_type": "display_data"
    }
   ],
   "source": [
    "boxplot('road_type')"
   ]
  },
  {
   "cell_type": "markdown",
   "metadata": {},
   "source": [
    "- 0: 일반도로\n",
    "- 3: 교량(다리 위에 있는 도로)"
   ]
  },
  {
   "cell_type": "code",
   "execution_count": 51,
   "metadata": {},
   "outputs": [
    {
     "data": {
      "image/png": "[encoded data removed]",
      "text/plain": [
       "<Figure size 576x576 with 1 Axes>"
      ]
     },
     "metadata": {
      "needs_background": "light"
     },
     "output_type": "display_data"
    }
   ],
   "source": [
    "plt.figure(figsize=(8,8))\n",
    "for i in [0,3]:\n",
    "    sns.kdeplot(train.loc[train['road_type']==i,'target'],label=i)\n",
    "plt.legend(loc='best')\n",
    "plt.grid()\n",
    "plt.show()"
   ]
  },
  {
   "cell_type": "code",
   "execution_count": 54,
   "metadata": {},
   "outputs": [
    {
     "data": {
      "text/plain": [
       "{'-',\n",
       " '남조로',\n",
       " '번영로',\n",
       " '연북2교',\n",
       " '일반국도11호선',\n",
       " '일반국도12호선',\n",
       " '일반국도16호선',\n",
       " '일반국도95호선',\n",
       " '지방도1112호선',\n",
       " '지방도1115호선',\n",
       " '지방도1118호선',\n",
       " '지방도1119호선',\n",
       " '지방도1132호선',\n",
       " '지방도97호선'}"
      ]
     },
     "execution_count": 54,
     "metadata": {},
     "output_type": "execute_result"
    }
   ],
   "source": [
    "set(train.loc[(train['road_type']==3) & (train['target']>63),'road_name'].to_list())"
   ]
  },
  {
   "cell_type": "markdown",
   "metadata": {},
   "source": [
    "- 일반도로와 교량은 차이가 있어보임"
   ]
  },
  {
   "cell_type": "markdown",
   "metadata": {
    "id": "8edU6mXKa-Z5"
   },
   "source": [
    "## start_turn_restricted (시작 지점의 회전제한 유무)"
   ]
  },
  {
   "cell_type": "code",
   "execution_count": null,
   "metadata": {},
   "outputs": [],
   "source": [
    "boxplot('start_turn_restricted')"
   ]
  },
  {
   "cell_type": "code",
   "execution_count": null,
   "metadata": {},
   "outputs": [],
   "source": []
  },
  {
   "cell_type": "markdown",
   "metadata": {
    "id": "-sOqNYKHa-b6"
   },
   "source": [
    "## end_turn_restricted (도착지점의 회전제한 유무)"
   ]
  },
  {
   "cell_type": "code",
   "execution_count": null,
   "metadata": {},
   "outputs": [],
   "source": [
    "boxplot('end_turn_restricted')"
   ]
  },
  {
   "cell_type": "code",
   "execution_count": null,
   "metadata": {},
   "outputs": [],
   "source": []
  },
  {
   "cell_type": "markdown",
   "metadata": {
    "id": "_FOQHcIRa-eH"
   },
   "source": [
    "## road_name (도로명)"
   ]
  },
  {
   "cell_type": "markdown",
   "metadata": {
    "id": "5bJJ4DzFa-gA"
   },
   "source": [
    "## start_node_name (시작지점명)"
   ]
  },
  {
   "cell_type": "code",
   "execution_count": null,
   "metadata": {
    "id": "8w7qhgwUdwvP"
   },
   "outputs": [],
   "source": [
    "## 같은 링크별로 데이터 2개 존재(A->B, B->A)"
   ]
  },
  {
   "cell_type": "markdown",
   "metadata": {
    "id": "dP1gaMQha-id"
   },
   "source": [
    "## end_node_name (도착지점명)"
   ]
  },
  {
   "cell_type": "markdown",
   "metadata": {
    "id": "fdF40dEQa-kk"
   },
   "source": [
    "## vehicle_restricted (통과제한차량)"
   ]
  },
  {
   "cell_type": "code",
   "execution_count": 70,
   "metadata": {},
   "outputs": [
    {
     "data": {
      "image/png": "[encoded data removed]",
      "text/plain": [
       "<Figure size 576x864 with 1 Axes>"
      ]
     },
     "metadata": {
      "needs_background": "light"
     },
     "output_type": "display_data"
    }
   ],
   "source": [
    "boxplot('vehicle_restricted')"
   ]
  },
  {
   "cell_type": "markdown",
   "metadata": {
    "id": "dr5DfgWTN-P1"
   },
   "source": [
    "- 같은 도로라도 구간별로 나눠져있음"
   ]
  },
  {
   "cell_type": "code",
   "execution_count": null,
   "metadata": {
    "id": "Js_m10Jw3DBE"
   },
   "outputs": [],
   "source": [
    "## 파생변수 토일 제외하고 크리스마스/ 설날 이런날 체크\n"
   ]
  },
  {
   "cell_type": "markdown",
   "metadata": {
    "id": "0t6qyD_a3DKi"
   },
   "source": [
    "# 데이터 정제"
   ]
  },
  {
   "cell_type": "markdown",
   "metadata": {},
   "source": [
    "## 파생변수"
   ]
  },
  {
   "cell_type": "markdown",
   "metadata": {},
   "source": [
    "## 구간별 길이"
   ]
  },
  {
   "cell_type": "code",
   "execution_count": null,
   "metadata": {},
   "outputs": [],
   "source": [
    "pip install haversine"
   ]
  },
  {
   "cell_type": "code",
   "execution_count": 27,
   "metadata": {},
   "outputs": [],
   "source": [
    "from haversine import haversine"
   ]
  },
  {
   "cell_type": "code",
   "execution_count": 28,
   "metadata": {},
   "outputs": [],
   "source": [
    "lat_long = []\n",
    "for s_lat,s_long,e_lat,e_long in train[['start_latitude','start_longitude','end_latitude','end_longitude']].to_numpy():\n",
    "    dist = haversine((s_lat,s_long),(e_lat,e_long),unit='km')\n",
    "    lat_long.append(dist)"
   ]
  },
  {
   "cell_type": "code",
   "execution_count": 29,
   "metadata": {},
   "outputs": [],
   "source": [
    "train['road_dist'] = lat_long"
   ]
  },
  {
   "cell_type": "code",
   "execution_count": 30,
   "metadata": {},
   "outputs": [],
   "source": [
    "lat_long = []\n",
    "for s_lat,s_long,e_lat,e_long in test[['start_latitude','start_longitude','end_latitude','end_longitude']].to_numpy():\n",
    "    dist = haversine((s_lat,s_long),(e_lat,e_long),unit='km')\n",
    "    lat_long.append(dist)"
   ]
  },
  {
   "cell_type": "code",
   "execution_count": 31,
   "metadata": {},
   "outputs": [],
   "source": [
    "test['road_dist'] = lat_long"
   ]
  },
  {
   "cell_type": "code",
   "execution_count": null,
   "metadata": {},
   "outputs": [],
   "source": []
  },
  {
   "cell_type": "markdown",
   "metadata": {},
   "source": [
    "### '구간별 제한속도 대비 평균속도 비율' 변수"
   ]
  },
  {
   "cell_type": "code",
   "execution_count": 40,
   "metadata": {},
   "outputs": [
    {
     "name": "stdout",
     "output_type": "stream",
     "text": [
      "Collecting yellowbrick\n",
      "  Downloading yellowbrick-1.5-py3-none-any.whl (282 kB)\n",
      "Requirement already satisfied: matplotlib!=3.0.0,>=2.0.2 in c:\\users\\guswp\\anaconda3\\lib\\site-packages (from yellowbrick) (3.5.1)\n",
      "Requirement already satisfied: scikit-learn>=1.0.0 in c:\\users\\guswp\\anaconda3\\lib\\site-packages (from yellowbrick) (1.0.2)\n",
      "Requirement already satisfied: cycler>=0.10.0 in c:\\users\\guswp\\anaconda3\\lib\\site-packages (from yellowbrick) (0.11.0)\n",
      "Requirement already satisfied: scipy>=1.0.0 in c:\\users\\guswp\\anaconda3\\lib\\site-packages (from yellowbrick) (1.7.3)\n",
      "Requirement already satisfied: numpy>=1.16.0 in c:\\users\\guswp\\anaconda3\\lib\\site-packages (from yellowbrick) (1.21.5)\n",
      "Requirement already satisfied: pillow>=6.2.0 in c:\\users\\guswp\\anaconda3\\lib\\site-packages (from matplotlib!=3.0.0,>=2.0.2->yellowbrick) (9.0.1)\n",
      "Requirement already satisfied: packaging>=20.0 in c:\\users\\guswp\\anaconda3\\lib\\site-packages (from matplotlib!=3.0.0,>=2.0.2->yellowbrick) (21.3)\n",
      "Requirement already satisfied: fonttools>=4.22.0 in c:\\users\\guswp\\anaconda3\\lib\\site-packages (from matplotlib!=3.0.0,>=2.0.2->yellowbrick) (4.25.0)\n",
      "Requirement already satisfied: python-dateutil>=2.7 in c:\\users\\guswp\\anaconda3\\lib\\site-packages (from matplotlib!=3.0.0,>=2.0.2->yellowbrick) (2.8.2)\n",
      "Requirement already satisfied: kiwisolver>=1.0.1 in c:\\users\\guswp\\anaconda3\\lib\\site-packages (from matplotlib!=3.0.0,>=2.0.2->yellowbrick) (1.3.2)\n",
      "Requirement already satisfied: pyparsing>=2.2.1 in c:\\users\\guswp\\anaconda3\\lib\\site-packages (from matplotlib!=3.0.0,>=2.0.2->yellowbrick) (3.0.4)\n",
      "Requirement already satisfied: six>=1.5 in c:\\users\\guswp\\anaconda3\\lib\\site-packages (from python-dateutil>=2.7->matplotlib!=3.0.0,>=2.0.2->yellowbrick) (1.16.0)\n",
      "Requirement already satisfied: joblib>=0.11 in c:\\users\\guswp\\anaconda3\\lib\\site-packages (from scikit-learn>=1.0.0->yellowbrick) (1.1.0)\n",
      "Requirement already satisfied: threadpoolctl>=2.0.0 in c:\\users\\guswp\\anaconda3\\lib\\site-packages (from scikit-learn>=1.0.0->yellowbrick) (2.2.0)\n",
      "Installing collected packages: yellowbrick\n",
      "Successfully installed yellowbrick-1.5\n",
      "Note: you may need to restart the kernel to use updated packages.\n"
     ]
    }
   ],
   "source": [
    "pip install yellowbrick"
   ]
  },
  {
   "cell_type": "code",
   "execution_count": 32,
   "metadata": {},
   "outputs": [],
   "source": [
    "train['max_avg_ratio'] = train['target'] / train['maximum_speed_limit']"
   ]
  },
  {
   "cell_type": "code",
   "execution_count": 33,
   "metadata": {},
   "outputs": [],
   "source": [
    "# from yellowbrick.cluster import KElbowVisualizer\n",
    "# from sklearn.cluster import KMeans\n",
    "# model = KMeans()\n",
    "# visualizer = KElbowVisualizer(model, k=(1,10))\n",
    "# visualizer.fit(train[['road_dist','target']])"
   ]
  },
  {
   "cell_type": "markdown",
   "metadata": {},
   "source": [
    "- k=3 이 적절해 보임"
   ]
  },
  {
   "cell_type": "code",
   "execution_count": 34,
   "metadata": {},
   "outputs": [],
   "source": [
    "# k = 3\n",
    "\n",
    "# # 그룹 수, random_state 설정\n",
    "# k_means = KMeans(n_clusters = k, random_state = 2022)\n",
    "\n",
    "# # 정규화된 데이터에 학습\n",
    "# k_means.fit(train[['road_dist','target']])\n",
    "\n",
    "# # 클러스터링 결과 각 데이터가 몇 번째 그룹에 속하는지 저장\n",
    "# train['cluster'] = k_means.fit_predict(train[['road_dist','target']])"
   ]
  },
  {
   "cell_type": "code",
   "execution_count": 35,
   "metadata": {},
   "outputs": [],
   "source": [
    "# import matplotlib.pyplot as plt\n",
    "\n",
    "# plt.figure(figsize = (8, 8))\n",
    "\n",
    "# for i in range(k):\n",
    "#     plt.scatter(train.loc[train['cluster'] == i, 'road_dist'], train.loc[train['cluster'] == i, 'target'], \n",
    "#                 label = 'cluster ' + str(i))\n",
    "\n",
    "# plt.legend()\n",
    "# plt.title('K = %d results'%k , size = 15)\n",
    "# plt.xlabel('road_dist', size = 12)\n",
    "# plt.ylabel('target', size = 12)\n",
    "# plt.show()"
   ]
  },
  {
   "cell_type": "code",
   "execution_count": 36,
   "metadata": {},
   "outputs": [
    {
     "data": {
      "text/html": [
       "<div>\n",
       "<style scoped>\n",
       "    .dataframe tbody tr th:only-of-type {\n",
       "        vertical-align: middle;\n",
       "    }\n",
       "\n",
       "    .dataframe tbody tr th {\n",
       "        vertical-align: top;\n",
       "    }\n",
       "\n",
       "    .dataframe thead th {\n",
       "        text-align: right;\n",
       "    }\n",
       "</style>\n",
       "<table border=\"1\" class=\"dataframe\">\n",
       "  <thead>\n",
       "    <tr style=\"text-align: right;\">\n",
       "      <th></th>\n",
       "      <th>start_latitude</th>\n",
       "      <th>start_longitude</th>\n",
       "      <th>end_latitude</th>\n",
       "      <th>end_longitude</th>\n",
       "      <th>max_avg_ratio</th>\n",
       "    </tr>\n",
       "  </thead>\n",
       "  <tbody>\n",
       "    <tr>\n",
       "      <th>0</th>\n",
       "      <td>33.243432</td>\n",
       "      <td>126.422025</td>\n",
       "      <td>33.244882</td>\n",
       "      <td>126.419089</td>\n",
       "      <td>1.277074</td>\n",
       "    </tr>\n",
       "    <tr>\n",
       "      <th>1</th>\n",
       "      <td>33.244512</td>\n",
       "      <td>126.427069</td>\n",
       "      <td>33.249505</td>\n",
       "      <td>126.430787</td>\n",
       "      <td>1.355226</td>\n",
       "    </tr>\n",
       "    <tr>\n",
       "      <th>2</th>\n",
       "      <td>33.244601</td>\n",
       "      <td>126.562080</td>\n",
       "      <td>33.244871</td>\n",
       "      <td>126.564407</td>\n",
       "      <td>0.513336</td>\n",
       "    </tr>\n",
       "    <tr>\n",
       "      <th>3</th>\n",
       "      <td>33.244601</td>\n",
       "      <td>126.562080</td>\n",
       "      <td>33.247607</td>\n",
       "      <td>126.561943</td>\n",
       "      <td>0.441340</td>\n",
       "    </tr>\n",
       "    <tr>\n",
       "      <th>4</th>\n",
       "      <td>33.244871</td>\n",
       "      <td>126.564407</td>\n",
       "      <td>33.244601</td>\n",
       "      <td>126.562080</td>\n",
       "      <td>0.439949</td>\n",
       "    </tr>\n",
       "    <tr>\n",
       "      <th>...</th>\n",
       "      <td>...</td>\n",
       "      <td>...</td>\n",
       "      <td>...</td>\n",
       "      <td>...</td>\n",
       "      <td>...</td>\n",
       "    </tr>\n",
       "    <tr>\n",
       "      <th>899</th>\n",
       "      <td>33.553525</td>\n",
       "      <td>126.739714</td>\n",
       "      <td>33.554302</td>\n",
       "      <td>126.738379</td>\n",
       "      <td>0.487628</td>\n",
       "    </tr>\n",
       "    <tr>\n",
       "      <th>900</th>\n",
       "      <td>33.554302</td>\n",
       "      <td>126.738379</td>\n",
       "      <td>33.553525</td>\n",
       "      <td>126.739714</td>\n",
       "      <td>0.681790</td>\n",
       "    </tr>\n",
       "    <tr>\n",
       "      <th>901</th>\n",
       "      <td>33.554302</td>\n",
       "      <td>126.738379</td>\n",
       "      <td>33.555316</td>\n",
       "      <td>126.736681</td>\n",
       "      <td>0.534187</td>\n",
       "    </tr>\n",
       "    <tr>\n",
       "      <th>902</th>\n",
       "      <td>33.555316</td>\n",
       "      <td>126.736681</td>\n",
       "      <td>33.554302</td>\n",
       "      <td>126.738379</td>\n",
       "      <td>0.469063</td>\n",
       "    </tr>\n",
       "    <tr>\n",
       "      <th>903</th>\n",
       "      <td>33.556080</td>\n",
       "      <td>126.759732</td>\n",
       "      <td>33.551585</td>\n",
       "      <td>126.769385</td>\n",
       "      <td>0.680557</td>\n",
       "    </tr>\n",
       "  </tbody>\n",
       "</table>\n",
       "<p>904 rows × 5 columns</p>\n",
       "</div>"
      ],
      "text/plain": [
       "     start_latitude  start_longitude  end_latitude  end_longitude  \\\n",
       "0         33.243432       126.422025     33.244882     126.419089   \n",
       "1         33.244512       126.427069     33.249505     126.430787   \n",
       "2         33.244601       126.562080     33.244871     126.564407   \n",
       "3         33.244601       126.562080     33.247607     126.561943   \n",
       "4         33.244871       126.564407     33.244601     126.562080   \n",
       "..              ...              ...           ...            ...   \n",
       "899       33.553525       126.739714     33.554302     126.738379   \n",
       "900       33.554302       126.738379     33.553525     126.739714   \n",
       "901       33.554302       126.738379     33.555316     126.736681   \n",
       "902       33.555316       126.736681     33.554302     126.738379   \n",
       "903       33.556080       126.759732     33.551585     126.769385   \n",
       "\n",
       "     max_avg_ratio  \n",
       "0         1.277074  \n",
       "1         1.355226  \n",
       "2         0.513336  \n",
       "3         0.441340  \n",
       "4         0.439949  \n",
       "..             ...  \n",
       "899       0.487628  \n",
       "900       0.681790  \n",
       "901       0.534187  \n",
       "902       0.469063  \n",
       "903       0.680557  \n",
       "\n",
       "[904 rows x 5 columns]"
      ]
     },
     "execution_count": 36,
     "metadata": {},
     "output_type": "execute_result"
    }
   ],
   "source": [
    "# 속도를 얼마나 낼 수 있을까에 대한거....(요일, 시간대, 도로별 특성....)\n",
    "gpy_standard = ['start_latitude','start_longitude','end_latitude','end_longitude']\n",
    "max_ratio_groupby = train[gpy_standard+['max_avg_ratio']].groupby(gpy_standard).mean().reset_index()\n",
    "max_ratio_groupby\n",
    "\n",
    "## start_node와 end_node로 그룹바이 했을 때 갯수랑 비교\n",
    "## 구간은 동일한데 시작과 도착이 서로 반대라서 다르게 카운팅 될 수도...\n"
   ]
  },
  {
   "cell_type": "code",
   "execution_count": 37,
   "metadata": {},
   "outputs": [
    {
     "name": "stdout",
     "output_type": "stream",
     "text": [
      "(904, 5)\n"
     ]
    }
   ],
   "source": [
    "print(max_ratio_groupby.shape)"
   ]
  },
  {
   "cell_type": "code",
   "execution_count": 38,
   "metadata": {},
   "outputs": [
    {
     "data": {
      "text/html": [
       "<div>\n",
       "<style scoped>\n",
       "    .dataframe tbody tr th:only-of-type {\n",
       "        vertical-align: middle;\n",
       "    }\n",
       "\n",
       "    .dataframe tbody tr th {\n",
       "        vertical-align: top;\n",
       "    }\n",
       "\n",
       "    .dataframe thead th {\n",
       "        text-align: right;\n",
       "    }\n",
       "</style>\n",
       "<table border=\"1\" class=\"dataframe\">\n",
       "  <thead>\n",
       "    <tr style=\"text-align: right;\">\n",
       "      <th></th>\n",
       "      <th>start_node_name</th>\n",
       "      <th>end_node_name</th>\n",
       "      <th>max_avg_ratio</th>\n",
       "    </tr>\n",
       "  </thead>\n",
       "  <tbody>\n",
       "    <tr>\n",
       "      <th>0</th>\n",
       "      <td>BYC</td>\n",
       "      <td>김약국</td>\n",
       "      <td>0.471400</td>\n",
       "    </tr>\n",
       "    <tr>\n",
       "      <th>1</th>\n",
       "      <td>BYC</td>\n",
       "      <td>정방수퍼</td>\n",
       "      <td>0.537955</td>\n",
       "    </tr>\n",
       "    <tr>\n",
       "      <th>2</th>\n",
       "      <td>CU서귀호근로점</td>\n",
       "      <td>서호교회</td>\n",
       "      <td>0.652446</td>\n",
       "    </tr>\n",
       "    <tr>\n",
       "      <th>3</th>\n",
       "      <td>KAL사거리</td>\n",
       "      <td>광양사거리</td>\n",
       "      <td>0.398716</td>\n",
       "    </tr>\n",
       "    <tr>\n",
       "      <th>4</th>\n",
       "      <td>가는질</td>\n",
       "      <td>우사</td>\n",
       "      <td>0.917172</td>\n",
       "    </tr>\n",
       "    <tr>\n",
       "      <th>...</th>\n",
       "      <td>...</td>\n",
       "      <td>...</td>\n",
       "      <td>...</td>\n",
       "    </tr>\n",
       "    <tr>\n",
       "      <th>803</th>\n",
       "      <td>회수입구</td>\n",
       "      <td>중문입구삼거리</td>\n",
       "      <td>0.824004</td>\n",
       "    </tr>\n",
       "    <tr>\n",
       "      <th>804</th>\n",
       "      <td>회수입구</td>\n",
       "      <td>회수사거리</td>\n",
       "      <td>0.654850</td>\n",
       "    </tr>\n",
       "    <tr>\n",
       "      <th>805</th>\n",
       "      <td>회천교차로</td>\n",
       "      <td>와흘교차로</td>\n",
       "      <td>0.892825</td>\n",
       "    </tr>\n",
       "    <tr>\n",
       "      <th>806</th>\n",
       "      <td>효례교</td>\n",
       "      <td>청송낚시</td>\n",
       "      <td>0.611753</td>\n",
       "    </tr>\n",
       "    <tr>\n",
       "      <th>807</th>\n",
       "      <td>흘천5교</td>\n",
       "      <td>그랜드호텔사거</td>\n",
       "      <td>0.392405</td>\n",
       "    </tr>\n",
       "  </tbody>\n",
       "</table>\n",
       "<p>808 rows × 3 columns</p>\n",
       "</div>"
      ],
      "text/plain": [
       "    start_node_name end_node_name  max_avg_ratio\n",
       "0               BYC           김약국       0.471400\n",
       "1               BYC          정방수퍼       0.537955\n",
       "2          CU서귀호근로점          서호교회       0.652446\n",
       "3            KAL사거리         광양사거리       0.398716\n",
       "4               가는질            우사       0.917172\n",
       "..              ...           ...            ...\n",
       "803            회수입구       중문입구삼거리       0.824004\n",
       "804            회수입구         회수사거리       0.654850\n",
       "805           회천교차로         와흘교차로       0.892825\n",
       "806             효례교          청송낚시       0.611753\n",
       "807            흘천5교       그랜드호텔사거       0.392405\n",
       "\n",
       "[808 rows x 3 columns]"
      ]
     },
     "execution_count": 38,
     "metadata": {},
     "output_type": "execute_result"
    }
   ],
   "source": [
    "gpy_se = ['start_node_name','end_node_name']\n",
    "max_ratio_groupby = train[gpy_se+['max_avg_ratio']].groupby(gpy_se).mean().reset_index()\n",
    "max_ratio_groupby"
   ]
  },
  {
   "cell_type": "code",
   "execution_count": 39,
   "metadata": {},
   "outputs": [],
   "source": [
    "s_e = []\n",
    "for s,e in train[['start_node_name','end_node_name']].to_numpy():\n",
    "    s_e.append(set([s,e]))"
   ]
  },
  {
   "cell_type": "code",
   "execution_count": 40,
   "metadata": {},
   "outputs": [],
   "source": [
    "train['start-end'] = s_e"
   ]
  },
  {
   "cell_type": "code",
   "execution_count": 41,
   "metadata": {},
   "outputs": [],
   "source": [
    "# groupby 기준으로 집합을 활용할 수 없어서 문자열로 변경\n",
    "train['start-end'] = train['start-end'].apply(lambda x: list(x)[0] if len(list(x)) == 1 else list(x)[0]+'-'+list(x)[1])"
   ]
  },
  {
   "cell_type": "code",
   "execution_count": 42,
   "metadata": {},
   "outputs": [],
   "source": [
    "# 도로 구간별 평균속도와 제한속도 비율\n",
    "road_ratio = train[['max_avg_ratio','start-end']].groupby('start-end').mean().reset_index()"
   ]
  },
  {
   "cell_type": "code",
   "execution_count": 43,
   "metadata": {},
   "outputs": [
    {
     "data": {
      "text/html": [
       "<div>\n",
       "<style scoped>\n",
       "    .dataframe tbody tr th:only-of-type {\n",
       "        vertical-align: middle;\n",
       "    }\n",
       "\n",
       "    .dataframe tbody tr th {\n",
       "        vertical-align: top;\n",
       "    }\n",
       "\n",
       "    .dataframe thead th {\n",
       "        text-align: right;\n",
       "    }\n",
       "</style>\n",
       "<table border=\"1\" class=\"dataframe\">\n",
       "  <thead>\n",
       "    <tr style=\"text-align: right;\">\n",
       "      <th></th>\n",
       "      <th>start-end</th>\n",
       "      <th>max_avg_ratio</th>\n",
       "    </tr>\n",
       "  </thead>\n",
       "  <tbody>\n",
       "    <tr>\n",
       "      <th>0</th>\n",
       "      <td>BYC-정방수퍼</td>\n",
       "      <td>0.470709</td>\n",
       "    </tr>\n",
       "    <tr>\n",
       "      <th>1</th>\n",
       "      <td>CU서귀호근로점-서호교회</td>\n",
       "      <td>0.647724</td>\n",
       "    </tr>\n",
       "    <tr>\n",
       "      <th>2</th>\n",
       "      <td>KAL사거리-광양사거리</td>\n",
       "      <td>0.419178</td>\n",
       "    </tr>\n",
       "    <tr>\n",
       "      <th>3</th>\n",
       "      <td>가는질-우사</td>\n",
       "      <td>0.899061</td>\n",
       "    </tr>\n",
       "    <tr>\n",
       "      <th>4</th>\n",
       "      <td>가동-나동</td>\n",
       "      <td>0.560905</td>\n",
       "    </tr>\n",
       "    <tr>\n",
       "      <th>...</th>\n",
       "      <td>...</td>\n",
       "      <td>...</td>\n",
       "    </tr>\n",
       "    <tr>\n",
       "      <th>483</th>\n",
       "      <td>화순삼거리-남당동</td>\n",
       "      <td>0.995755</td>\n",
       "    </tr>\n",
       "    <tr>\n",
       "      <th>484</th>\n",
       "      <td>회수사거리-회수입구</td>\n",
       "      <td>0.607026</td>\n",
       "    </tr>\n",
       "    <tr>\n",
       "      <th>485</th>\n",
       "      <td>회수입구-중문입구삼거리</td>\n",
       "      <td>0.759173</td>\n",
       "    </tr>\n",
       "    <tr>\n",
       "      <th>486</th>\n",
       "      <td>효례교-청송낚시</td>\n",
       "      <td>0.654460</td>\n",
       "    </tr>\n",
       "    <tr>\n",
       "      <th>487</th>\n",
       "      <td>흘천5교-그랜드호텔사거</td>\n",
       "      <td>0.451284</td>\n",
       "    </tr>\n",
       "  </tbody>\n",
       "</table>\n",
       "<p>488 rows × 2 columns</p>\n",
       "</div>"
      ],
      "text/plain": [
       "         start-end  max_avg_ratio\n",
       "0         BYC-정방수퍼       0.470709\n",
       "1    CU서귀호근로점-서호교회       0.647724\n",
       "2     KAL사거리-광양사거리       0.419178\n",
       "3           가는질-우사       0.899061\n",
       "4            가동-나동       0.560905\n",
       "..             ...            ...\n",
       "483      화순삼거리-남당동       0.995755\n",
       "484     회수사거리-회수입구       0.607026\n",
       "485   회수입구-중문입구삼거리       0.759173\n",
       "486       효례교-청송낚시       0.654460\n",
       "487   흘천5교-그랜드호텔사거       0.451284\n",
       "\n",
       "[488 rows x 2 columns]"
      ]
     },
     "execution_count": 43,
     "metadata": {},
     "output_type": "execute_result"
    }
   ],
   "source": [
    "road_ratio"
   ]
  },
  {
   "cell_type": "code",
   "execution_count": 44,
   "metadata": {},
   "outputs": [
    {
     "data": {
      "text/html": [
       "<div>\n",
       "<style scoped>\n",
       "    .dataframe tbody tr th:only-of-type {\n",
       "        vertical-align: middle;\n",
       "    }\n",
       "\n",
       "    .dataframe tbody tr th {\n",
       "        vertical-align: top;\n",
       "    }\n",
       "\n",
       "    .dataframe thead th {\n",
       "        text-align: right;\n",
       "    }\n",
       "</style>\n",
       "<table border=\"1\" class=\"dataframe\">\n",
       "  <thead>\n",
       "    <tr style=\"text-align: right;\">\n",
       "      <th></th>\n",
       "      <th>start-end</th>\n",
       "      <th>max_avg_ratio</th>\n",
       "    </tr>\n",
       "  </thead>\n",
       "  <tbody>\n",
       "    <tr>\n",
       "      <th>48</th>\n",
       "      <td>구엄교-양계장</td>\n",
       "      <td>1.672584</td>\n",
       "    </tr>\n",
       "    <tr>\n",
       "      <th>9</th>\n",
       "      <td>감귤선과장-어도초등교</td>\n",
       "      <td>1.508167</td>\n",
       "    </tr>\n",
       "    <tr>\n",
       "      <th>448</th>\n",
       "      <td>하늘궁전-창고</td>\n",
       "      <td>1.470792</td>\n",
       "    </tr>\n",
       "    <tr>\n",
       "      <th>378</th>\n",
       "      <td>제2서홍교</td>\n",
       "      <td>1.404715</td>\n",
       "    </tr>\n",
       "    <tr>\n",
       "      <th>334</th>\n",
       "      <td>월평1교앞교차로-동샘교차로</td>\n",
       "      <td>1.380397</td>\n",
       "    </tr>\n",
       "    <tr>\n",
       "      <th>...</th>\n",
       "      <td>...</td>\n",
       "      <td>...</td>\n",
       "    </tr>\n",
       "    <tr>\n",
       "      <th>143</th>\n",
       "      <td>법원사거리-세무서사거리</td>\n",
       "      <td>0.337160</td>\n",
       "    </tr>\n",
       "    <tr>\n",
       "      <th>36</th>\n",
       "      <td>광령1교차로-무수천사가로</td>\n",
       "      <td>0.324974</td>\n",
       "    </tr>\n",
       "    <tr>\n",
       "      <th>170</th>\n",
       "      <td>삼무공원사거리-제주일보사거리</td>\n",
       "      <td>0.303199</td>\n",
       "    </tr>\n",
       "    <tr>\n",
       "      <th>174</th>\n",
       "      <td>삼양검은모래해변입구교차로-제주시 삼양2동 1480-2</td>\n",
       "      <td>0.283749</td>\n",
       "    </tr>\n",
       "    <tr>\n",
       "      <th>144</th>\n",
       "      <td>법원사거리-소방서앞사거리</td>\n",
       "      <td>0.280607</td>\n",
       "    </tr>\n",
       "  </tbody>\n",
       "</table>\n",
       "<p>488 rows × 2 columns</p>\n",
       "</div>"
      ],
      "text/plain": [
       "                         start-end  max_avg_ratio\n",
       "48                         구엄교-양계장       1.672584\n",
       "9                      감귤선과장-어도초등교       1.508167\n",
       "448                        하늘궁전-창고       1.470792\n",
       "378                          제2서홍교       1.404715\n",
       "334                 월평1교앞교차로-동샘교차로       1.380397\n",
       "..                             ...            ...\n",
       "143                   법원사거리-세무서사거리       0.337160\n",
       "36                   광령1교차로-무수천사가로       0.324974\n",
       "170                삼무공원사거리-제주일보사거리       0.303199\n",
       "174  삼양검은모래해변입구교차로-제주시 삼양2동 1480-2       0.283749\n",
       "144                  법원사거리-소방서앞사거리       0.280607\n",
       "\n",
       "[488 rows x 2 columns]"
      ]
     },
     "execution_count": 44,
     "metadata": {},
     "output_type": "execute_result"
    }
   ],
   "source": [
    "road_ratio.sort_values(by='max_avg_ratio',ascending=False)"
   ]
  },
  {
   "cell_type": "code",
   "execution_count": 45,
   "metadata": {},
   "outputs": [],
   "source": [
    "road_ratio['cluster'] = 0\n",
    "road_ratio.loc[road_ratio['max_avg_ratio']<0.5,'cluster'] = 0\n",
    "road_ratio.loc[(0.5<=road_ratio['max_avg_ratio']) & (road_ratio['max_avg_ratio']<1),'cluster'] = 1\n",
    "road_ratio.loc[road_ratio['max_avg_ratio']>=1,'cluster'] = 2"
   ]
  },
  {
   "cell_type": "code",
   "execution_count": 46,
   "metadata": {},
   "outputs": [
    {
     "data": {
      "text/html": [
       "<div>\n",
       "<style scoped>\n",
       "    .dataframe tbody tr th:only-of-type {\n",
       "        vertical-align: middle;\n",
       "    }\n",
       "\n",
       "    .dataframe tbody tr th {\n",
       "        vertical-align: top;\n",
       "    }\n",
       "\n",
       "    .dataframe thead th {\n",
       "        text-align: right;\n",
       "    }\n",
       "</style>\n",
       "<table border=\"1\" class=\"dataframe\">\n",
       "  <thead>\n",
       "    <tr style=\"text-align: right;\">\n",
       "      <th></th>\n",
       "      <th>start-end</th>\n",
       "      <th>max_avg_ratio</th>\n",
       "      <th>cluster</th>\n",
       "    </tr>\n",
       "  </thead>\n",
       "  <tbody>\n",
       "    <tr>\n",
       "      <th>0</th>\n",
       "      <td>BYC-정방수퍼</td>\n",
       "      <td>0.470709</td>\n",
       "      <td>0</td>\n",
       "    </tr>\n",
       "    <tr>\n",
       "      <th>1</th>\n",
       "      <td>CU서귀호근로점-서호교회</td>\n",
       "      <td>0.647724</td>\n",
       "      <td>1</td>\n",
       "    </tr>\n",
       "    <tr>\n",
       "      <th>2</th>\n",
       "      <td>KAL사거리-광양사거리</td>\n",
       "      <td>0.419178</td>\n",
       "      <td>0</td>\n",
       "    </tr>\n",
       "    <tr>\n",
       "      <th>3</th>\n",
       "      <td>가는질-우사</td>\n",
       "      <td>0.899061</td>\n",
       "      <td>1</td>\n",
       "    </tr>\n",
       "    <tr>\n",
       "      <th>4</th>\n",
       "      <td>가동-나동</td>\n",
       "      <td>0.560905</td>\n",
       "      <td>1</td>\n",
       "    </tr>\n",
       "    <tr>\n",
       "      <th>...</th>\n",
       "      <td>...</td>\n",
       "      <td>...</td>\n",
       "      <td>...</td>\n",
       "    </tr>\n",
       "    <tr>\n",
       "      <th>483</th>\n",
       "      <td>화순삼거리-남당동</td>\n",
       "      <td>0.995755</td>\n",
       "      <td>1</td>\n",
       "    </tr>\n",
       "    <tr>\n",
       "      <th>484</th>\n",
       "      <td>회수사거리-회수입구</td>\n",
       "      <td>0.607026</td>\n",
       "      <td>1</td>\n",
       "    </tr>\n",
       "    <tr>\n",
       "      <th>485</th>\n",
       "      <td>회수입구-중문입구삼거리</td>\n",
       "      <td>0.759173</td>\n",
       "      <td>1</td>\n",
       "    </tr>\n",
       "    <tr>\n",
       "      <th>486</th>\n",
       "      <td>효례교-청송낚시</td>\n",
       "      <td>0.654460</td>\n",
       "      <td>1</td>\n",
       "    </tr>\n",
       "    <tr>\n",
       "      <th>487</th>\n",
       "      <td>흘천5교-그랜드호텔사거</td>\n",
       "      <td>0.451284</td>\n",
       "      <td>0</td>\n",
       "    </tr>\n",
       "  </tbody>\n",
       "</table>\n",
       "<p>488 rows × 3 columns</p>\n",
       "</div>"
      ],
      "text/plain": [
       "         start-end  max_avg_ratio  cluster\n",
       "0         BYC-정방수퍼       0.470709        0\n",
       "1    CU서귀호근로점-서호교회       0.647724        1\n",
       "2     KAL사거리-광양사거리       0.419178        0\n",
       "3           가는질-우사       0.899061        1\n",
       "4            가동-나동       0.560905        1\n",
       "..             ...            ...      ...\n",
       "483      화순삼거리-남당동       0.995755        1\n",
       "484     회수사거리-회수입구       0.607026        1\n",
       "485   회수입구-중문입구삼거리       0.759173        1\n",
       "486       효례교-청송낚시       0.654460        1\n",
       "487   흘천5교-그랜드호텔사거       0.451284        0\n",
       "\n",
       "[488 rows x 3 columns]"
      ]
     },
     "execution_count": 46,
     "metadata": {},
     "output_type": "execute_result"
    }
   ],
   "source": [
    "road_ratio"
   ]
  },
  {
   "cell_type": "code",
   "execution_count": 47,
   "metadata": {},
   "outputs": [
    {
     "data": {
      "image/png": "[encoded data removed]",
      "text/plain": [
       "<Figure size 576x576 with 1 Axes>"
      ]
     },
     "metadata": {
      "needs_background": "light"
     },
     "output_type": "display_data"
    }
   ],
   "source": [
    "plt.figure(figsize=(8,8))\n",
    "sns.kdeplot(road_ratio['max_avg_ratio'])\n",
    "plt.grid()\n",
    "plt.show()"
   ]
  },
  {
   "cell_type": "code",
   "execution_count": 48,
   "metadata": {},
   "outputs": [],
   "source": [
    "## 학습 데이터와 구간별 비 데이터 조인\n",
    "s_e = []\n",
    "for s,e in train[['start_node_name','end_node_name']].to_numpy():\n",
    "    s_e.append(set([s,e]))"
   ]
  },
  {
   "cell_type": "code",
   "execution_count": 49,
   "metadata": {},
   "outputs": [],
   "source": [
    "train['start-end'] = s_e"
   ]
  },
  {
   "cell_type": "code",
   "execution_count": 50,
   "metadata": {},
   "outputs": [],
   "source": [
    "# groupby 기준으로 집합을 활용할 수 없어서 문자열로 변경\n",
    "train['start-end'] = train['start-end'].apply(lambda x: list(x)[0] if len(list(x)) == 1 else list(x)[0]+'-'+list(x)[1])"
   ]
  },
  {
   "cell_type": "code",
   "execution_count": 51,
   "metadata": {},
   "outputs": [],
   "source": [
    "train = pd.merge(train,road_ratio[['start-end','cluster']],how='inner',left_on='start-end',right_on='start-end')"
   ]
  },
  {
   "cell_type": "code",
   "execution_count": 52,
   "metadata": {},
   "outputs": [],
   "source": [
    "## 검증 데이터와 구간별 비 데이터 조인\n",
    "s_e = []\n",
    "for s,e in test[['start_node_name','end_node_name']].to_numpy():\n",
    "    s_e.append(set([s,e]))"
   ]
  },
  {
   "cell_type": "code",
   "execution_count": 53,
   "metadata": {},
   "outputs": [],
   "source": [
    "test['start-end'] = s_e"
   ]
  },
  {
   "cell_type": "code",
   "execution_count": 54,
   "metadata": {},
   "outputs": [],
   "source": [
    "# groupby 기준으로 집합을 활용할 수 없어서 문자열로 변경\n",
    "test['start-end'] = test['start-end'].apply(lambda x: list(x)[0] if len(list(x)) == 1 else list(x)[0]+'-'+list(x)[1])"
   ]
  },
  {
   "cell_type": "code",
   "execution_count": 55,
   "metadata": {},
   "outputs": [],
   "source": [
    "test = pd.merge(test,road_ratio[['start-end','cluster']],how='inner',left_on='start-end',right_on='start-end')"
   ]
  },
  {
   "cell_type": "code",
   "execution_count": 56,
   "metadata": {},
   "outputs": [
    {
     "data": {
      "text/html": [
       "<div>\n",
       "<style scoped>\n",
       "    .dataframe tbody tr th:only-of-type {\n",
       "        vertical-align: middle;\n",
       "    }\n",
       "\n",
       "    .dataframe tbody tr th {\n",
       "        vertical-align: top;\n",
       "    }\n",
       "\n",
       "    .dataframe thead th {\n",
       "        text-align: right;\n",
       "    }\n",
       "</style>\n",
       "<table border=\"1\" class=\"dataframe\">\n",
       "  <thead>\n",
       "    <tr style=\"text-align: right;\">\n",
       "      <th></th>\n",
       "      <th>id</th>\n",
       "      <th>base_date</th>\n",
       "      <th>day_of_week</th>\n",
       "      <th>base_hour</th>\n",
       "      <th>lane_count</th>\n",
       "      <th>road_rating</th>\n",
       "      <th>road_name</th>\n",
       "      <th>multi_linked</th>\n",
       "      <th>connect_code</th>\n",
       "      <th>maximum_speed_limit</th>\n",
       "      <th>vehicle_restricted</th>\n",
       "      <th>weight_restricted</th>\n",
       "      <th>height_restricted</th>\n",
       "      <th>road_type</th>\n",
       "      <th>start_node_name</th>\n",
       "      <th>start_latitude</th>\n",
       "      <th>start_longitude</th>\n",
       "      <th>start_turn_restricted</th>\n",
       "      <th>end_node_name</th>\n",
       "      <th>end_latitude</th>\n",
       "      <th>end_longitude</th>\n",
       "      <th>end_turn_restricted</th>\n",
       "      <th>target</th>\n",
       "      <th>month</th>\n",
       "      <th>road_dist</th>\n",
       "      <th>max_avg_ratio</th>\n",
       "      <th>start-end</th>\n",
       "      <th>cluster</th>\n",
       "    </tr>\n",
       "  </thead>\n",
       "  <tbody>\n",
       "    <tr>\n",
       "      <th>0</th>\n",
       "      <td>TRAIN_0000000</td>\n",
       "      <td>2022-06-23</td>\n",
       "      <td>목</td>\n",
       "      <td>17</td>\n",
       "      <td>1</td>\n",
       "      <td>106</td>\n",
       "      <td>지방도1112호선</td>\n",
       "      <td>0</td>\n",
       "      <td>0</td>\n",
       "      <td>60.0</td>\n",
       "      <td>0.0</td>\n",
       "      <td>32400.0</td>\n",
       "      <td>0.0</td>\n",
       "      <td>3</td>\n",
       "      <td>제3교래교</td>\n",
       "      <td>33.427747</td>\n",
       "      <td>126.662612</td>\n",
       "      <td>없음</td>\n",
       "      <td>제3교래교</td>\n",
       "      <td>33.427749</td>\n",
       "      <td>126.662335</td>\n",
       "      <td>없음</td>\n",
       "      <td>52.0</td>\n",
       "      <td>6</td>\n",
       "      <td>0.025711</td>\n",
       "      <td>0.866667</td>\n",
       "      <td>제3교래교</td>\n",
       "      <td>1</td>\n",
       "    </tr>\n",
       "    <tr>\n",
       "      <th>1</th>\n",
       "      <td>TRAIN_0000393</td>\n",
       "      <td>2022-01-18</td>\n",
       "      <td>화</td>\n",
       "      <td>15</td>\n",
       "      <td>1</td>\n",
       "      <td>106</td>\n",
       "      <td>지방도1112호선</td>\n",
       "      <td>0</td>\n",
       "      <td>0</td>\n",
       "      <td>60.0</td>\n",
       "      <td>0.0</td>\n",
       "      <td>32400.0</td>\n",
       "      <td>0.0</td>\n",
       "      <td>3</td>\n",
       "      <td>제3교래교</td>\n",
       "      <td>33.427747</td>\n",
       "      <td>126.662612</td>\n",
       "      <td>없음</td>\n",
       "      <td>제3교래교</td>\n",
       "      <td>33.427749</td>\n",
       "      <td>126.662335</td>\n",
       "      <td>없음</td>\n",
       "      <td>50.0</td>\n",
       "      <td>1</td>\n",
       "      <td>0.025711</td>\n",
       "      <td>0.833333</td>\n",
       "      <td>제3교래교</td>\n",
       "      <td>1</td>\n",
       "    </tr>\n",
       "    <tr>\n",
       "      <th>2</th>\n",
       "      <td>TRAIN_0000542</td>\n",
       "      <td>2022-06-06</td>\n",
       "      <td>월</td>\n",
       "      <td>20</td>\n",
       "      <td>1</td>\n",
       "      <td>106</td>\n",
       "      <td>지방도1112호선</td>\n",
       "      <td>0</td>\n",
       "      <td>0</td>\n",
       "      <td>60.0</td>\n",
       "      <td>0.0</td>\n",
       "      <td>32400.0</td>\n",
       "      <td>0.0</td>\n",
       "      <td>3</td>\n",
       "      <td>제3교래교</td>\n",
       "      <td>33.427749</td>\n",
       "      <td>126.662335</td>\n",
       "      <td>없음</td>\n",
       "      <td>제3교래교</td>\n",
       "      <td>33.427747</td>\n",
       "      <td>126.662612</td>\n",
       "      <td>없음</td>\n",
       "      <td>41.0</td>\n",
       "      <td>6</td>\n",
       "      <td>0.025711</td>\n",
       "      <td>0.683333</td>\n",
       "      <td>제3교래교</td>\n",
       "      <td>1</td>\n",
       "    </tr>\n",
       "    <tr>\n",
       "      <th>3</th>\n",
       "      <td>TRAIN_0001029</td>\n",
       "      <td>2022-05-04</td>\n",
       "      <td>수</td>\n",
       "      <td>9</td>\n",
       "      <td>1</td>\n",
       "      <td>106</td>\n",
       "      <td>지방도1112호선</td>\n",
       "      <td>0</td>\n",
       "      <td>0</td>\n",
       "      <td>60.0</td>\n",
       "      <td>0.0</td>\n",
       "      <td>32400.0</td>\n",
       "      <td>0.0</td>\n",
       "      <td>3</td>\n",
       "      <td>제3교래교</td>\n",
       "      <td>33.427747</td>\n",
       "      <td>126.662612</td>\n",
       "      <td>없음</td>\n",
       "      <td>제3교래교</td>\n",
       "      <td>33.427749</td>\n",
       "      <td>126.662335</td>\n",
       "      <td>없음</td>\n",
       "      <td>55.0</td>\n",
       "      <td>5</td>\n",
       "      <td>0.025711</td>\n",
       "      <td>0.916667</td>\n",
       "      <td>제3교래교</td>\n",
       "      <td>1</td>\n",
       "    </tr>\n",
       "    <tr>\n",
       "      <th>4</th>\n",
       "      <td>TRAIN_0001607</td>\n",
       "      <td>2022-01-31</td>\n",
       "      <td>월</td>\n",
       "      <td>14</td>\n",
       "      <td>1</td>\n",
       "      <td>106</td>\n",
       "      <td>지방도1112호선</td>\n",
       "      <td>0</td>\n",
       "      <td>0</td>\n",
       "      <td>60.0</td>\n",
       "      <td>0.0</td>\n",
       "      <td>32400.0</td>\n",
       "      <td>0.0</td>\n",
       "      <td>3</td>\n",
       "      <td>제3교래교</td>\n",
       "      <td>33.427747</td>\n",
       "      <td>126.662612</td>\n",
       "      <td>없음</td>\n",
       "      <td>제3교래교</td>\n",
       "      <td>33.427749</td>\n",
       "      <td>126.662335</td>\n",
       "      <td>없음</td>\n",
       "      <td>50.0</td>\n",
       "      <td>1</td>\n",
       "      <td>0.025711</td>\n",
       "      <td>0.833333</td>\n",
       "      <td>제3교래교</td>\n",
       "      <td>1</td>\n",
       "    </tr>\n",
       "  </tbody>\n",
       "</table>\n",
       "</div>"
      ],
      "text/plain": [
       "              id  base_date day_of_week  base_hour  lane_count  road_rating  \\\n",
       "0  TRAIN_0000000 2022-06-23           목         17           1          106   \n",
       "1  TRAIN_0000393 2022-01-18           화         15           1          106   \n",
       "2  TRAIN_0000542 2022-06-06           월         20           1          106   \n",
       "3  TRAIN_0001029 2022-05-04           수          9           1          106   \n",
       "4  TRAIN_0001607 2022-01-31           월         14           1          106   \n",
       "\n",
       "   road_name  multi_linked  connect_code  maximum_speed_limit  \\\n",
       "0  지방도1112호선             0             0                 60.0   \n",
       "1  지방도1112호선             0             0                 60.0   \n",
       "2  지방도1112호선             0             0                 60.0   \n",
       "3  지방도1112호선             0             0                 60.0   \n",
       "4  지방도1112호선             0             0                 60.0   \n",
       "\n",
       "   vehicle_restricted  weight_restricted  height_restricted  road_type  \\\n",
       "0                 0.0            32400.0                0.0          3   \n",
       "1                 0.0            32400.0                0.0          3   \n",
       "2                 0.0            32400.0                0.0          3   \n",
       "3                 0.0            32400.0                0.0          3   \n",
       "4                 0.0            32400.0                0.0          3   \n",
       "\n",
       "  start_node_name  start_latitude  start_longitude start_turn_restricted  \\\n",
       "0           제3교래교       33.427747       126.662612                    없음   \n",
       "1           제3교래교       33.427747       126.662612                    없음   \n",
       "2           제3교래교       33.427749       126.662335                    없음   \n",
       "3           제3교래교       33.427747       126.662612                    없음   \n",
       "4           제3교래교       33.427747       126.662612                    없음   \n",
       "\n",
       "  end_node_name  end_latitude  end_longitude end_turn_restricted  target  \\\n",
       "0         제3교래교     33.427749     126.662335                  없음    52.0   \n",
       "1         제3교래교     33.427749     126.662335                  없음    50.0   \n",
       "2         제3교래교     33.427747     126.662612                  없음    41.0   \n",
       "3         제3교래교     33.427749     126.662335                  없음    55.0   \n",
       "4         제3교래교     33.427749     126.662335                  없음    50.0   \n",
       "\n",
       "   month  road_dist  max_avg_ratio start-end  cluster  \n",
       "0      6   0.025711       0.866667     제3교래교        1  \n",
       "1      1   0.025711       0.833333     제3교래교        1  \n",
       "2      6   0.025711       0.683333     제3교래교        1  \n",
       "3      5   0.025711       0.916667     제3교래교        1  \n",
       "4      1   0.025711       0.833333     제3교래교        1  "
      ]
     },
     "execution_count": 56,
     "metadata": {},
     "output_type": "execute_result"
    }
   ],
   "source": [
    "train.head()"
   ]
  },
  {
   "cell_type": "markdown",
   "metadata": {},
   "source": [
    "## 데이터 전처리"
   ]
  },
  {
   "cell_type": "markdown",
   "metadata": {},
   "source": [
    "### 월화수목/금/주말 "
   ]
  },
  {
   "cell_type": "code",
   "execution_count": 57,
   "metadata": {},
   "outputs": [],
   "source": [
    "# train 정제\n",
    "train.loc[train['day_of_week'].isin(['월','화','수','목']),'day_of_week'] = '월~목'\n",
    "train.loc[train['day_of_week'].isin(['토','일']),'day_of_week'] = '주말'\n",
    "\n",
    "# test 정제\n",
    "\n",
    "test.loc[test['day_of_week'].isin(['월','화','수','목']),'day_of_week'] = '월~목'\n",
    "test.loc[test['day_of_week'].isin(['토','일']),'day_of_week'] = '주말'"
   ]
  },
  {
   "cell_type": "code",
   "execution_count": 58,
   "metadata": {},
   "outputs": [
    {
     "data": {
      "text/plain": [
       "Index(['id', 'base_date', 'day_of_week', 'base_hour', 'lane_count',\n",
       "       'road_rating', 'road_name', 'multi_linked', 'connect_code',\n",
       "       'maximum_speed_limit', 'vehicle_restricted', 'weight_restricted',\n",
       "       'height_restricted', 'road_type', 'start_node_name', 'start_latitude',\n",
       "       'start_longitude', 'start_turn_restricted', 'end_node_name',\n",
       "       'end_latitude', 'end_longitude', 'end_turn_restricted', 'target',\n",
       "       'month', 'road_dist', 'max_avg_ratio', 'start-end', 'cluster'],\n",
       "      dtype='object')"
      ]
     },
     "execution_count": 58,
     "metadata": {},
     "output_type": "execute_result"
    }
   ],
   "source": [
    "train.columns"
   ]
  },
  {
   "cell_type": "markdown",
   "metadata": {},
   "source": [
    "### 시간대"
   ]
  },
  {
   "cell_type": "code",
   "execution_count": 59,
   "metadata": {},
   "outputs": [],
   "source": [
    "dic = {0:[2,3],1:[1,4],2:[0,5],3:[6,23],4:[7,22],5:[8,20,21],6:[9,10,19],7:[11,12,13,14,15,16],8:[17,18]}"
   ]
  },
  {
   "cell_type": "code",
   "execution_count": 60,
   "metadata": {},
   "outputs": [],
   "source": [
    "def hour_2_specific(h):\n",
    "    for k,lv in dic.items():\n",
    "        if h in lv:\n",
    "            return k"
   ]
  },
  {
   "cell_type": "code",
   "execution_count": 61,
   "metadata": {},
   "outputs": [],
   "source": [
    "train['hour'] = train['base_hour'].apply(hour_2_specific)\n",
    "test['hour'] = test['base_hour'].apply(hour_2_specific)"
   ]
  },
  {
   "cell_type": "markdown",
   "metadata": {},
   "source": [
    "## 변수 제거"
   ]
  },
  {
   "cell_type": "code",
   "execution_count": 62,
   "metadata": {},
   "outputs": [
    {
     "data": {
      "text/plain": [
       "Index(['id', 'base_date', 'day_of_week', 'base_hour', 'lane_count',\n",
       "       'road_rating', 'road_name', 'multi_linked', 'connect_code',\n",
       "       'maximum_speed_limit', 'vehicle_restricted', 'weight_restricted',\n",
       "       'height_restricted', 'road_type', 'start_node_name', 'start_latitude',\n",
       "       'start_longitude', 'start_turn_restricted', 'end_node_name',\n",
       "       'end_latitude', 'end_longitude', 'end_turn_restricted', 'target',\n",
       "       'month', 'road_dist', 'max_avg_ratio', 'start-end', 'cluster', 'hour'],\n",
       "      dtype='object')"
      ]
     },
     "execution_count": 62,
     "metadata": {},
     "output_type": "execute_result"
    }
   ],
   "source": [
    "train.columns"
   ]
  },
  {
   "cell_type": "code",
   "execution_count": 63,
   "metadata": {},
   "outputs": [],
   "source": [
    "del_feature = ['id','height_restricted','vehicle_restricted',\n",
    "               'start_node_name', 'start_latitude','start_longitude',\n",
    "               'end_node_name','end_latitude', 'end_longitude',\n",
    "               'multi_linked','month','base_hour','road_name']\n",
    "train.drop(del_feature, axis=1, inplace=True)\n",
    "test.drop(del_feature,axis=1,inplace=True)"
   ]
  },
  {
   "cell_type": "code",
   "execution_count": 66,
   "metadata": {},
   "outputs": [],
   "source": [
    "train.drop(['max_avg_ratio','start-end'],axis=1,inplace=True)\n",
    "test.drop(['start-end'],axis=1,inplace=True)"
   ]
  },
  {
   "cell_type": "markdown",
   "metadata": {},
   "source": [
    "# 모델링"
   ]
  },
  {
   "cell_type": "code",
   "execution_count": 50,
   "metadata": {},
   "outputs": [
    {
     "name": "stdout",
     "output_type": "stream",
     "text": [
      "Requirement already satisfied: catboost in c:\\users\\guswp\\anaconda3\\lib\\site-packages (1.0.6)\n",
      "Requirement already satisfied: plotly in c:\\users\\guswp\\anaconda3\\lib\\site-packages (from catboost) (5.6.0)\n",
      "Requirement already satisfied: pandas>=0.24.0 in c:\\users\\guswp\\anaconda3\\lib\\site-packages (from catboost) (1.4.2)\n",
      "Requirement already satisfied: six in c:\\users\\guswp\\anaconda3\\lib\\site-packages (from catboost) (1.16.0)\n",
      "Requirement already satisfied: matplotlib in c:\\users\\guswp\\anaconda3\\lib\\site-packages (from catboost) (3.5.1)\n",
      "Requirement already satisfied: scipy in c:\\users\\guswp\\anaconda3\\lib\\site-packages (from catboost) (1.7.3)\n",
      "Requirement already satisfied: graphviz in c:\\users\\guswp\\anaconda3\\lib\\site-packages (from catboost) (0.20.1)\n",
      "Requirement already satisfied: numpy>=1.16.0 in c:\\users\\guswp\\anaconda3\\lib\\site-packages (from catboost) (1.21.5)\n",
      "Requirement already satisfied: python-dateutil>=2.8.1 in c:\\users\\guswp\\anaconda3\\lib\\site-packages (from pandas>=0.24.0->catboost) (2.8.2)\n",
      "Requirement already satisfied: pytz>=2020.1 in c:\\users\\guswp\\anaconda3\\lib\\site-packages (from pandas>=0.24.0->catboost) (2021.3)\n",
      "Requirement already satisfied: packaging>=20.0 in c:\\users\\guswp\\anaconda3\\lib\\site-packages (from matplotlib->catboost) (21.3)\n",
      "Requirement already satisfied: kiwisolver>=1.0.1 in c:\\users\\guswp\\anaconda3\\lib\\site-packages (from matplotlib->catboost) (1.3.2)\n",
      "Requirement already satisfied: pillow>=6.2.0 in c:\\users\\guswp\\anaconda3\\lib\\site-packages (from matplotlib->catboost) (9.0.1)\n",
      "Requirement already satisfied: cycler>=0.10 in c:\\users\\guswp\\anaconda3\\lib\\site-packages (from matplotlib->catboost) (0.11.0)\n",
      "Requirement already satisfied: fonttools>=4.22.0 in c:\\users\\guswp\\anaconda3\\lib\\site-packages (from matplotlib->catboost) (4.25.0)\n",
      "Requirement already satisfied: pyparsing>=2.2.1 in c:\\users\\guswp\\anaconda3\\lib\\site-packages (from matplotlib->catboost) (3.0.4)\n",
      "Requirement already satisfied: tenacity>=6.2.0 in c:\\users\\guswp\\anaconda3\\lib\\site-packages (from plotly->catboost) (8.0.1)\n",
      "Note: you may need to restart the kernel to use updated packages.\n"
     ]
    }
   ],
   "source": [
    "pip install catboost"
   ]
  },
  {
   "cell_type": "code",
   "execution_count": 67,
   "metadata": {},
   "outputs": [
    {
     "name": "stdout",
     "output_type": "stream",
     "text": [
      "<class 'pandas.core.frame.DataFrame'>\n",
      "Int64Index: 4701217 entries, 0 to 4701216\n",
      "Data columns (total 14 columns):\n",
      " #   Column                 Dtype         \n",
      "---  ------                 -----         \n",
      " 0   base_date              datetime64[ns]\n",
      " 1   day_of_week            object        \n",
      " 2   lane_count             int64         \n",
      " 3   road_rating            int64         \n",
      " 4   connect_code           int64         \n",
      " 5   maximum_speed_limit    float64       \n",
      " 6   weight_restricted      float64       \n",
      " 7   road_type              int64         \n",
      " 8   start_turn_restricted  object        \n",
      " 9   end_turn_restricted    object        \n",
      " 10  target                 float64       \n",
      " 11  road_dist              float64       \n",
      " 12  cluster                int64         \n",
      " 13  hour                   int64         \n",
      "dtypes: datetime64[ns](1), float64(4), int64(6), object(3)\n",
      "memory usage: 538.0+ MB\n"
     ]
    }
   ],
   "source": [
    "train.info()"
   ]
  },
  {
   "cell_type": "code",
   "execution_count": 68,
   "metadata": {},
   "outputs": [],
   "source": [
    "train[['target']] = train[['target']].astype('int32')"
   ]
  },
  {
   "cell_type": "code",
   "execution_count": 69,
   "metadata": {},
   "outputs": [],
   "source": [
    "train[['maximum_speed_limit']] = train[['maximum_speed_limit']].astype('int16')\n",
    "test[['maximum_speed_limit']] = test[['maximum_speed_limit']].astype('int16')"
   ]
  },
  {
   "cell_type": "code",
   "execution_count": 70,
   "metadata": {},
   "outputs": [],
   "source": [
    "train[['weight_restricted']] = train[['weight_restricted']].astype('int32')\n",
    "test[['weight_restricted']] = test[['weight_restricted']].astype('int32')"
   ]
  },
  {
   "cell_type": "code",
   "execution_count": 71,
   "metadata": {},
   "outputs": [],
   "source": [
    "train.loc[train['connect_code']==103,'connect_code'] = 1\n",
    "test.loc[test['connect_code']==103,'connect_code'] = 1"
   ]
  },
  {
   "cell_type": "code",
   "execution_count": 72,
   "metadata": {},
   "outputs": [],
   "source": [
    "train.loc[train['road_type']==3,'road_type'] = 1\n",
    "test.loc[test['road_type']==3,'road_type'] = 1"
   ]
  },
  {
   "cell_type": "code",
   "execution_count": 73,
   "metadata": {},
   "outputs": [],
   "source": [
    "train.loc[train['start_turn_restricted']=='없음','start_turn_restricted'] = 0\n",
    "train.loc[train['start_turn_restricted']=='있음','start_turn_restricted'] = 1\n",
    "test.loc[test['start_turn_restricted']=='없음','start_turn_restricted'] = 0\n",
    "test.loc[test['start_turn_restricted']=='있음','start_turn_restricted'] = 1"
   ]
  },
  {
   "cell_type": "code",
   "execution_count": 74,
   "metadata": {},
   "outputs": [],
   "source": [
    "train.loc[train['end_turn_restricted']=='없음','end_turn_restricted'] = 0\n",
    "train.loc[train['end_turn_restricted']=='있음','end_turn_restricted'] = 1\n",
    "test.loc[test['end_turn_restricted']=='없음','end_turn_restricted'] = 0\n",
    "test.loc[test['end_turn_restricted']=='있음','end_turn_restricted'] = 1"
   ]
  },
  {
   "cell_type": "code",
   "execution_count": 75,
   "metadata": {},
   "outputs": [],
   "source": [
    "int_8 = ['connect_code','road_type','start_turn_restricted','end_turn_restricted','hour','lane_count','cluster']\n",
    "\n",
    "train[int_8] = train[int_8].astype('int8')\n",
    "test[int_8] = test[int_8].astype('int8')"
   ]
  },
  {
   "cell_type": "code",
   "execution_count": 77,
   "metadata": {},
   "outputs": [
    {
     "name": "stdout",
     "output_type": "stream",
     "text": [
      "<class 'pandas.core.frame.DataFrame'>\n",
      "Int64Index: 4701217 entries, 0 to 4701216\n",
      "Data columns (total 14 columns):\n",
      " #   Column                 Dtype         \n",
      "---  ------                 -----         \n",
      " 0   base_date              datetime64[ns]\n",
      " 1   day_of_week            object        \n",
      " 2   lane_count             int8          \n",
      " 3   road_rating            int64         \n",
      " 4   connect_code           int8          \n",
      " 5   maximum_speed_limit    int16         \n",
      " 6   weight_restricted      int32         \n",
      " 7   road_type              int8          \n",
      " 8   start_turn_restricted  int8          \n",
      " 9   end_turn_restricted    int8          \n",
      " 10  target                 int32         \n",
      " 11  road_dist              float64       \n",
      " 12  cluster                int8          \n",
      " 13  hour                   int8          \n",
      "dtypes: datetime64[ns](1), float64(1), int16(1), int32(2), int64(1), int8(7), object(1)\n",
      "memory usage: 255.6+ MB\n"
     ]
    }
   ],
   "source": [
    "train.info()"
   ]
  },
  {
   "cell_type": "code",
   "execution_count": 78,
   "metadata": {},
   "outputs": [],
   "source": [
    "# 범주형 변수\n",
    "categori_columns = ['day_of_week','road_rating',\n",
    "                    'weight_restricted','road_type']\n",
    "\n",
    "train[categori_columns] = train[categori_columns].astype('category')\n",
    "test[categori_columns] = test[categori_columns].astype('category')"
   ]
  },
  {
   "cell_type": "code",
   "execution_count": 79,
   "metadata": {},
   "outputs": [
    {
     "name": "stdout",
     "output_type": "stream",
     "text": [
      "<class 'pandas.core.frame.DataFrame'>\n",
      "Int64Index: 4701217 entries, 0 to 4701216\n",
      "Data columns (total 14 columns):\n",
      " #   Column                 Dtype         \n",
      "---  ------                 -----         \n",
      " 0   base_date              datetime64[ns]\n",
      " 1   day_of_week            category      \n",
      " 2   lane_count             int8          \n",
      " 3   road_rating            category      \n",
      " 4   connect_code           int8          \n",
      " 5   maximum_speed_limit    int16         \n",
      " 6   weight_restricted      category      \n",
      " 7   road_type              category      \n",
      " 8   start_turn_restricted  int8          \n",
      " 9   end_turn_restricted    int8          \n",
      " 10  target                 int32         \n",
      " 11  road_dist              float64       \n",
      " 12  cluster                int8          \n",
      " 13  hour                   int8          \n",
      "dtypes: category(4), datetime64[ns](1), float64(1), int16(1), int32(1), int8(6)\n",
      "memory usage: 179.3 MB\n"
     ]
    }
   ],
   "source": [
    "train.info()"
   ]
  },
  {
   "cell_type": "markdown",
   "metadata": {},
   "source": [
    "## cluster == 0"
   ]
  },
  {
   "cell_type": "code",
   "execution_count": 80,
   "metadata": {},
   "outputs": [],
   "source": [
    "from sklearn.model_selection import train_test_split\n",
    "from catboost import CatBoostRegressor\n",
    "train1 = train.loc[train['cluster']==0,:].copy()\n",
    "x_train,x_test,y_train,y_test  = train_test_split(train1.drop(['target','base_date'],axis=1),train1['target'],\n",
    "                                                  test_size=0.3,stratify=train1[categori_columns])"
   ]
  },
  {
   "cell_type": "code",
   "execution_count": 82,
   "metadata": {},
   "outputs": [
    {
     "name": "stdout",
     "output_type": "stream",
     "text": [
      "0:\tlearn: 7.3940258\ttest: 7.3900744\tbest: 7.3900744 (0)\ttotal: 836ms\tremaining: 13m 55s\n",
      "50:\tlearn: 5.4437814\ttest: 5.4350060\tbest: 5.4350060 (50)\ttotal: 35.2s\tremaining: 10m 55s\n",
      "100:\tlearn: 5.2734619\ttest: 5.2648814\tbest: 5.2648814 (100)\ttotal: 1m 6s\tremaining: 9m 52s\n",
      "150:\tlearn: 5.2051177\ttest: 5.1977467\tbest: 5.1977467 (150)\ttotal: 1m 34s\tremaining: 8m 50s\n",
      "200:\tlearn: 5.1529278\ttest: 5.1466444\tbest: 5.1466444 (200)\ttotal: 2m 2s\tremaining: 8m 6s\n",
      "250:\tlearn: 5.1198142\ttest: 5.1133348\tbest: 5.1133348 (250)\ttotal: 2m 29s\tremaining: 7m 25s\n",
      "300:\tlearn: 5.0832002\ttest: 5.0762894\tbest: 5.0762894 (300)\ttotal: 2m 56s\tremaining: 6m 50s\n",
      "350:\tlearn: 5.0438325\ttest: 5.0369346\tbest: 5.0369346 (350)\ttotal: 3m 27s\tremaining: 6m 24s\n",
      "400:\tlearn: 5.0221356\ttest: 5.0158221\tbest: 5.0158221 (400)\ttotal: 3m 56s\tremaining: 5m 53s\n",
      "450:\tlearn: 5.0137299\ttest: 5.0077950\tbest: 5.0077950 (450)\ttotal: 4m 22s\tremaining: 5m 19s\n",
      "500:\tlearn: 5.0079462\ttest: 5.0022813\tbest: 5.0022813 (500)\ttotal: 4m 48s\tremaining: 4m 47s\n",
      "550:\tlearn: 4.9865036\ttest: 4.9812072\tbest: 4.9812072 (550)\ttotal: 5m 18s\tremaining: 4m 19s\n",
      "600:\tlearn: 4.9677203\ttest: 4.9627164\tbest: 4.9627164 (600)\ttotal: 5m 50s\tremaining: 3m 52s\n",
      "650:\tlearn: 4.9577054\ttest: 4.9528448\tbest: 4.9528448 (650)\ttotal: 6m 19s\tremaining: 3m 23s\n",
      "700:\tlearn: 4.9550452\ttest: 4.9502606\tbest: 4.9502606 (700)\ttotal: 6m 44s\tremaining: 2m 52s\n",
      "750:\tlearn: 4.9504806\ttest: 4.9459297\tbest: 4.9459297 (750)\ttotal: 7m 11s\tremaining: 2m 23s\n",
      "800:\tlearn: 4.9469048\ttest: 4.9421794\tbest: 4.9421794 (800)\ttotal: 7m 36s\tremaining: 1m 53s\n",
      "850:\tlearn: 4.9436242\ttest: 4.9391047\tbest: 4.9391047 (850)\ttotal: 8m 5s\tremaining: 1m 24s\n",
      "900:\tlearn: 4.9400200\ttest: 4.9357875\tbest: 4.9357875 (900)\ttotal: 8m 31s\tremaining: 56.1s\n",
      "950:\tlearn: 4.9394549\ttest: 4.9353422\tbest: 4.9353420 (949)\ttotal: 8m 52s\tremaining: 27.4s\n",
      "999:\tlearn: 4.9376769\ttest: 4.9338691\tbest: 4.9338691 (999)\ttotal: 9m 18s\tremaining: 0us\n",
      "\n",
      "bestTest = 4.933869089\n",
      "bestIteration = 999\n",
      "\n"
     ]
    },
    {
     "data": {
      "text/plain": [
       "<catboost.core.CatBoostRegressor at 0x1f9d3f6ff70>"
      ]
     },
     "execution_count": 82,
     "metadata": {},
     "output_type": "execute_result"
    }
   ],
   "source": [
    "model1 = CatBoostRegressor(n_estimators = 1000,learning_rate=0.1,\n",
    "                          max_depth = 8,\n",
    "                          loss_function='MAE',eval_metric = 'MAE')\n",
    "model1.fit(x_train,y_train,\n",
    "         eval_set=(x_test,y_test),\n",
    "         early_stopping_rounds=30,\n",
    "         cat_features = categori_columns,\n",
    "          verbose=50)"
   ]
  },
  {
   "cell_type": "code",
   "execution_count": 83,
   "metadata": {},
   "outputs": [
    {
     "name": "stdout",
     "output_type": "stream",
     "text": [
      "Score:  0.5249246991694738\n"
     ]
    }
   ],
   "source": [
    "print('Score: ',model1.score(x_test,y_test))"
   ]
  },
  {
   "cell_type": "markdown",
   "metadata": {},
   "source": [
    "## cluster == 1"
   ]
  },
  {
   "cell_type": "code",
   "execution_count": 84,
   "metadata": {},
   "outputs": [],
   "source": [
    "train2 = train.loc[train['cluster']==1,:].copy()\n",
    "x_train,x_test,y_train,y_test  = train_test_split(train2.drop(['target','base_date'],axis=1),train2['target'],\n",
    "                                                  test_size=0.3,stratify=train2[categori_columns])"
   ]
  },
  {
   "cell_type": "code",
   "execution_count": 85,
   "metadata": {},
   "outputs": [
    {
     "name": "stdout",
     "output_type": "stream",
     "text": [
      "0:\tlearn: 11.6211632\ttest: 11.6100094\tbest: 11.6100094 (0)\ttotal: 4.89s\tremaining: 2h 43m 5s\n",
      "50:\tlearn: 6.7572706\ttest: 6.7579220\tbest: 6.7579220 (50)\ttotal: 1m 26s\tremaining: 55m 11s\n",
      "100:\tlearn: 6.2375396\ttest: 6.2378713\tbest: 6.2378713 (100)\ttotal: 2m 25s\tremaining: 45m 32s\n",
      "150:\tlearn: 5.9221168\ttest: 5.9225378\tbest: 5.9225378 (150)\ttotal: 3m 24s\tremaining: 41m 42s\n",
      "200:\tlearn: 5.6789822\ttest: 5.6790893\tbest: 5.6790893 (200)\ttotal: 4m 24s\tremaining: 39m 29s\n",
      "250:\tlearn: 5.4992835\ttest: 5.4992273\tbest: 5.4992273 (250)\ttotal: 5m 24s\tremaining: 37m 44s\n",
      "300:\tlearn: 5.3698682\ttest: 5.3697831\tbest: 5.3697831 (300)\ttotal: 6m 25s\tremaining: 36m 17s\n",
      "350:\tlearn: 5.2800299\ttest: 5.2799151\tbest: 5.2799151 (350)\ttotal: 7m 28s\tremaining: 35m 5s\n",
      "400:\tlearn: 5.1883048\ttest: 5.1884954\tbest: 5.1884954 (400)\ttotal: 8m 28s\tremaining: 33m 49s\n",
      "450:\tlearn: 5.1168773\ttest: 5.1174153\tbest: 5.1174153 (450)\ttotal: 9m 26s\tremaining: 32m 26s\n",
      "500:\tlearn: 5.0506225\ttest: 5.0515180\tbest: 5.0515180 (500)\ttotal: 10m 25s\tremaining: 31m 10s\n",
      "550:\tlearn: 5.0009918\ttest: 5.0025810\tbest: 5.0025810 (550)\ttotal: 11m 21s\tremaining: 29m 53s\n",
      "600:\tlearn: 4.9566151\ttest: 4.9584072\tbest: 4.9584072 (600)\ttotal: 12m 16s\tremaining: 28m 35s\n",
      "650:\tlearn: 4.9208321\ttest: 4.9226496\tbest: 4.9226496 (650)\ttotal: 13m 13s\tremaining: 27m 23s\n",
      "700:\tlearn: 4.8887676\ttest: 4.8905890\tbest: 4.8905890 (700)\ttotal: 14m 8s\tremaining: 26m 12s\n",
      "750:\tlearn: 4.8672177\ttest: 4.8693718\tbest: 4.8693718 (750)\ttotal: 15m 5s\tremaining: 25m 6s\n",
      "800:\tlearn: 4.8468704\ttest: 4.8493143\tbest: 4.8493143 (800)\ttotal: 16m 3s\tremaining: 24m 2s\n",
      "850:\tlearn: 4.8309410\ttest: 4.8334927\tbest: 4.8334927 (850)\ttotal: 17m 1s\tremaining: 22m 59s\n",
      "900:\tlearn: 4.8134497\ttest: 4.8163371\tbest: 4.8163371 (900)\ttotal: 17m 58s\tremaining: 21m 55s\n",
      "950:\tlearn: 4.7976364\ttest: 4.8009574\tbest: 4.8009574 (950)\ttotal: 18m 55s\tremaining: 20m 52s\n",
      "1000:\tlearn: 4.7859071\ttest: 4.7895467\tbest: 4.7895467 (1000)\ttotal: 19m 51s\tremaining: 19m 48s\n",
      "1050:\tlearn: 4.7738231\ttest: 4.7774493\tbest: 4.7774493 (1050)\ttotal: 20m 48s\tremaining: 18m 47s\n",
      "1100:\tlearn: 4.7637165\ttest: 4.7678285\tbest: 4.7678285 (1100)\ttotal: 21m 46s\tremaining: 17m 46s\n",
      "1150:\tlearn: 4.7563495\ttest: 4.7607130\tbest: 4.7607130 (1150)\ttotal: 22m 41s\tremaining: 16m 44s\n",
      "1200:\tlearn: 4.7489390\ttest: 4.7536426\tbest: 4.7536426 (1200)\ttotal: 23m 37s\tremaining: 15m 43s\n",
      "1250:\tlearn: 4.7427996\ttest: 4.7479239\tbest: 4.7479239 (1250)\ttotal: 24m 38s\tremaining: 14m 45s\n",
      "1300:\tlearn: 4.7374273\ttest: 4.7429705\tbest: 4.7429705 (1300)\ttotal: 25m 37s\tremaining: 13m 46s\n",
      "1350:\tlearn: 4.7326829\ttest: 4.7385412\tbest: 4.7385412 (1350)\ttotal: 26m 33s\tremaining: 12m 45s\n",
      "1400:\tlearn: 4.7293630\ttest: 4.7353787\tbest: 4.7353787 (1400)\ttotal: 27m 27s\tremaining: 11m 44s\n",
      "1450:\tlearn: 4.7268512\ttest: 4.7329758\tbest: 4.7329758 (1450)\ttotal: 28m 20s\tremaining: 10m 44s\n",
      "1500:\tlearn: 4.7240042\ttest: 4.7302624\tbest: 4.7302624 (1500)\ttotal: 29m 18s\tremaining: 9m 44s\n",
      "1550:\tlearn: 4.7207648\ttest: 4.7271774\tbest: 4.7271774 (1550)\ttotal: 30m 14s\tremaining: 8m 45s\n",
      "1600:\tlearn: 4.7184825\ttest: 4.7250162\tbest: 4.7250162 (1600)\ttotal: 31m 7s\tremaining: 7m 45s\n",
      "1650:\tlearn: 4.7161125\ttest: 4.7227896\tbest: 4.7227896 (1650)\ttotal: 32m 4s\tremaining: 6m 47s\n",
      "1700:\tlearn: 4.7133633\ttest: 4.7201607\tbest: 4.7201607 (1700)\ttotal: 33m 6s\tremaining: 5m 49s\n",
      "1750:\tlearn: 4.7111803\ttest: 4.7181068\tbest: 4.7181068 (1750)\ttotal: 34m 3s\tremaining: 4m 50s\n",
      "1800:\tlearn: 4.7096446\ttest: 4.7166489\tbest: 4.7166489 (1800)\ttotal: 34m 57s\tremaining: 3m 51s\n",
      "1850:\tlearn: 4.7081134\ttest: 4.7152264\tbest: 4.7152264 (1850)\ttotal: 35m 54s\tremaining: 2m 53s\n",
      "1900:\tlearn: 4.7063101\ttest: 4.7135843\tbest: 4.7135843 (1900)\ttotal: 36m 51s\tremaining: 1m 55s\n",
      "1950:\tlearn: 4.7034010\ttest: 4.7108857\tbest: 4.7108857 (1950)\ttotal: 37m 52s\tremaining: 57.1s\n",
      "1999:\tlearn: 4.7017120\ttest: 4.7093504\tbest: 4.7093504 (1999)\ttotal: 38m 48s\tremaining: 0us\n",
      "\n",
      "bestTest = 4.709350437\n",
      "bestIteration = 1999\n",
      "\n"
     ]
    },
    {
     "data": {
      "text/plain": [
       "<catboost.core.CatBoostRegressor at 0x1f9c9a92f70>"
      ]
     },
     "execution_count": 85,
     "metadata": {},
     "output_type": "execute_result"
    }
   ],
   "source": [
    "model2 = CatBoostRegressor(n_estimators = 2000,learning_rate=0.05,\n",
    "                          max_depth = 8,\n",
    "                          loss_function='MAE',eval_metric = 'MAE')\n",
    "model2.fit(x_train,y_train,\n",
    "         eval_set=(x_test,y_test),\n",
    "         early_stopping_rounds=30,\n",
    "         cat_features = categori_columns,\n",
    "          verbose=50)"
   ]
  },
  {
   "cell_type": "code",
   "execution_count": 87,
   "metadata": {},
   "outputs": [
    {
     "name": "stdout",
     "output_type": "stream",
     "text": [
      "Score:  0.8039740445216113\n"
     ]
    }
   ],
   "source": [
    "print('Score: ',model2.score(x_test,y_test))"
   ]
  },
  {
   "cell_type": "markdown",
   "metadata": {},
   "source": [
    "## cluster == 2"
   ]
  },
  {
   "cell_type": "code",
   "execution_count": 93,
   "metadata": {},
   "outputs": [
    {
     "data": {
      "text/plain": [
       "(351061, 14)"
      ]
     },
     "execution_count": 93,
     "metadata": {},
     "output_type": "execute_result"
    }
   ],
   "source": [
    "train3.shape"
   ]
  },
  {
   "cell_type": "code",
   "execution_count": 88,
   "metadata": {},
   "outputs": [],
   "source": [
    "train3 = train.loc[train['cluster']==2,:].copy()\n",
    "x_train,x_test,y_train,y_test  = train_test_split(train3.drop(['target','base_date'],axis=1),train3['target'],\n",
    "                                                  test_size=0.3,stratify=train3[categori_columns])"
   ]
  },
  {
   "cell_type": "code",
   "execution_count": 89,
   "metadata": {},
   "outputs": [
    {
     "name": "stdout",
     "output_type": "stream",
     "text": [
      "0:\tlearn: 9.8445941\ttest: 9.8406317\tbest: 9.8406317 (0)\ttotal: 212ms\tremaining: 10m 36s\n",
      "50:\tlearn: 5.3614226\ttest: 5.3530926\tbest: 5.3530926 (50)\ttotal: 7.12s\tremaining: 6m 51s\n",
      "100:\tlearn: 4.2206370\ttest: 4.2109579\tbest: 4.2109579 (100)\ttotal: 14s\tremaining: 6m 43s\n",
      "150:\tlearn: 3.9254743\ttest: 3.9169154\tbest: 3.9169154 (150)\ttotal: 21.6s\tremaining: 6m 46s\n",
      "200:\tlearn: 3.8367458\ttest: 3.8290767\tbest: 3.8290767 (200)\ttotal: 29.5s\tremaining: 6m 50s\n",
      "250:\tlearn: 3.8054061\ttest: 3.7979025\tbest: 3.7979025 (250)\ttotal: 37s\tremaining: 6m 45s\n",
      "300:\tlearn: 3.7897411\ttest: 3.7828221\tbest: 3.7828221 (300)\ttotal: 44.5s\tremaining: 6m 39s\n",
      "350:\tlearn: 3.7785479\ttest: 3.7721887\tbest: 3.7721887 (350)\ttotal: 51.9s\tremaining: 6m 31s\n",
      "400:\tlearn: 3.7707430\ttest: 3.7651500\tbest: 3.7651500 (400)\ttotal: 58.8s\tremaining: 6m 21s\n",
      "450:\tlearn: 3.7655813\ttest: 3.7604212\tbest: 3.7604212 (450)\ttotal: 1m 5s\tremaining: 6m 8s\n",
      "500:\tlearn: 3.7609845\ttest: 3.7562583\tbest: 3.7562583 (500)\ttotal: 1m 11s\tremaining: 5m 58s\n",
      "550:\tlearn: 3.7565602\ttest: 3.7524579\tbest: 3.7524579 (550)\ttotal: 1m 18s\tremaining: 5m 50s\n",
      "600:\tlearn: 3.7533091\ttest: 3.7498868\tbest: 3.7498868 (600)\ttotal: 1m 25s\tremaining: 5m 41s\n",
      "650:\tlearn: 3.7503832\ttest: 3.7478689\tbest: 3.7478689 (650)\ttotal: 1m 33s\tremaining: 5m 36s\n",
      "700:\tlearn: 3.7473090\ttest: 3.7457666\tbest: 3.7457666 (700)\ttotal: 1m 40s\tremaining: 5m 30s\n",
      "750:\tlearn: 3.7452830\ttest: 3.7444968\tbest: 3.7444968 (750)\ttotal: 1m 47s\tremaining: 5m 23s\n",
      "800:\tlearn: 3.7436085\ttest: 3.7434199\tbest: 3.7434199 (800)\ttotal: 1m 55s\tremaining: 5m 16s\n",
      "850:\tlearn: 3.7421970\ttest: 3.7425658\tbest: 3.7425658 (850)\ttotal: 2m 2s\tremaining: 5m 8s\n",
      "900:\tlearn: 3.7408892\ttest: 3.7417612\tbest: 3.7417612 (900)\ttotal: 2m 9s\tremaining: 5m 1s\n",
      "950:\tlearn: 3.7397803\ttest: 3.7410496\tbest: 3.7410496 (950)\ttotal: 2m 16s\tremaining: 4m 53s\n",
      "1000:\tlearn: 3.7388616\ttest: 3.7405178\tbest: 3.7405178 (1000)\ttotal: 2m 23s\tremaining: 4m 46s\n",
      "1050:\tlearn: 3.7378339\ttest: 3.7399689\tbest: 3.7399689 (1050)\ttotal: 2m 30s\tremaining: 4m 39s\n",
      "1100:\tlearn: 3.7367251\ttest: 3.7392135\tbest: 3.7392135 (1100)\ttotal: 2m 37s\tremaining: 4m 32s\n",
      "1150:\tlearn: 3.7357627\ttest: 3.7386454\tbest: 3.7386454 (1150)\ttotal: 2m 44s\tremaining: 4m 24s\n",
      "1200:\tlearn: 3.7349474\ttest: 3.7382235\tbest: 3.7382235 (1200)\ttotal: 2m 51s\tremaining: 4m 17s\n",
      "1250:\tlearn: 3.7341755\ttest: 3.7378994\tbest: 3.7378951 (1248)\ttotal: 2m 59s\tremaining: 4m 10s\n",
      "1300:\tlearn: 3.7335762\ttest: 3.7375675\tbest: 3.7375675 (1300)\ttotal: 3m 6s\tremaining: 4m 3s\n",
      "1350:\tlearn: 3.7330586\ttest: 3.7373047\tbest: 3.7373047 (1350)\ttotal: 3m 13s\tremaining: 3m 55s\n",
      "1400:\tlearn: 3.7326815\ttest: 3.7371140\tbest: 3.7371140 (1400)\ttotal: 3m 20s\tremaining: 3m 48s\n",
      "1450:\tlearn: 3.7323024\ttest: 3.7369769\tbest: 3.7369769 (1450)\ttotal: 3m 27s\tremaining: 3m 41s\n",
      "1500:\tlearn: 3.7317972\ttest: 3.7367596\tbest: 3.7367596 (1500)\ttotal: 3m 34s\tremaining: 3m 34s\n",
      "1550:\tlearn: 3.7312810\ttest: 3.7365267\tbest: 3.7365250 (1549)\ttotal: 3m 41s\tremaining: 3m 26s\n",
      "1600:\tlearn: 3.7307312\ttest: 3.7362966\tbest: 3.7362966 (1600)\ttotal: 3m 47s\tremaining: 3m 19s\n",
      "1650:\tlearn: 3.7303857\ttest: 3.7361817\tbest: 3.7361817 (1650)\ttotal: 3m 54s\tremaining: 3m 11s\n",
      "1700:\tlearn: 3.7299793\ttest: 3.7359850\tbest: 3.7359848 (1698)\ttotal: 4m 1s\tremaining: 3m 4s\n",
      "1750:\tlearn: 3.7295869\ttest: 3.7357714\tbest: 3.7357714 (1750)\ttotal: 4m 8s\tremaining: 2m 57s\n",
      "1800:\tlearn: 3.7292570\ttest: 3.7356306\tbest: 3.7356306 (1800)\ttotal: 4m 15s\tremaining: 2m 50s\n",
      "1850:\tlearn: 3.7289485\ttest: 3.7355000\tbest: 3.7355000 (1850)\ttotal: 4m 22s\tremaining: 2m 42s\n",
      "1900:\tlearn: 3.7285586\ttest: 3.7353372\tbest: 3.7353372 (1900)\ttotal: 4m 29s\tremaining: 2m 35s\n",
      "1950:\tlearn: 3.7283632\ttest: 3.7352701\tbest: 3.7352661 (1942)\ttotal: 4m 35s\tremaining: 2m 28s\n",
      "2000:\tlearn: 3.7281648\ttest: 3.7351831\tbest: 3.7351831 (2000)\ttotal: 4m 42s\tremaining: 2m 20s\n",
      "2050:\tlearn: 3.7278660\ttest: 3.7351365\tbest: 3.7351341 (2048)\ttotal: 4m 48s\tremaining: 2m 13s\n",
      "2100:\tlearn: 3.7275700\ttest: 3.7350275\tbest: 3.7350244 (2097)\ttotal: 4m 55s\tremaining: 2m 6s\n",
      "2150:\tlearn: 3.7273254\ttest: 3.7349836\tbest: 3.7349814 (2149)\ttotal: 5m 2s\tremaining: 1m 59s\n",
      "2200:\tlearn: 3.7271375\ttest: 3.7349534\tbest: 3.7349509 (2194)\ttotal: 5m 8s\tremaining: 1m 52s\n",
      "2250:\tlearn: 3.7269068\ttest: 3.7348517\tbest: 3.7348460 (2245)\ttotal: 5m 15s\tremaining: 1m 44s\n",
      "2300:\tlearn: 3.7266596\ttest: 3.7348013\tbest: 3.7348013 (2300)\ttotal: 5m 22s\tremaining: 1m 37s\n",
      "2350:\tlearn: 3.7264236\ttest: 3.7347570\tbest: 3.7347544 (2339)\ttotal: 5m 29s\tremaining: 1m 30s\n",
      "2400:\tlearn: 3.7262763\ttest: 3.7347125\tbest: 3.7347115 (2398)\ttotal: 5m 35s\tremaining: 1m 23s\n",
      "2450:\tlearn: 3.7261145\ttest: 3.7346657\tbest: 3.7346657 (2450)\ttotal: 5m 42s\tremaining: 1m 16s\n",
      "2500:\tlearn: 3.7259200\ttest: 3.7346150\tbest: 3.7346150 (2500)\ttotal: 5m 49s\tremaining: 1m 9s\n",
      "2550:\tlearn: 3.7257427\ttest: 3.7345555\tbest: 3.7345555 (2550)\ttotal: 5m 56s\tremaining: 1m 2s\n",
      "2600:\tlearn: 3.7256007\ttest: 3.7345176\tbest: 3.7345170 (2599)\ttotal: 6m 3s\tremaining: 55.8s\n",
      "2650:\tlearn: 3.7254794\ttest: 3.7344696\tbest: 3.7344696 (2650)\ttotal: 6m 10s\tremaining: 48.8s\n",
      "2700:\tlearn: 3.7253382\ttest: 3.7344028\tbest: 3.7344028 (2700)\ttotal: 6m 18s\tremaining: 41.9s\n",
      "2750:\tlearn: 3.7251343\ttest: 3.7343298\tbest: 3.7343298 (2750)\ttotal: 6m 25s\tremaining: 34.9s\n",
      "2800:\tlearn: 3.7248000\ttest: 3.7342033\tbest: 3.7342033 (2800)\ttotal: 6m 31s\tremaining: 27.8s\n",
      "2850:\tlearn: 3.7245730\ttest: 3.7341450\tbest: 3.7341444 (2849)\ttotal: 6m 38s\tremaining: 20.8s\n",
      "2900:\tlearn: 3.7242931\ttest: 3.7340513\tbest: 3.7340513 (2900)\ttotal: 6m 45s\tremaining: 13.8s\n",
      "2950:\tlearn: 3.7241004\ttest: 3.7340158\tbest: 3.7340064 (2936)\ttotal: 6m 52s\tremaining: 6.85s\n",
      "Stopped by overfitting detector  (30 iterations wait)\n",
      "\n",
      "bestTest = 3.734006435\n",
      "bestIteration = 2936\n",
      "\n",
      "Shrink model to first 2937 iterations.\n"
     ]
    },
    {
     "data": {
      "text/plain": [
       "<catboost.core.CatBoostRegressor at 0x1f9d3f94af0>"
      ]
     },
     "execution_count": 89,
     "metadata": {},
     "output_type": "execute_result"
    }
   ],
   "source": [
    "model3 = CatBoostRegressor(n_estimators = 3000,learning_rate=0.02,\n",
    "                          max_depth = 8,\n",
    "                          loss_function='MAE',eval_metric = 'MAE')\n",
    "model3.fit(x_train,y_train,\n",
    "         eval_set=(x_test,y_test),\n",
    "         early_stopping_rounds=30,\n",
    "         cat_features = categori_columns,\n",
    "          verbose=50)"
   ]
  },
  {
   "cell_type": "code",
   "execution_count": 90,
   "metadata": {},
   "outputs": [
    {
     "name": "stdout",
     "output_type": "stream",
     "text": [
      "Score:  0.8166257930263162\n"
     ]
    }
   ],
   "source": [
    "print('Score: ',model3.score(x_test,y_test))"
   ]
  },
  {
   "cell_type": "code",
   "execution_count": 98,
   "metadata": {},
   "outputs": [
    {
     "data": {
      "text/html": [
       "<div>\n",
       "<style scoped>\n",
       "    .dataframe tbody tr th:only-of-type {\n",
       "        vertical-align: middle;\n",
       "    }\n",
       "\n",
       "    .dataframe tbody tr th {\n",
       "        vertical-align: top;\n",
       "    }\n",
       "\n",
       "    .dataframe thead th {\n",
       "        text-align: right;\n",
       "    }\n",
       "</style>\n",
       "<table border=\"1\" class=\"dataframe\">\n",
       "  <thead>\n",
       "    <tr style=\"text-align: right;\">\n",
       "      <th></th>\n",
       "      <th>day_of_week</th>\n",
       "      <th>lane_count</th>\n",
       "      <th>road_rating</th>\n",
       "      <th>connect_code</th>\n",
       "      <th>maximum_speed_limit</th>\n",
       "      <th>weight_restricted</th>\n",
       "      <th>road_type</th>\n",
       "      <th>start_turn_restricted</th>\n",
       "      <th>end_turn_restricted</th>\n",
       "      <th>road_dist</th>\n",
       "      <th>cluster</th>\n",
       "      <th>hour</th>\n",
       "    </tr>\n",
       "  </thead>\n",
       "  <tbody>\n",
       "    <tr>\n",
       "      <th>0</th>\n",
       "      <td>월~목</td>\n",
       "      <td>3</td>\n",
       "      <td>107</td>\n",
       "      <td>0</td>\n",
       "      <td>70</td>\n",
       "      <td>0</td>\n",
       "      <td>0</td>\n",
       "      <td>0</td>\n",
       "      <td>1</td>\n",
       "      <td>0.278927</td>\n",
       "      <td>0</td>\n",
       "      <td>8</td>\n",
       "    </tr>\n",
       "    <tr>\n",
       "      <th>1</th>\n",
       "      <td>월~목</td>\n",
       "      <td>3</td>\n",
       "      <td>107</td>\n",
       "      <td>0</td>\n",
       "      <td>70</td>\n",
       "      <td>0</td>\n",
       "      <td>0</td>\n",
       "      <td>1</td>\n",
       "      <td>0</td>\n",
       "      <td>0.278927</td>\n",
       "      <td>0</td>\n",
       "      <td>2</td>\n",
       "    </tr>\n",
       "    <tr>\n",
       "      <th>2</th>\n",
       "      <td>월~목</td>\n",
       "      <td>3</td>\n",
       "      <td>107</td>\n",
       "      <td>0</td>\n",
       "      <td>70</td>\n",
       "      <td>0</td>\n",
       "      <td>0</td>\n",
       "      <td>0</td>\n",
       "      <td>1</td>\n",
       "      <td>0.278927</td>\n",
       "      <td>0</td>\n",
       "      <td>7</td>\n",
       "    </tr>\n",
       "    <tr>\n",
       "      <th>3</th>\n",
       "      <td>금</td>\n",
       "      <td>3</td>\n",
       "      <td>107</td>\n",
       "      <td>0</td>\n",
       "      <td>70</td>\n",
       "      <td>0</td>\n",
       "      <td>0</td>\n",
       "      <td>0</td>\n",
       "      <td>1</td>\n",
       "      <td>0.278927</td>\n",
       "      <td>0</td>\n",
       "      <td>3</td>\n",
       "    </tr>\n",
       "    <tr>\n",
       "      <th>4</th>\n",
       "      <td>월~목</td>\n",
       "      <td>3</td>\n",
       "      <td>107</td>\n",
       "      <td>0</td>\n",
       "      <td>70</td>\n",
       "      <td>0</td>\n",
       "      <td>0</td>\n",
       "      <td>1</td>\n",
       "      <td>0</td>\n",
       "      <td>0.278927</td>\n",
       "      <td>0</td>\n",
       "      <td>6</td>\n",
       "    </tr>\n",
       "    <tr>\n",
       "      <th>...</th>\n",
       "      <td>...</td>\n",
       "      <td>...</td>\n",
       "      <td>...</td>\n",
       "      <td>...</td>\n",
       "      <td>...</td>\n",
       "      <td>...</td>\n",
       "      <td>...</td>\n",
       "      <td>...</td>\n",
       "      <td>...</td>\n",
       "      <td>...</td>\n",
       "      <td>...</td>\n",
       "      <td>...</td>\n",
       "    </tr>\n",
       "    <tr>\n",
       "      <th>290282</th>\n",
       "      <td>월~목</td>\n",
       "      <td>2</td>\n",
       "      <td>107</td>\n",
       "      <td>0</td>\n",
       "      <td>60</td>\n",
       "      <td>0</td>\n",
       "      <td>0</td>\n",
       "      <td>0</td>\n",
       "      <td>0</td>\n",
       "      <td>0.146448</td>\n",
       "      <td>0</td>\n",
       "      <td>7</td>\n",
       "    </tr>\n",
       "    <tr>\n",
       "      <th>290283</th>\n",
       "      <td>월~목</td>\n",
       "      <td>2</td>\n",
       "      <td>107</td>\n",
       "      <td>0</td>\n",
       "      <td>60</td>\n",
       "      <td>0</td>\n",
       "      <td>0</td>\n",
       "      <td>0</td>\n",
       "      <td>0</td>\n",
       "      <td>0.146448</td>\n",
       "      <td>0</td>\n",
       "      <td>7</td>\n",
       "    </tr>\n",
       "    <tr>\n",
       "      <th>290284</th>\n",
       "      <td>금</td>\n",
       "      <td>2</td>\n",
       "      <td>107</td>\n",
       "      <td>0</td>\n",
       "      <td>60</td>\n",
       "      <td>0</td>\n",
       "      <td>0</td>\n",
       "      <td>0</td>\n",
       "      <td>0</td>\n",
       "      <td>0.146448</td>\n",
       "      <td>0</td>\n",
       "      <td>5</td>\n",
       "    </tr>\n",
       "    <tr>\n",
       "      <th>290285</th>\n",
       "      <td>월~목</td>\n",
       "      <td>2</td>\n",
       "      <td>107</td>\n",
       "      <td>0</td>\n",
       "      <td>60</td>\n",
       "      <td>0</td>\n",
       "      <td>0</td>\n",
       "      <td>0</td>\n",
       "      <td>0</td>\n",
       "      <td>0.146448</td>\n",
       "      <td>0</td>\n",
       "      <td>3</td>\n",
       "    </tr>\n",
       "    <tr>\n",
       "      <th>290286</th>\n",
       "      <td>주말</td>\n",
       "      <td>2</td>\n",
       "      <td>107</td>\n",
       "      <td>0</td>\n",
       "      <td>60</td>\n",
       "      <td>0</td>\n",
       "      <td>0</td>\n",
       "      <td>0</td>\n",
       "      <td>0</td>\n",
       "      <td>0.146448</td>\n",
       "      <td>0</td>\n",
       "      <td>8</td>\n",
       "    </tr>\n",
       "  </tbody>\n",
       "</table>\n",
       "<p>85531 rows × 12 columns</p>\n",
       "</div>"
      ],
      "text/plain": [
       "       day_of_week  lane_count road_rating  connect_code  maximum_speed_limit  \\\n",
       "0              월~목           3         107             0                   70   \n",
       "1              월~목           3         107             0                   70   \n",
       "2              월~목           3         107             0                   70   \n",
       "3                금           3         107             0                   70   \n",
       "4              월~목           3         107             0                   70   \n",
       "...            ...         ...         ...           ...                  ...   \n",
       "290282         월~목           2         107             0                   60   \n",
       "290283         월~목           2         107             0                   60   \n",
       "290284           금           2         107             0                   60   \n",
       "290285         월~목           2         107             0                   60   \n",
       "290286          주말           2         107             0                   60   \n",
       "\n",
       "       weight_restricted road_type  start_turn_restricted  \\\n",
       "0                      0         0                      0   \n",
       "1                      0         0                      1   \n",
       "2                      0         0                      0   \n",
       "3                      0         0                      0   \n",
       "4                      0         0                      1   \n",
       "...                  ...       ...                    ...   \n",
       "290282                 0         0                      0   \n",
       "290283                 0         0                      0   \n",
       "290284                 0         0                      0   \n",
       "290285                 0         0                      0   \n",
       "290286                 0         0                      0   \n",
       "\n",
       "        end_turn_restricted  road_dist  cluster  hour  \n",
       "0                         1   0.278927        0     8  \n",
       "1                         0   0.278927        0     2  \n",
       "2                         1   0.278927        0     7  \n",
       "3                         1   0.278927        0     3  \n",
       "4                         0   0.278927        0     6  \n",
       "...                     ...        ...      ...   ...  \n",
       "290282                    0   0.146448        0     7  \n",
       "290283                    0   0.146448        0     7  \n",
       "290284                    0   0.146448        0     5  \n",
       "290285                    0   0.146448        0     3  \n",
       "290286                    0   0.146448        0     8  \n",
       "\n",
       "[85531 rows x 12 columns]"
      ]
     },
     "execution_count": 98,
     "metadata": {},
     "output_type": "execute_result"
    }
   ],
   "source": [
    "test.loc[test['cluster']==0,:].drop(['target','base_date'],axis=1)"
   ]
  },
  {
   "cell_type": "code",
   "execution_count": 99,
   "metadata": {},
   "outputs": [
    {
     "data": {
      "text/plain": [
       "array([23.94505675, 45.25289529, 27.08210549, ..., 27.43796468,\n",
       "       29.91733955, 27.65000332])"
      ]
     },
     "execution_count": 99,
     "metadata": {},
     "output_type": "execute_result"
    }
   ],
   "source": [
    "test['target'] = 0\n",
    "model1.predict(test.loc[test['cluster']==0,:].drop(['target','base_date'],axis=1))"
   ]
  },
  {
   "cell_type": "code",
   "execution_count": null,
   "metadata": {},
   "outputs": [],
   "source": [
    "test['target'] = 0\n",
    "test.loc[test['cluster']==0,'target'] = model1.predict(test.loc[test['cluster']==0,:].drop(['target'],axis=1))"
   ]
  },
  {
   "cell_type": "markdown",
   "metadata": {},
   "source": [
    "- 최고속도 / 제한속도 이거 잡으면 안될듯..\n",
    "- 도로 구간별로 먼가 군집화 시키긴 해야할 듯\n",
    "- 크게 도로 특성, 날씨 특성..."
   ]
  },
  {
   "cell_type": "markdown",
   "metadata": {},
   "source": [
    "# 최종 제출"
   ]
  },
  {
   "cell_type": "code",
   "execution_count": 73,
   "metadata": {},
   "outputs": [],
   "source": [
    "sample = pd.read_csv(data_dir_+'sample_submission.csv')"
   ]
  },
  {
   "cell_type": "code",
   "execution_count": 75,
   "metadata": {},
   "outputs": [],
   "source": [
    "pred = model.predict(test.drop(['base_date']+categori_columns,axis=1))"
   ]
  },
  {
   "cell_type": "code",
   "execution_count": 76,
   "metadata": {},
   "outputs": [],
   "source": [
    "sample['target'] = pred"
   ]
  },
  {
   "cell_type": "code",
   "execution_count": 77,
   "metadata": {},
   "outputs": [],
   "source": [
    "sample.to_csv(data_dir_ +'sample.csv',index=False)"
   ]
  },
  {
   "cell_type": "code",
   "execution_count": null,
   "metadata": {},
   "outputs": [],
   "source": []
  }
 ],
 "metadata": {
  "colab": {
   "authorship_tag": "ABX9TyPFCBiQGpF6XnN6AhuFvcUa",
   "collapsed_sections": [],
   "provenance": []
  },
  "kernelspec": {
   "display_name": "Python 3 (ipykernel)",
   "language": "python",
   "name": "python3"
  },
  "language_info": {
   "codemirror_mode": {
    "name": "ipython",
    "version": 3
   },
   "file_extension": ".py",
   "mimetype": "text/x-python",
   "name": "python",
   "nbconvert_exporter": "python",
   "pygments_lexer": "ipython3",
   "version": "3.9.12"
  },
  "toc": {
   "base_numbering": 1,
   "nav_menu": {},
   "number_sections": true,
   "sideBar": true,
   "skip_h1_title": false,
   "title_cell": "Table of Contents",
   "title_sidebar": "Contents",
   "toc_cell": false,
   "toc_position": {
    "height": "calc(100% - 180px)",
    "left": "10px",
    "top": "150px",
    "width": "282.83px"
   },
   "toc_section_display": true,
   "toc_window_display": true
  }
 },
 "nbformat": 4,
 "nbformat_minor": 1
}
